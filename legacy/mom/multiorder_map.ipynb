{
 "cells": [
  {
   "cell_type": "code",
   "execution_count": 1,
   "outputs": [],
   "source": [
    "import healpy\n",
    "import numpy as np\n",
    "import pyarrow as pa\n",
    "import pyarrow.parquet as pq\n",
    "from astropy.coordinates import SkyCoord\n",
    "from dustmaps.sfd import SFDQuery\n",
    "from joblib import Parallel, delayed\n",
    "from hipscat.pixel_math.hipscat_id import healpix_to_hipscat_id, HIPSCAT_ID_COLUMN\n",
    "\n",
    "from mom_builder import mom_from_array, mom_from_batch_it, gen_mom_from_fn\n",
    "from multiorder import AbstractMultiorderMapBuilder\n",
    "from min_max_mean_state import MinMaxMeanState, MinMaxMeanStateMerger\n",
    "from paths import *"
   ],
   "metadata": {
    "collapsed": false,
    "ExecuteTime": {
     "end_time": "2023-11-28T01:11:40.472432Z",
     "start_time": "2023-11-28T01:11:39.416748Z"
    }
   },
   "id": "initial_id"
  },
  {
   "cell_type": "code",
   "execution_count": 2,
   "outputs": [],
   "source": [
    "class StateMerger(MinMaxMeanStateMerger):\n",
    "    def __init__(self, threshold: float = 0.16):\n",
    "        self.threshold = threshold\n",
    "    \n",
    "    def validate_state(self, state: MinMaxMeanState) -> bool:\n",
    "        norm = max(map(abs, [state.min, state.max]))\n",
    "        if norm == 0.0:\n",
    "            return True\n",
    "        return (state.max - state.min) / norm <= self.threshold\n",
    "    \n",
    "sfd_query = SFDQuery(INPUT_DIR)\n",
    "\n",
    "def ebv(norder: int, index_range=None):\n",
    "    n_size = healpy.order2nside(norder)\n",
    "    n_pix = healpy.order2npix(norder)\n",
    "    \n",
    "    if not isinstance(index_range, np.ndarray):\n",
    "        if index_range is None:\n",
    "            index_range = (0, n_pix)\n",
    "        if index_range[1] > n_pix:\n",
    "            index_range = (index_range[0], n_pix)\n",
    "        index_range = np.arange(*index_range)\n",
    "    index_range = np.asarray(index_range, dtype=int)\n",
    "    \n",
    "    ra, dec = healpy.pix2ang(n_size, index_range, nest=True, lonlat=True)\n",
    "    coord = SkyCoord(ra=ra, dec=dec, unit='deg')\n",
    "    \n",
    "    return sfd_query(coord)\n",
    "\n",
    "\n",
    "def ebv_f64(norder: int, index_range=None):\n",
    "    return ebv(norder, index_range).astype(np.float64)\n",
    "    \n",
    "\n",
    "class Builder(StateMerger, AbstractMultiorderMapBuilder):\n",
    "    def __init__(self, max_norder, threshold, ebv_vals):\n",
    "        AbstractMultiorderMapBuilder.__init__(self, max_norder)\n",
    "        StateMerger.__init__(self, threshold)\n",
    "        \n",
    "        self.ebv = ebv_vals\n",
    "        \n",
    "    def calculate_state(self, index_max_norder: int) -> MinMaxMeanState:\n",
    "        value = self.ebv[index_max_norder].item()\n",
    "        return MinMaxMeanState(min=value, max=value, mean=value)"
   ],
   "metadata": {
    "collapsed": false,
    "ExecuteTime": {
     "end_time": "2023-11-28T01:11:42.577217Z",
     "start_time": "2023-11-28T01:11:42.540783Z"
    }
   },
   "id": "b387a5b5864e026a"
  },
  {
   "cell_type": "code",
   "execution_count": 3,
   "outputs": [],
   "source": [
    "def accumulate_gen(max_norder, threshold):\n",
    "    gen = gen_mom_from_fn(\n",
    "        fn=ebv,\n",
    "        max_norder=max_norder,\n",
    "        subtree_norder=0,\n",
    "        threshold=threshold,\n",
    "    )\n",
    "    tiles = [[(np.array([], dtype=np.uint64), np.array([], dtype=float))] for _ in range(max_norder + 1)]\n",
    "    for norder, indexes, values in gen:\n",
    "        tiles[norder].append((indexes, values))\n",
    "    for norder in range(max_norder + 1):\n",
    "        indexes = np.concatenate([indexes for indexes, values in tiles[norder]])\n",
    "        values = np.concatenate([values for indexes, values in tiles[norder]])\n",
    "        tiles[norder] = (indexes, values)\n",
    "    return tiles"
   ],
   "metadata": {
    "collapsed": false,
    "ExecuteTime": {
     "end_time": "2023-11-28T01:11:47.988351Z",
     "start_time": "2023-11-28T01:11:47.982221Z"
    }
   },
   "id": "40f259feed4cebf6"
  },
  {
   "cell_type": "code",
   "execution_count": 4,
   "outputs": [],
   "source": [
    "class Writer:\n",
    "    \"\"\"Write tiles to parquet files\n",
    "    \n",
    "    It doesn't optimize Parquet group size for now.\n",
    "    \"\"\"\n",
    "    def __init__(self, path=PARQUET_DIR):\n",
    "        self.path = path\n",
    "        self.path.mkdir(parents=True, exist_ok=True)\n",
    "        \n",
    "        self.parquet_writers = {}\n",
    "        \n",
    "    def _create_parquet_writer(self, norder):\n",
    "        path = self.path / f'pixel_norder={norder:02d}.parquet'\n",
    "        return pq.ParquetWriter(\n",
    "            path, \n",
    "            pa.schema([\n",
    "                pa.field(HIPSCAT_ID_COLUMN, pa.uint64()),\n",
    "                pa.field('pixel_Norder', pa.uint8()),\n",
    "                pa.field('pixel_Npix', pa.uint64()),\n",
    "                pa.field('ebv', pa.float32()),\n",
    "            ])\n",
    "        )\n",
    "        \n",
    "    def __enter__(self):\n",
    "        return self\n",
    "    \n",
    "    def __exit__(self, exc_type, exc_val, exc_tb):\n",
    "        for writer in self.parquet_writers.values():\n",
    "            writer.close()\n",
    "    \n",
    "    def write(self, norder, indexes, values):\n",
    "        hipscat_index = healpix_to_hipscat_id(norder, indexes)\n",
    "        table = pa.Table.from_arrays(\n",
    "            [hipscat_index, np.full(hipscat_index.shape, norder, dtype=np.uint8), indexes, values],\n",
    "            names=[HIPSCAT_ID_COLUMN, 'pixel_Norder', 'pixel_Npix', 'ebv']\n",
    "        )\n",
    "        \n",
    "        if norder not in self.parquet_writers:\n",
    "            self.parquet_writers[norder] = self._create_parquet_writer(norder)\n",
    "        self.parquet_writers[norder].write_table(table)"
   ],
   "metadata": {
    "collapsed": false,
    "ExecuteTime": {
     "end_time": "2023-11-28T01:11:50.703631Z",
     "start_time": "2023-11-28T01:11:50.699519Z"
    }
   },
   "id": "1cfc9b9a45fae89f"
  },
  {
   "cell_type": "code",
   "execution_count": 5,
   "outputs": [
    {
     "name": "stdout",
     "output_type": "stream",
     "text": [
      "CPU times: user 595 ms, sys: 126 ms, total: 722 ms\n",
      "Wall time: 751 ms\n",
      "CPU times: user 3.69 s, sys: 34.4 ms, total: 3.73 s\n",
      "Wall time: 3.77 s\n",
      "CPU times: user 40.5 ms, sys: 4.46 ms, total: 45 ms\n",
      "Wall time: 45.3 ms\n",
      "CPU times: user 679 ms, sys: 141 ms, total: 820 ms\n",
      "Wall time: 839 ms\n"
     ]
    }
   ],
   "source": [
    "max_norder = 9\n",
    "\n",
    "%time ebv_vals = ebv(max_norder)\n",
    "\n",
    "%time tiles = Builder(max_norder=max_norder, threshold=0.16, ebv_vals=ebv_vals).build()\n",
    "\n",
    "%time mom = mom_from_array(ebv_vals, max_norder, 0.16)\n",
    "\n",
    "%time mom_from_gen = accumulate_gen(max_norder, 0.16)"
   ],
   "metadata": {
    "collapsed": false,
    "ExecuteTime": {
     "end_time": "2023-11-28T01:11:56.550123Z",
     "start_time": "2023-11-28T01:11:51.136554Z"
    }
   },
   "id": "fdfe42795822e24c"
  },
  {
   "cell_type": "code",
   "execution_count": 6,
   "outputs": [
    {
     "data": {
      "text/plain": "[(array([], dtype=uint64), array([], dtype=float32)),\n (array([], dtype=uint64), array([], dtype=float32)),\n (array([], dtype=uint64), array([], dtype=float32)),\n (array([], dtype=uint64), array([], dtype=float32)),\n (array([], dtype=uint64), array([], dtype=float32)),\n (array([], dtype=uint64), array([], dtype=float32)),\n (array([ 2126,  2137,  2320,  2504,  2572,  5065,  5157,  6385,  6402,\n          6707,  6749,  6753,  6772,  6887,  8209, 10931, 10933, 12612,\n         12617, 12623, 12626, 12634, 12653, 12664, 12665, 12667, 12752,\n         12753, 12758, 12761, 12767, 13149, 13151, 13482, 13832, 13834,\n         13856, 13857, 13858, 13859, 13864, 13866, 13993, 16394, 16416,\n         16419, 16523, 16569, 16614, 16901, 16912, 16924, 16946, 16952,\n         16953, 16956, 16957, 16959, 17000, 17002, 17003, 17006, 17041,\n         17043, 17044, 17051, 17054, 17076, 17077, 17079, 17087, 17089,\n         17091, 17096, 17097, 17098, 17099, 17102, 17106, 17107, 17110,\n         17112, 17115, 17120, 17121, 17122, 17130, 17144, 17147, 17328,\n         17501, 18496, 18501, 18502, 18510, 18512, 18513, 18514, 18521,\n         18523, 18526, 18545, 18546, 18552, 18640, 18654, 18655, 18677,\n         18860, 18861, 18863, 18874, 18915, 19359, 19425, 19432, 19434,\n         19437, 19438, 19439, 21103, 21789, 24062, 24660, 24666, 24748,\n         24906, 25060, 25068, 25632, 25959, 25972, 26023, 26506, 26669,\n         26687, 26757, 26772, 26781, 26831, 26835, 26842, 26846, 26855,\n         26856, 27040, 27053, 27058, 27065, 27070, 27397, 27415, 28219,\n         28293, 28305, 28308, 28310, 28311, 28359, 28364, 28369, 28370,\n         28381, 28383, 28401, 28547, 28554, 28557, 28558, 28559, 28570,\n         28580, 28581, 28582, 28607, 28640, 28641, 28647, 28649, 28650,\n         28651, 28653, 29390, 29402, 29499, 29755, 30874, 31362, 31397,\n         31626, 32185, 32910, 35001, 36572, 36595, 36655, 37184, 37483,\n         37577, 37620, 38609, 38630, 38636, 38643, 38648, 38650, 38651,\n         38653, 38654, 38655, 38707, 38732, 38769, 38819, 38825, 38827,\n         38830, 38831, 38843, 38864, 39049, 39718, 40041, 40061, 40114,\n         40196, 40208, 40209, 40213, 40217, 40219, 40220, 40221, 40225,\n         40240, 40245, 40250, 40258, 40264, 40269, 40282, 40283, 40295,\n         40308, 40310, 40312, 40501, 40513, 40547, 40553, 41166, 43795,\n         43804, 43836, 43837, 43855, 43910, 43939, 43943, 43959, 43963,\n         43968, 43978, 43984, 43985, 44182, 44199, 44237, 44264, 44269,\n         44463, 44470, 44526, 44570, 44574, 44586, 44591, 44606, 44612,\n         44613, 44618, 44629, 44630, 44634, 44676, 44751, 44762, 44768,\n         44771, 44779, 44782, 44803, 44804, 44806, 44831, 44838, 44844,\n         44845, 44863, 44897, 44899, 44955, 44959, 45005, 45009, 45514,\n         45539, 45652, 45819, 45839, 45999, 47489, 48357, 48432, 48445,\n         48677, 48736, 48737], dtype=uint64),\n  array([0.06070334, 0.0493299 , 0.0749831 , 0.07522558, 0.08239712,\n         0.02771554, 0.01703778, 0.05617227, 0.03968946, 0.13484347,\n         0.07557958, 0.08660877, 0.10434915, 0.13651688, 0.04074471,\n         0.01282999, 0.01215283, 0.05430358, 0.05254464, 0.05466403,\n         0.04328649, 0.05464174, 0.09566275, 0.10633962, 0.09011591,\n         0.08207969, 0.07823768, 0.07463907, 0.06953095, 0.06109629,\n         0.06024358, 0.16942589, 0.15025543, 0.11186136, 0.15845959,\n         0.15049317, 0.17352957, 0.18938744, 0.18255988, 0.19116618,\n         0.18634173, 0.1937966 , 1.2100635 , 0.01221706, 0.01319113,\n         0.01308724, 0.01725949, 0.01975583, 0.02198708, 0.01954904,\n         0.01987904, 0.02630495, 0.02420314, 0.02711944, 0.02719666,\n         0.0279551 , 0.02827528, 0.02927641, 0.02991092, 0.03086619,\n         0.03043609, 0.03089121, 0.03183372, 0.03125227, 0.03114329,\n         0.03418084, 0.03455624, 0.03566531, 0.03684392, 0.03391352,\n         0.03892815, 0.03086354, 0.03394954, 0.03557699, 0.03547138,\n         0.03238299, 0.03521072, 0.03414907, 0.02870147, 0.02942946,\n         0.03030345, 0.02871655, 0.03207813, 0.03650137, 0.03489856,\n         0.03402324, 0.04174313, 0.03291536, 0.03430275, 0.02826463,\n         0.02092314, 0.04398638, 0.04199535, 0.03850181, 0.0498356 ,\n         0.0401654 , 0.03476347, 0.04172549, 0.03966834, 0.03682102,\n         0.0401502 , 0.04001022, 0.03894651, 0.04086333, 0.03644209,\n         0.04716031, 0.05248863, 0.05146791, 0.06965014, 0.07932249,\n         0.08391024, 0.08645223, 0.06189394, 0.06886795, 0.08354686,\n         0.06299303, 0.06157109, 0.05018365, 0.05391198, 0.04994311,\n         0.06067815, 0.03569573, 0.11693431, 0.07048267, 0.07224761,\n         0.06299517, 0.11689387, 0.04945616, 0.04776703, 0.07878637,\n         0.03696015, 0.03884558, 0.02918416, 0.03172215, 0.09038727,\n         0.04486999, 0.07138706, 0.04968325, 0.04430637, 0.03881288,\n         0.04641895, 0.03856632, 0.06231671, 0.04718412, 0.03879131,\n         0.05918471, 0.04601934, 0.04796109, 0.04436648, 0.04329251,\n         0.03407271, 0.02513015, 0.02001659, 0.02053824, 0.02230395,\n         0.02311968, 0.02418205, 0.02277958, 0.01755193, 0.01594063,\n         0.01691432, 0.01760042, 0.02058941, 0.01834983, 0.01722419,\n         0.02470061, 0.018381  , 0.02244551, 0.02306509, 0.02283304,\n         0.02158405, 0.02231337, 0.02452816, 0.02235229, 0.0187406 ,\n         0.01893474, 0.02010212, 0.02156081, 0.01877699, 0.01853926,\n         0.0185536 , 0.02030243, 0.4386242 , 0.4623356 , 1.1745789 ,\n         0.19848774, 0.24568531, 0.12074257, 0.0623373 , 0.04111756,\n         0.14548317, 0.06362332, 0.01241456, 0.01958109, 0.02097583,\n         0.02636768, 0.32110193, 0.13454647, 0.16104975, 0.2627565 ,\n         0.12384818, 0.158144  , 0.16258818, 0.13920075, 0.12976791,\n         0.1218971 , 0.12056946, 0.10204715, 0.10600114, 0.11472835,\n         0.08413021, 0.08620946, 0.05350022, 0.07776988, 0.08829952,\n         0.08438198, 0.08680394, 0.08986124, 0.06854919, 0.06510364,\n         0.0420199 , 0.28046793, 0.19081114, 0.11328938, 0.13315634,\n         0.0839859 , 0.07138961, 0.06873616, 0.05017645, 0.05886976,\n         0.05192884, 0.05558379, 0.05764249, 0.08161271, 0.06297716,\n         0.04490259, 0.05779213, 0.05925211, 0.05588958, 0.05633656,\n         0.06119268, 0.05876805, 0.04101706, 0.05738107, 0.05100971,\n         0.03658272, 0.10404173, 0.09743761, 0.1009757 , 0.10179035,\n         0.15317765, 0.0572315 , 0.0579678 , 0.05111759, 0.05527231,\n         0.05713898, 0.06929714, 0.08530843, 0.08523054, 0.07361251,\n         0.07911822, 0.05787975, 0.06835452, 0.06807652, 0.06488614,\n         0.13849372, 0.0847997 , 0.16998696, 0.10614501, 0.12677555,\n         0.09066536, 0.12247424, 0.13195385, 0.08674736, 0.09265865,\n         0.07414977, 0.07499085, 0.08244235, 0.09537353, 0.09457276,\n         0.09153083, 0.08950286, 0.09001555, 0.09961402, 0.06835718,\n         0.07423315, 0.07614569, 0.09111556, 0.08596337, 0.08975784,\n         0.08643225, 0.10592456, 0.08955072, 0.09854423, 0.10111699,\n         0.0825478 , 0.0818514 , 0.07472922, 0.09552185, 0.10622831,\n         0.10824607, 0.08423104, 0.08020186, 0.07578191, 0.08540744,\n         0.03234552, 0.03737799, 0.04800545, 0.04906201, 0.04033033,\n         0.05029152, 0.0488575 , 0.05878759, 0.04914622, 0.03616188,\n         0.15113455, 0.05865638, 0.06249931], dtype=float32)),\n (array([    10,     27,     32, ..., 196573, 196598, 196603], dtype=uint64),\n  array([0.08809196, 0.09791141, 0.0817821 , ..., 0.06092862, 0.08770549,\n         0.08448856], dtype=float32)),\n (array([     1,      2,      3, ..., 786425, 786430, 786431], dtype=uint64),\n  array([0.10807887, 0.08270916, 0.09041892, ..., 0.07588214, 0.08436271,\n         0.08354903], dtype=float32)),\n (array([      0,       1,       2, ..., 3145717, 3145718, 3145719],\n        dtype=uint64),\n  array([0.0893384 , 0.09909052, 0.08121548, ..., 0.07252491, 0.07644252,\n         0.08219531], dtype=float32))]"
     },
     "execution_count": 6,
     "metadata": {},
     "output_type": "execute_result"
    }
   ],
   "source": [
    "mom"
   ],
   "metadata": {
    "collapsed": false,
    "ExecuteTime": {
     "end_time": "2023-11-23T12:28:50.574045Z",
     "start_time": "2023-11-23T12:28:50.565743Z"
    }
   },
   "id": "725b3c57f4258bbe"
  },
  {
   "cell_type": "code",
   "execution_count": 7,
   "outputs": [
    {
     "data": {
      "text/plain": "[(array([], dtype=uint64), array([], dtype=float64)),\n (array([], dtype=uint64), array([], dtype=float64)),\n (array([], dtype=uint64), array([], dtype=float64)),\n (array([], dtype=uint64), array([], dtype=float64)),\n (array([], dtype=uint64), array([], dtype=float64)),\n (array([], dtype=uint64), array([], dtype=float64)),\n (array([ 2126,  2137,  2320,  2504,  2572,  5065,  5157,  6385,  6402,\n          6707,  6749,  6753,  6772,  6887,  8209, 10931, 10933, 12612,\n         12617, 12623, 12626, 12634, 12653, 12664, 12665, 12667, 12752,\n         12753, 12758, 12761, 12767, 13149, 13151, 13482, 13832, 13834,\n         13856, 13857, 13858, 13859, 13864, 13866, 13993, 16394, 16416,\n         16419, 16523, 16569, 16614, 16901, 16912, 16924, 16946, 16952,\n         16953, 16956, 16957, 16959, 17000, 17002, 17003, 17006, 17041,\n         17043, 17044, 17051, 17054, 17076, 17077, 17079, 17087, 17089,\n         17091, 17096, 17097, 17098, 17099, 17102, 17106, 17107, 17110,\n         17112, 17115, 17120, 17121, 17122, 17130, 17144, 17147, 17328,\n         17501, 18496, 18501, 18502, 18510, 18512, 18513, 18514, 18521,\n         18523, 18526, 18545, 18546, 18552, 18640, 18654, 18655, 18677,\n         18860, 18861, 18863, 18874, 18915, 19359, 19425, 19432, 19434,\n         19437, 19438, 19439, 21103, 21789, 24062, 24660, 24666, 24748,\n         24906, 25060, 25068, 25632, 25959, 25972, 26023, 26506, 26669,\n         26687, 26757, 26772, 26781, 26831, 26835, 26842, 26846, 26855,\n         26856, 27040, 27053, 27058, 27065, 27070, 27397, 27415, 28219,\n         28293, 28305, 28308, 28310, 28311, 28359, 28364, 28369, 28370,\n         28381, 28383, 28401, 28547, 28554, 28557, 28558, 28559, 28570,\n         28580, 28581, 28582, 28607, 28640, 28641, 28647, 28649, 28650,\n         28651, 28653, 29390, 29402, 29499, 29755, 30874, 31362, 31397,\n         31626, 32185, 32910, 35001, 36572, 36595, 36655, 37184, 37483,\n         37577, 37620, 38609, 38630, 38636, 38643, 38648, 38650, 38651,\n         38653, 38654, 38655, 38707, 38732, 38769, 38819, 38825, 38827,\n         38830, 38831, 38843, 38864, 39049, 39718, 40041, 40061, 40114,\n         40196, 40208, 40209, 40213, 40217, 40219, 40220, 40221, 40225,\n         40240, 40245, 40250, 40258, 40264, 40269, 40282, 40283, 40295,\n         40308, 40310, 40312, 40501, 40513, 40547, 40553, 41166, 43795,\n         43804, 43836, 43837, 43855, 43910, 43939, 43943, 43959, 43963,\n         43968, 43978, 43984, 43985, 44182, 44199, 44237, 44264, 44269,\n         44463, 44470, 44526, 44570, 44574, 44586, 44591, 44606, 44612,\n         44613, 44618, 44629, 44630, 44634, 44676, 44751, 44762, 44768,\n         44771, 44779, 44782, 44803, 44804, 44806, 44831, 44838, 44844,\n         44845, 44863, 44897, 44899, 44955, 44959, 45005, 45009, 45514,\n         45539, 45652, 45819, 45839, 45999, 47489, 48357, 48432, 48445,\n         48677, 48736, 48737], dtype=uint64),\n  array([0.06070334, 0.0493299 , 0.0749831 , 0.07522557, 0.08239711,\n         0.02771554, 0.01703778, 0.05617227, 0.03968946, 0.13484346,\n         0.07557958, 0.08660877, 0.10434915, 0.13651688, 0.04074472,\n         0.01283   , 0.01215283, 0.05430358, 0.05254464, 0.05466404,\n         0.04328649, 0.05464174, 0.09566275, 0.10633962, 0.09011592,\n         0.0820797 , 0.07823767, 0.07463907, 0.06953094, 0.06109629,\n         0.06024358, 0.1694259 , 0.15025543, 0.11186136, 0.15845959,\n         0.15049318, 0.17352956, 0.18938745, 0.18255988, 0.19116618,\n         0.18634173, 0.1937966 , 1.21006351, 0.01221706, 0.01319113,\n         0.01308724, 0.01725949, 0.01975583, 0.02198708, 0.01954904,\n         0.01987904, 0.02630495, 0.02420314, 0.02711943, 0.02719666,\n         0.0279551 , 0.02827529, 0.02927641, 0.02991092, 0.03086618,\n         0.03043609, 0.03089121, 0.03183372, 0.03125227, 0.03114329,\n         0.03418084, 0.03455624, 0.03566531, 0.03684392, 0.03391352,\n         0.03892815, 0.03086354, 0.03394954, 0.03557699, 0.03547138,\n         0.03238299, 0.03521072, 0.03414908, 0.02870147, 0.02942946,\n         0.03030345, 0.02871655, 0.03207813, 0.03650137, 0.03489857,\n         0.03402324, 0.04174313, 0.03291537, 0.03430275, 0.02826463,\n         0.02092314, 0.04398638, 0.04199536, 0.03850181, 0.0498356 ,\n         0.0401654 , 0.03476348, 0.04172549, 0.03966834, 0.03682102,\n         0.0401502 , 0.04001022, 0.03894651, 0.04086333, 0.03644209,\n         0.04716031, 0.05248863, 0.05146791, 0.06965014, 0.07932248,\n         0.08391024, 0.08645224, 0.06189394, 0.06886795, 0.08354686,\n         0.06299302, 0.06157109, 0.05018366, 0.05391198, 0.04994311,\n         0.06067814, 0.03569573, 0.11693431, 0.07048267, 0.07224762,\n         0.06299517, 0.11689386, 0.04945616, 0.04776703, 0.07878636,\n         0.03696015, 0.03884557, 0.02918416, 0.03172215, 0.09038727,\n         0.04486999, 0.07138706, 0.04968325, 0.04430637, 0.03881288,\n         0.04641894, 0.03856632, 0.06231671, 0.04718412, 0.03879131,\n         0.05918471, 0.04601934, 0.04796109, 0.04436648, 0.04329251,\n         0.03407271, 0.02513015, 0.02001659, 0.02053824, 0.02230395,\n         0.02311968, 0.02418205, 0.02277958, 0.01755193, 0.01594064,\n         0.01691432, 0.01760042, 0.02058941, 0.01834983, 0.01722419,\n         0.02470061, 0.018381  , 0.02244551, 0.02306509, 0.02283304,\n         0.02158405, 0.02231337, 0.02452816, 0.02235229, 0.0187406 ,\n         0.01893474, 0.02010212, 0.02156081, 0.01877699, 0.01853926,\n         0.0185536 , 0.02030243, 0.4386242 , 0.46233556, 1.17457888,\n         0.19848775, 0.24568531, 0.12074257, 0.0623373 , 0.04111755,\n         0.14548318, 0.06362332, 0.01241456, 0.01958109, 0.02097583,\n         0.02636768, 0.32110191, 0.13454647, 0.16104974, 0.26275649,\n         0.12384818, 0.15814398, 0.16258817, 0.13920075, 0.12976792,\n         0.12189711, 0.12056946, 0.10204716, 0.10600113, 0.11472835,\n         0.08413021, 0.08620947, 0.05350022, 0.07776988, 0.08829952,\n         0.08438198, 0.08680395, 0.08986124, 0.06854919, 0.06510364,\n         0.0420199 , 0.28046793, 0.19081113, 0.11328938, 0.13315634,\n         0.08398591, 0.07138961, 0.06873616, 0.05017645, 0.05886976,\n         0.05192884, 0.05558379, 0.0576425 , 0.0816127 , 0.06297716,\n         0.04490258, 0.05779213, 0.05925211, 0.05588958, 0.05633656,\n         0.06119268, 0.05876805, 0.04101706, 0.05738107, 0.05100971,\n         0.03658272, 0.10404173, 0.0974376 , 0.1009757 , 0.10179035,\n         0.15317766, 0.0572315 , 0.0579678 , 0.05111759, 0.05527231,\n         0.05713898, 0.06929714, 0.08530844, 0.08523054, 0.07361252,\n         0.07911822, 0.05787975, 0.06835453, 0.06807652, 0.06488614,\n         0.13849372, 0.0847997 , 0.16998696, 0.10614501, 0.12677555,\n         0.09066535, 0.12247423, 0.13195386, 0.08674737, 0.09265865,\n         0.07414977, 0.07499085, 0.08244235, 0.09537353, 0.09457276,\n         0.09153083, 0.08950285, 0.09001555, 0.09961402, 0.06835719,\n         0.07423315, 0.07614569, 0.09111555, 0.08596336, 0.08975784,\n         0.08643225, 0.10592456, 0.08955072, 0.09854422, 0.10111699,\n         0.0825478 , 0.0818514 , 0.07472922, 0.09552186, 0.10622831,\n         0.10824607, 0.08423105, 0.08020186, 0.07578191, 0.08540744,\n         0.03234552, 0.03737799, 0.04800545, 0.04906201, 0.04033033,\n         0.05029153, 0.0488575 , 0.05878759, 0.04914622, 0.03616188,\n         0.15113456, 0.05865637, 0.0624993 ])),\n (array([    10,     27,     32, ..., 196573, 196598, 196603], dtype=uint64),\n  array([0.08809197, 0.09791141, 0.0817821 , ..., 0.06092862, 0.0877055 ,\n         0.08448856])),\n (array([     1,      2,      3, ..., 786425, 786430, 786431], dtype=uint64),\n  array([0.10807886, 0.08270917, 0.09041892, ..., 0.07588214, 0.08436271,\n         0.08354903])),\n (array([      0,       1,       2, ..., 3145717, 3145718, 3145719],\n        dtype=uint64),\n  array([0.0893384 , 0.09909052, 0.08121548, ..., 0.07252491, 0.07644252,\n         0.08219531]))]"
     },
     "execution_count": 7,
     "metadata": {},
     "output_type": "execute_result"
    }
   ],
   "source": [
    "mom_from_gen"
   ],
   "metadata": {
    "collapsed": false,
    "ExecuteTime": {
     "end_time": "2023-11-23T12:28:50.574423Z",
     "start_time": "2023-11-23T12:28:50.569864Z"
    }
   },
   "id": "9f2a92c4b64cfddc"
  },
  {
   "cell_type": "code",
   "execution_count": 8,
   "outputs": [
    {
     "data": {
      "text/plain": "(318, 318)"
     },
     "execution_count": 8,
     "metadata": {},
     "output_type": "execute_result"
    }
   ],
   "source": [
    "len(tiles[6].indexes), len(mom[6][0])"
   ],
   "metadata": {
    "collapsed": false,
    "ExecuteTime": {
     "end_time": "2023-11-23T12:28:50.575195Z",
     "start_time": "2023-11-23T12:28:50.573080Z"
    }
   },
   "id": "bebcd957db7a6a51"
  },
  {
   "cell_type": "code",
   "execution_count": 9,
   "outputs": [
    {
     "name": "stdout",
     "output_type": "stream",
     "text": [
      "CPU times: user 14min 1s, sys: 1min 14s, total: 15min 15s\n",
      "Wall time: 2min 37s\n"
     ]
    }
   ],
   "source": [
    "%%time\n",
    "\n",
    "max_norder = 14\n",
    "threshold = 0.16 / 2\n",
    "batch_size = 1 << 20\n",
    "\n",
    "batches = range(0, healpy.order2npix(max_norder) + batch_size, batch_size)\n",
    "\n",
    "it = Parallel(n_jobs=-1, return_as=\"generator\", backend=\"threading\")(\n",
    "    delayed(ebv)(max_norder, rng)\n",
    "    for rng in zip(batches, batches[1:])\n",
    ")\n",
    "\n",
    "mom = mom_from_batch_it(it, max_norder, threshold)"
   ],
   "metadata": {
    "collapsed": false,
    "ExecuteTime": {
     "end_time": "2023-11-23T12:31:27.787181Z",
     "start_time": "2023-11-23T12:28:50.575760Z"
    }
   },
   "id": "ade3acebc6c81a22"
  },
  {
   "cell_type": "code",
   "execution_count": 6,
   "outputs": [
    {
     "name": "stdout",
     "output_type": "stream",
     "text": [
      "Number of tiles: 25_869_093 / 3_221_225_472 (0.80%)\n"
     ]
    }
   ],
   "source": [
    "ntiles = sum(len(indexes) for indexes, values in mom)\n",
    "max_ntiles = healpy.order2npix(max_norder)\n",
    "print(f\"Number of tiles: {ntiles:_d} / {max_ntiles:_d} ({ntiles / max_ntiles:.2%})\")"
   ],
   "metadata": {
    "collapsed": false,
    "ExecuteTime": {
     "end_time": "2023-11-18T13:38:31.323782Z",
     "start_time": "2023-11-18T13:38:31.245028Z"
    }
   },
   "id": "fd239bb8683df17d"
  },
  {
   "cell_type": "code",
   "execution_count": 5,
   "outputs": [
    {
     "name": "stdout",
     "output_type": "stream",
     "text": [
      "CPU times: user 14h 59min 54s, sys: 3h 43min 14s, total: 18h 43min 9s\n",
      "Wall time: 4h 7min\n"
     ]
    }
   ],
   "source": [
    "%%time \n",
    "\n",
    "max_norder = 17\n",
    "threshold = 0.16 / 2**(max_norder - 13)\n",
    "subtree_norder = max(max_norder - 12, 0)\n",
    "\n",
    "\n",
    "def worker(n_jobs, parallel):\n",
    "    def fn(norder, rng):\n",
    "        n_batch = len(rng) // n_jobs\n",
    "        batches = parallel([\n",
    "            delayed(ebv)(norder, rng[i:i + n_batch])\n",
    "            for i in range(0, len(rng), n_batch)\n",
    "        ])\n",
    "        return np.concatenate(batches)\n",
    "    return fn\n",
    "\n",
    "\n",
    "import shutil\n",
    "shutil.rmtree(PARQUET_DIR, ignore_errors=True)\n",
    "\n",
    "\n",
    "with Parallel(n_jobs=12, backend=\"threading\") as parallel:\n",
    "    worker = worker(parallel.n_jobs, parallel)\n",
    "    with Writer() as writer:\n",
    "        for tiles in gen_mom_from_fn(\n",
    "                worker,\n",
    "                max_norder,\n",
    "                subtree_norder=subtree_norder,\n",
    "                threshold=threshold\n",
    "        ):\n",
    "            writer.write(*tiles)"
   ],
   "metadata": {
    "collapsed": false,
    "ExecuteTime": {
     "end_time": "2023-11-28T00:29:57.813567Z",
     "start_time": "2023-11-27T20:22:57.228109Z"
    }
   },
   "id": "9a9ecc9a180190a6"
  },
  {
   "cell_type": "markdown",
   "source": [
    "### Validation"
   ],
   "metadata": {
    "collapsed": false
   },
   "id": "4ba97483d272ab98"
  },
  {
   "cell_type": "code",
   "execution_count": 32,
   "outputs": [
    {
     "name": "stdout",
     "output_type": "stream",
     "text": [
      "Number of tiles: 1_849_261_851 / 206_158_430_208 (0.90%)\n"
     ]
    }
   ],
   "source": [
    "max_norder = 17\n",
    "\n",
    "parquet_dataset = pa.dataset.dataset(PARQUET_DIR, format='parquet')\n",
    "\n",
    "ntiles = sum(fragment.count_rows() for fragment in parquet_dataset.get_fragments())\n",
    "max_ntiles = healpy.order2npix(max_norder)\n",
    "print(f\"Number of tiles: {ntiles:_d} / {max_ntiles:_d} ({ntiles / max_ntiles:.2%})\")\n",
    "\n",
    "area_in_max_norder = 0\n",
    "for fragment in parquet_dataset.get_fragments():\n",
    "    path = Path(fragment.path)\n",
    "    norder = int(path.name.split('=')[1].split('.')[0])\n",
    "    assert norder <= max_norder\n",
    "    area = 4 ** (max_norder - norder)\n",
    "    nrows = fragment.count_rows()\n",
    "    area_in_max_norder += nrows * area    \n",
    "assert area_in_max_norder == max_ntiles, f\"{area_in_max_norder} != {max_ntiles}\""
   ],
   "metadata": {
    "collapsed": false,
    "ExecuteTime": {
     "end_time": "2023-11-28T01:22:47.743297Z",
     "start_time": "2023-11-28T01:22:47.559412Z"
    }
   },
   "id": "9fd304da3bc64922"
  }
 ],
 "metadata": {
  "kernelspec": {
   "display_name": "Python 3",
   "language": "python",
   "name": "python3"
  },
  "language_info": {
   "codemirror_mode": {
    "name": "ipython",
    "version": 2
   },
   "file_extension": ".py",
   "mimetype": "text/x-python",
   "name": "python",
   "nbconvert_exporter": "python",
   "pygments_lexer": "ipython2",
   "version": "2.7.6"
  }
 },
 "nbformat": 4,
 "nbformat_minor": 5
}
