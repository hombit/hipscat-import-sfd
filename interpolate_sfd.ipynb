{
 "cells": [
  {
   "cell_type": "code",
   "execution_count": 1,
   "id": "301f48a96a3afcf5",
   "metadata": {
    "ExecuteTime": {
     "end_time": "2023-10-17T14:51:16.149177Z",
     "start_time": "2023-10-17T14:51:14.699193Z"
    },
    "collapsed": false,
    "jupyter": {
     "outputs_hidden": false
    }
   },
   "outputs": [],
   "source": [
    "import gzip\n",
    "from pathlib import Path\n",
    "from shutil import copyfileobj\n",
    "\n",
    "import dask.distributed\n",
    "import healpy\n",
    "import hipscat_import.pipeline as runner\n",
    "import numpy as np\n",
    "import pandas as pd\n",
    "from astropy.coordinates import SkyCoord\n",
    "from dustmaps.sfd import SFDQuery\n",
    "from hipscat_import.catalog.arguments import ImportArguments\n",
    "from tqdm import tqdm"
   ]
  },
  {
   "cell_type": "code",
   "execution_count": 2,
   "id": "c9777f99c64807d2",
   "metadata": {
    "ExecuteTime": {
     "end_time": "2023-10-17T14:51:16.152412Z",
     "start_time": "2023-10-17T14:51:16.149994Z"
    },
    "collapsed": false,
    "jupyter": {
     "outputs_hidden": false
    }
   },
   "outputs": [],
   "source": [
    "ORDER = 14\n",
    "BATCH_SIZE = 1 << 20\n",
    "\n",
    "NSIDE = healpy.order2nside(ORDER)\n",
    "NPIX = healpy.nside2npix(NSIDE)\n",
    "\n",
    "NBATCHES = int(np.ceil(NPIX / BATCH_SIZE))\n",
    "NBATCHES_LEN = len(str(NBATCHES - 1))"
   ]
  },
  {
   "cell_type": "code",
   "execution_count": 3,
   "id": "51384d49be5c9ad5",
   "metadata": {
    "ExecuteTime": {
     "end_time": "2023-10-17T14:51:16.155413Z",
     "start_time": "2023-10-17T14:51:16.152377Z"
    },
    "collapsed": false,
    "jupyter": {
     "outputs_hidden": false
    }
   },
   "outputs": [],
   "source": [
    "DATA_DIR = Path('./data')\n",
    "INPUT_DIR = DATA_DIR / 'input'\n",
    "PARQUET_DIR = DATA_DIR / 'tmp-parquet'\n",
    "OUTPUT_DIR = DATA_DIR / 'output'"
   ]
  },
  {
   "cell_type": "markdown",
   "id": "b5f4b6bbb05b0e9e",
   "metadata": {
    "collapsed": false,
    "jupyter": {
     "outputs_hidden": false
    }
   },
   "source": [
    "Decompress the input files for `dustmaps` and create `SFDQuery` instance"
   ]
  },
  {
   "cell_type": "code",
   "execution_count": 4,
   "id": "d3f75a60b7e16891",
   "metadata": {
    "ExecuteTime": {
     "end_time": "2023-10-17T14:51:16.158217Z",
     "start_time": "2023-10-17T14:51:16.155517Z"
    },
    "collapsed": false,
    "jupyter": {
     "outputs_hidden": false
    }
   },
   "outputs": [],
   "source": [
    "for gz_file in INPUT_DIR.glob('*.gz'):\n",
    "    decompressed = INPUT_DIR / gz_file.stem\n",
    "    if decompressed.exists():\n",
    "        continue\n",
    "    with gzip.open(gz_file, 'rb') as f_in:\n",
    "        with open(decompressed, 'wb') as f_out:\n",
    "            copyfileobj(f_in, f_out)"
   ]
  },
  {
   "cell_type": "code",
   "execution_count": 5,
   "id": "e282237cff36e023",
   "metadata": {
    "ExecuteTime": {
     "end_time": "2023-10-17T14:51:16.184094Z",
     "start_time": "2023-10-17T14:51:16.157804Z"
    },
    "collapsed": false,
    "jupyter": {
     "outputs_hidden": false
    }
   },
   "outputs": [],
   "source": [
    "sfd = SFDQuery(INPUT_DIR)"
   ]
  },
  {
   "cell_type": "markdown",
   "id": "9c2150a5b58f3903",
   "metadata": {
    "collapsed": false,
    "jupyter": {
     "outputs_hidden": false
    }
   },
   "source": [
    "Generate pixel list, coordinates and E(B-V)"
   ]
  },
  {
   "cell_type": "code",
   "execution_count": null,
   "id": "7be936db4427cd0",
   "metadata": {
    "ExecuteTime": {
     "start_time": "2023-10-17T14:51:16.186953Z"
    },
    "collapsed": false,
    "is_executing": true,
    "jupyter": {
     "outputs_hidden": false
    }
   },
   "outputs": [
    {
     "name": "stderr",
     "output_type": "stream",
     "text": [
      "/Users/hombit/.virtualenvs/hipscat-import-sfd/lib/python3.11/site-packages/distributed/client.py:3163: UserWarning: Sending large graph of size 128.01 MiB.\n",
      "This may cause some slowdown.\n",
      "Consider scattering data ahead of time and using futures.\n",
      "  warnings.warn(\n"
     ]
    }
   ],
   "source": [
    "def gen_pixel_list():\n",
    "    for i in range(0, NPIX, BATCH_SIZE):\n",
    "        yield i, min(i + BATCH_SIZE, NPIX)\n",
    "\n",
    "def ebv(pixels):\n",
    "    ra, dec = healpy.pix2ang(NSIDE, pixels, nest='nested', lonlat=True)\n",
    "    coord = SkyCoord(ra=ra, dec=dec, unit='deg')\n",
    "    return sfd(coord)\n",
    "\n",
    "def write_parquet(filename, pixels, values):\n",
    "    df = pd.DataFrame({f'healpix{ORDER}': pixels, 'ebv': values})\n",
    "    df.to_parquet(filename, index=False)\n",
    "\n",
    "def parquet_worker(i, start_end):\n",
    "    pixels = np.arange(*start_end)\n",
    "    values = ebv(pixels)\n",
    "    filename = PARQUET_DIR / f'{i:0{NBATCHES_LEN}}.parquet'\n",
    "    write_parquet(filename, pixels, values)\n",
    "\n",
    "\n",
    "with dask.distributed.Client(n_workers=2) as client:\n",
    "    futures = [client.submit(parquet_worker, *args) for args in enumerate(gen_pixel_list())]\n",
    "    _results = client.gather(futures)"
   ]
  },
  {
   "cell_type": "code",
   "execution_count": null,
   "id": "27bd850e9db7e914",
   "metadata": {
    "collapsed": false,
    "is_executing": true,
    "jupyter": {
     "outputs_hidden": false
    }
   },
   "outputs": [],
   "source": []
  }
 ],
 "metadata": {
  "kernelspec": {
   "display_name": "Python 3 (ipykernel)",
   "language": "python",
   "name": "python3"
  },
  "language_info": {
   "codemirror_mode": {
    "name": "ipython",
    "version": 3
   },
   "file_extension": ".py",
   "mimetype": "text/x-python",
   "name": "python",
   "nbconvert_exporter": "python",
   "pygments_lexer": "ipython3",
   "version": "3.11.6"
  }
 },
 "nbformat": 4,
 "nbformat_minor": 5
}
