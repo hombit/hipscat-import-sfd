{
 "cells": [
  {
   "cell_type": "code",
   "execution_count": 1,
   "id": "301f48a96a3afcf5",
   "metadata": {
    "collapsed": false,
    "ExecuteTime": {
     "end_time": "2023-11-03T14:55:16.672214Z",
     "start_time": "2023-11-03T14:55:15.533658Z"
    }
   },
   "outputs": [],
   "source": [
    "import gzip\n",
    "from pathlib import Path\n",
    "from shutil import copyfileobj\n",
    "\n",
    "import dask.distributed\n",
    "import healpy\n",
    "import numpy as np\n",
    "import pandas as pd\n",
    "from astropy.coordinates import SkyCoord\n",
    "from dustmaps.sfd import SFDQuery\n",
    "from hipscat.pixel_math.hipscat_id import HIPSCAT_ID_COLUMN, HIPSCAT_ID_HEALPIX_ORDER, healpix_to_hipscat_id\n",
    "\n",
    "from paths import *"
   ]
  },
  {
   "cell_type": "code",
   "execution_count": 2,
   "id": "c9777f99c64807d2",
   "metadata": {
    "collapsed": false,
    "ExecuteTime": {
     "end_time": "2023-11-03T14:55:16.678814Z",
     "start_time": "2023-11-03T14:55:16.673220Z"
    }
   },
   "outputs": [],
   "source": [
    "ORDER = 14\n",
    "assert HIPSCAT_ID_HEALPIX_ORDER >= ORDER\n",
    "BATCH_SIZE = 1 << 20\n",
    "\n",
    "NSIDE = healpy.order2nside(ORDER)\n",
    "NPIX = healpy.nside2npix(NSIDE)\n",
    "\n",
    "NBATCHES = int(np.ceil(NPIX / BATCH_SIZE))\n",
    "NBATCHES_LEN = len(str(NBATCHES - 1))"
   ]
  },
  {
   "cell_type": "markdown",
   "id": "b5f4b6bbb05b0e9e",
   "metadata": {
    "collapsed": false
   },
   "source": [
    "Decompress the input files for `dustmaps` and create `SFDQuery` instance"
   ]
  },
  {
   "cell_type": "code",
   "execution_count": 3,
   "id": "d3f75a60b7e16891",
   "metadata": {
    "collapsed": false,
    "ExecuteTime": {
     "end_time": "2023-11-03T14:55:16.678915Z",
     "start_time": "2023-11-03T14:55:16.675306Z"
    }
   },
   "outputs": [],
   "source": [
    "for gz_file in INPUT_DIR.glob('*.gz'):\n",
    "    decompressed = INPUT_DIR / gz_file.stem\n",
    "    if decompressed.exists():\n",
    "        continue\n",
    "    with gzip.open(gz_file, 'rb') as f_in:\n",
    "        with open(decompressed, 'wb') as f_out:\n",
    "            copyfileobj(f_in, f_out)"
   ]
  },
  {
   "cell_type": "markdown",
   "id": "9c2150a5b58f3903",
   "metadata": {
    "collapsed": false
   },
   "source": [
    "Generate pixel list, coordinates and E(B-V)"
   ]
  },
  {
   "cell_type": "code",
   "execution_count": 4,
   "id": "7be936db4427cd0",
   "metadata": {
    "collapsed": false,
    "ExecuteTime": {
     "end_time": "2023-11-03T14:57:35.399048Z",
     "start_time": "2023-11-03T14:55:16.679728Z"
    }
   },
   "outputs": [],
   "source": [
    "def gen_pixel_list():\n",
    "    for i in range(0, NPIX, BATCH_SIZE):\n",
    "        yield i, min(i + BATCH_SIZE, NPIX)\n",
    "\n",
    "def ebv(sfd, pixels):\n",
    "    ra, dec = healpy.pix2ang(NSIDE, pixels, nest='nested', lonlat=True)\n",
    "    coord = SkyCoord(ra=ra, dec=dec, unit='deg')\n",
    "    return sfd(coord)\n",
    "\n",
    "def pixel_to_hipscat_id(pixels):\n",
    "    order_diff = HIPSCAT_ID_HEALPIX_ORDER - ORDER\n",
    "    return pixels << order_diff\n",
    "\n",
    "def parquet_worker(sfd, i, start_end):\n",
    "    pixels = np.arange(*start_end, dtype=np.uint32)\n",
    "    values = ebv(sfd, pixels)\n",
    "    filename = PARQUET_DIR / f'{i:0{NBATCHES_LEN}}.parquet'\n",
    "    hipscat_id = healpix_to_hipscat_id(ORDER, pixels)\n",
    "    \n",
    "    df = pd.DataFrame({\n",
    "        HIPSCAT_ID_COLUMN: hipscat_id,\n",
    "        'pixel_Norder': np.asarray(ORDER, dtype=np.uint8),\n",
    "        'pixel_Npix': pixels,\n",
    "        'ebv': np.asarray(values, dtype=np.float32),\n",
    "    })\n",
    "    df.to_parquet(filename, index=False)\n",
    "\n",
    "\n",
    "with dask.distributed.Client() as client:\n",
    "    sfd = dask.delayed(SFDQuery)(INPUT_DIR)\n",
    "    \n",
    "    pixel_lists = list(gen_pixel_list())\n",
    "    delayed_worker = dask.delayed(parquet_worker)\n",
    "    \n",
    "    futures = [delayed_worker(sfd, i, start_end) for i, start_end in enumerate(pixel_lists)]\n",
    "    _result = dask.compute(*futures)"
   ]
  }
 ],
 "metadata": {
  "kernelspec": {
   "display_name": "Python 3 (ipykernel)",
   "language": "python",
   "name": "python3"
  },
  "language_info": {
   "codemirror_mode": {
    "name": "ipython",
    "version": 3
   },
   "file_extension": ".py",
   "mimetype": "text/x-python",
   "name": "python",
   "nbconvert_exporter": "python",
   "pygments_lexer": "ipython3",
   "version": "3.11.6"
  }
 },
 "nbformat": 4,
 "nbformat_minor": 5
}
