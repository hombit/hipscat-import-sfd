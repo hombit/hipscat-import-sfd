{
 "cells": [
  {
   "cell_type": "code",
   "execution_count": 1,
   "outputs": [],
   "source": [
    "import gzip\n",
    "from pathlib import Path\n",
    "from shutil import copyfileobj\n",
    "\n",
    "import healpy\n",
    "import hipscat_import.pipeline as runner\n",
    "import numpy as np\n",
    "import pandas as pd\n",
    "from astropy.coordinates import SkyCoord\n",
    "from dustmaps.sfd import SFDQuery\n",
    "from hipscat_import.catalog.arguments import ImportArguments\n",
    "from tqdm import tqdm\n",
    "\n",
    "from utils import get_hemisphere"
   ],
   "metadata": {
    "collapsed": false,
    "ExecuteTime": {
     "end_time": "2023-10-17T14:51:16.149177Z",
     "start_time": "2023-10-17T14:51:14.699193Z"
    }
   },
   "id": "301f48a96a3afcf5"
  },
  {
   "cell_type": "code",
   "execution_count": 2,
   "outputs": [],
   "source": [
    "ORDER = 14\n",
    "BATCH_SIZE = 1 << 20\n",
    "\n",
    "NSIDE = healpy.order2nside(ORDER)\n",
    "NPIX = healpy.nside2npix(NSIDE)\n",
    "\n",
    "NBATCHES = int(np.ceil(NPIX / BATCH_SIZE))\n",
    "NBATCHES_LEN = len(str(NBATCHES - 1))"
   ],
   "metadata": {
    "collapsed": false,
    "ExecuteTime": {
     "end_time": "2023-10-17T14:51:16.152412Z",
     "start_time": "2023-10-17T14:51:16.149994Z"
    }
   },
   "id": "c9777f99c64807d2"
  },
  {
   "cell_type": "code",
   "execution_count": 3,
   "outputs": [],
   "source": [
    "DATA_DIR = Path('./data')\n",
    "INPUT_DIR = DATA_DIR / 'input'\n",
    "PARQUET_DIR = DATA_DIR / 'tmp-parquet'\n",
    "OUTPUT_DIR = DATA_DIR / 'output'"
   ],
   "metadata": {
    "collapsed": false,
    "ExecuteTime": {
     "end_time": "2023-10-17T14:51:16.155413Z",
     "start_time": "2023-10-17T14:51:16.152377Z"
    }
   },
   "id": "51384d49be5c9ad5"
  },
  {
   "cell_type": "markdown",
   "source": [
    "Decompress the input files for `dustmaps` and create `SFDQuery` instance"
   ],
   "metadata": {
    "collapsed": false
   },
   "id": "b5f4b6bbb05b0e9e"
  },
  {
   "cell_type": "code",
   "execution_count": 4,
   "outputs": [],
   "source": [
    "for gz_file in INPUT_DIR.glob('*.gz'):\n",
    "    decompressed = INPUT_DIR / gz_file.stem\n",
    "    if decompressed.exists():\n",
    "        continue\n",
    "    with gzip.open(gz_file, 'rb') as f_in:\n",
    "        with open(decompressed, 'wb') as f_out:\n",
    "            copyfileobj(f_in, f_out)"
   ],
   "metadata": {
    "collapsed": false,
    "ExecuteTime": {
     "end_time": "2023-10-17T14:51:16.158217Z",
     "start_time": "2023-10-17T14:51:16.155517Z"
    }
   },
   "id": "d3f75a60b7e16891"
  },
  {
   "cell_type": "code",
   "execution_count": 5,
   "outputs": [],
   "source": [
    "sfd = SFDQuery(INPUT_DIR)"
   ],
   "metadata": {
    "collapsed": false,
    "ExecuteTime": {
     "end_time": "2023-10-17T14:51:16.184094Z",
     "start_time": "2023-10-17T14:51:16.157804Z"
    }
   },
   "id": "e282237cff36e023"
  },
  {
   "cell_type": "markdown",
   "source": [
    "Generate pixel list, coordinates and E(B-V)"
   ],
   "metadata": {
    "collapsed": false
   },
   "id": "9c2150a5b58f3903"
  },
  {
   "cell_type": "code",
   "execution_count": null,
   "outputs": [
    {
     "name": "stderr",
     "output_type": "stream",
     "text": [
      "/Users/hombit/.virtualenvs/hipscat-import-sfd/lib/python3.11/site-packages/distributed/client.py:3163: UserWarning: Sending large graph of size 128.01 MiB.\n",
      "This may cause some slowdown.\n",
      "Consider scattering data ahead of time and using futures.\n",
      "  warnings.warn(\n"
     ]
    }
   ],
   "source": [
    "def gen_pixel_list():\n",
    "    for i in range(0, NPIX, BATCH_SIZE):\n",
    "        yield i, min(i + BATCH_SIZE, NPIX)\n",
    "        \n",
    "def ebv(pixels):\n",
    "    ra, dec = healpy.pix2ang(NSIDE, pixels, nest='ring', lonlat=True)\n",
    "    coord = SkyCoord(ra=ra, dec=dec, unit='deg')\n",
    "    return sfd(coord)\n",
    "    \n",
    "def write_parquet(filename, pixels, values):\n",
    "    df = pd.DataFrame({'pixel': pixels, 'ebv': values})\n",
    "    df.to_parquet(filename, index=False)\n",
    "    \n",
    "for i, (start, end) in tqdm(enumerate(gen_pixel_list()), total=NBATCHES):\n",
    "    pixels = np.arange(start, end)\n",
    "    values = ebv(pixels)\n",
    "    filename = PARQUET_DIR / f'{i:0{NBATCHES_LEN}}.parquet'\n",
    "    write_parquet(filename, pixels, values)"
   ],
   "metadata": {
    "collapsed": false,
    "is_executing": true,
    "ExecuteTime": {
     "start_time": "2023-10-17T14:51:16.186953Z"
    }
   },
   "id": "7be936db4427cd0"
  },
  {
   "cell_type": "code",
   "execution_count": null,
   "outputs": [],
   "source": [],
   "metadata": {
    "collapsed": false,
    "is_executing": true
   },
   "id": "27bd850e9db7e914"
  }
 ],
 "metadata": {
  "kernelspec": {
   "display_name": "Python 3",
   "language": "python",
   "name": "python3"
  },
  "language_info": {
   "codemirror_mode": {
    "name": "ipython",
    "version": 2
   },
   "file_extension": ".py",
   "mimetype": "text/x-python",
   "name": "python",
   "nbconvert_exporter": "python",
   "pygments_lexer": "ipython2",
   "version": "2.7.6"
  }
 },
 "nbformat": 4,
 "nbformat_minor": 5
}
