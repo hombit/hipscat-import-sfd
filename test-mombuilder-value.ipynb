{
 "cells": [
  {
   "cell_type": "code",
   "id": "d1b1bbc4-a7e1-4b11-a425-42c5494a1fd6",
   "metadata": {
    "ExecuteTime": {
     "end_time": "2024-07-15T14:53:02.344426Z",
     "start_time": "2024-07-15T14:53:01.452485Z"
    }
   },
   "source": [
    "from pathlib import Path\n",
    "\n",
    "import numpy as np\n",
    "import pyarrow as pa\n",
    "import pyarrow.parquet as pq\n",
    "from astropy.coordinates import Angle, Latitude, Longitude\n",
    "from hipscat.pixel_math.hipscat_id import healpix_to_hipscat_id, HIPSCAT_ID_COLUMN\n",
    "from mocpy import MOC\n",
    "from mom_builder import MOMMerger\n",
    "from mom_builder.mom_generator import gen_mom_from_fn\n",
    "from tqdm import tqdm"
   ],
   "outputs": [],
   "execution_count": 1
  },
  {
   "cell_type": "code",
   "id": "e8bff972-a8df-4c1c-8404-a093b506cf86",
   "metadata": {
    "ExecuteTime": {
     "end_time": "2024-07-15T14:53:02.349715Z",
     "start_time": "2024-07-15T14:53:02.345469Z"
    }
   },
   "source": [
    "class Writer:\n",
    "    \"\"\"Write tiles to parquet files\n",
    "    \n",
    "    It doesn't optimize Parquet group size for now.\n",
    "    \"\"\"\n",
    "\n",
    "    def __init__(self, path, col_name, col_type):\n",
    "        self.path = Path(path)\n",
    "        self.path.mkdir(parents=True, exist_ok=True)\n",
    "\n",
    "        self.col_name = col_name\n",
    "        self.col_type = col_type\n",
    "\n",
    "        self.parquet_writers = {}\n",
    "\n",
    "    def _create_parquet_writer(self, norder):\n",
    "        path = self.path / f'pixel_norder={norder:02d}.parquet'\n",
    "        return pq.ParquetWriter(\n",
    "            path,\n",
    "            pa.schema([\n",
    "                pa.field(HIPSCAT_ID_COLUMN, pa.uint64()),\n",
    "                pa.field('pixel_Norder', pa.uint8()),\n",
    "                pa.field('pixel_Npix', pa.uint64()),\n",
    "                pa.field(self.col_name, self.col_type),\n",
    "            ])\n",
    "        )\n",
    "\n",
    "    def __enter__(self):\n",
    "        return self\n",
    "\n",
    "    def __exit__(self, exc_type, exc_val, exc_tb):\n",
    "        for writer in self.parquet_writers.values():\n",
    "            writer.close()\n",
    "\n",
    "    def write(self, norder, indexes, values):\n",
    "        hipscat_index = healpix_to_hipscat_id(norder, indexes)\n",
    "        table = pa.Table.from_arrays(\n",
    "            [hipscat_index, np.full(hipscat_index.shape, norder, dtype=np.uint8), indexes, values],\n",
    "            names=[HIPSCAT_ID_COLUMN, 'pixel_Norder', 'pixel_Npix', self.col_name]\n",
    "        )\n",
    "\n",
    "        if norder not in self.parquet_writers:\n",
    "            self.parquet_writers[norder] = self._create_parquet_writer(norder)\n",
    "        self.parquet_writers[norder].write_table(table)"
   ],
   "outputs": [],
   "execution_count": 2
  },
  {
   "cell_type": "code",
   "id": "8d4a96ac-0026-48c3-ae61-64432d7318ac",
   "metadata": {
    "ExecuteTime": {
     "end_time": "2024-07-15T14:53:02.351931Z",
     "start_time": "2024-07-15T14:53:02.350380Z"
    }
   },
   "source": [
    "max_norder = 14\n",
    "split_norder = 2"
   ],
   "outputs": [],
   "execution_count": 3
  },
  {
   "cell_type": "code",
   "id": "b3c6b5bc-4f83-4a75-b6f1-e361c7c6d73a",
   "metadata": {
    "ExecuteTime": {
     "end_time": "2024-07-15T14:53:02.355413Z",
     "start_time": "2024-07-15T14:53:02.352614Z"
    }
   },
   "source": [
    "n = 20_000\n",
    "rng = np.random.default_rng(0)\n",
    "ra = Longitude(rng.uniform(0, 360, n), 'deg')\n",
    "dec = Latitude(np.arcsin(rng.uniform(-1, 1, n)), 'rad')\n",
    "radius = Angle(rng.lognormal(1.0, 0.5, n), 'arcmin')"
   ],
   "outputs": [],
   "execution_count": 4
  },
  {
   "metadata": {
    "ExecuteTime": {
     "end_time": "2024-07-15T14:53:02.357891Z",
     "start_time": "2024-07-15T14:53:02.356607Z"
    }
   },
   "cell_type": "code",
   "source": [
    "# mocs = MOC.from_cones(lon=ra, lat=dec, radius=radius, max_depth=19, delta_depth=2)\n",
    "# moc = mocs[0].union(*mocs[1:])\n",
    "# del mocs"
   ],
   "id": "ae1f5c8e0682c4a4",
   "outputs": [],
   "execution_count": 5
  },
  {
   "cell_type": "code",
   "id": "f421d19d-a0b9-4b0c-a6e6-8920566807da",
   "metadata": {
    "ExecuteTime": {
     "end_time": "2024-07-15T14:53:02.529011Z",
     "start_time": "2024-07-15T14:53:02.358385Z"
    }
   },
   "source": [
    "class Mask:\n",
    "    def __init__(self, *, ra, dec, radius, split_norder):\n",
    "        self.ra = ra\n",
    "        self.dec = dec\n",
    "        self.radius = radius\n",
    "        self.split_norder = split_norder\n",
    "\n",
    "        self.masks_in_tiles = self._build_masks_in_tiles()\n",
    "\n",
    "    def _build_masks_in_tiles(self):\n",
    "        \"\"\"Returns a lookup table tile-index -> list(mask index) for split order\"\"\"\n",
    "        mocs = MOC.from_cones(lon=self.ra, lat=self.dec, radius=self.radius, max_depth=self.split_norder,\n",
    "                              delta_depth=2)\n",
    "        n_tiles = 12 << (2 * self.split_norder)\n",
    "\n",
    "        lookup = [[]] * n_tiles\n",
    "        for i, moc in enumerate(mocs):\n",
    "            for index in moc.flatten():\n",
    "                lookup[index].append(i)\n",
    "\n",
    "        lookup = [np.array(a) for a in lookup]\n",
    "        return lookup\n",
    "\n",
    "    def moc_in_tile_approx(self, split_index, max_norder):\n",
    "        \"\"\"MOC with all the masks intersects with given split_norder tile\"\"\"\n",
    "        idx = self.masks_in_tiles[split_index]\n",
    "        mocs = MOC.from_cones(lon=ra[idx], lat=dec[idx], radius=radius[idx], max_depth=max_norder,\n",
    "                              delta_depth=2)\n",
    "        if len(mocs) == 0:\n",
    "            return MOC.from_lonlat(lon=Longitude([], 'deg'), lat=Latitude([], 'deg'), max_norder=max_norder)\n",
    "        if len(mocs) == 1:\n",
    "            return mocs[0]\n",
    "        return mocs[0].union(*mocs[1:])\n",
    "\n",
    "    def moc_in_tile(self, split_index, max_norder):\n",
    "        \"\"\"MOC with masks within given tile of split_norder\"\"\"\n",
    "        moc = self.moc_in_tile_approx(split_index, max_norder)\n",
    "        healpix_cells = np.array([split_index], dtype=np.uint64)\n",
    "        tile_moc = MOC.from_healpix_cells(healpix_cells, self.split_norder, self.split_norder)\n",
    "        return tile_moc.intersection(moc)\n",
    "\n",
    "    def indexes_for_tile(self, split_index, target_norder):\n",
    "        \"\"\"Healpix indexes of targer_depth (>= split_norder) for split_index tile of split_norder\"\"\"\n",
    "        moc = self.moc_in_tile(split_index, target_norder)\n",
    "        return moc.flatten()\n",
    "\n",
    "%time mask = Mask(ra=ra, dec=dec, radius=radius, split_norder=split_norder)"
   ],
   "outputs": [
    {
     "name": "stdout",
     "output_type": "stream",
     "text": [
      "CPU times: user 196 ms, sys: 46.2 ms, total: 242 ms\n",
      "Wall time: 165 ms\n"
     ]
    }
   ],
   "execution_count": 6
  },
  {
   "cell_type": "code",
   "id": "121bf4a5-3fd6-4bfd-ba79-12bb22d67204",
   "metadata": {
    "ExecuteTime": {
     "end_time": "2024-07-15T14:53:02.531825Z",
     "start_time": "2024-07-15T14:53:02.529659Z"
    }
   },
   "source": [
    "def parent(index, child_order, parent_order):\n",
    "    delta_depth = child_order - parent_order\n",
    "    return np.array(int(index) >> (2 * delta_depth), dtype=np.uint64)\n",
    "\n",
    "\n",
    "def get_value(order, indexes):\n",
    "    first_index = indexes[0]\n",
    "    top_index = parent(first_index, order, mask.split_norder)\n",
    "    mask_indexes = mask.indexes_for_tile(top_index, order)\n",
    "\n",
    "    # values = np.isin(indexes, mask_indexes).astype(np.uint8)\n",
    "    values = np.zeros(indexes.shape, dtype=np.uint8)\n",
    "    values[mask_indexes - first_index] = 1\n",
    "\n",
    "    return values"
   ],
   "outputs": [],
   "execution_count": 7
  },
  {
   "cell_type": "code",
   "id": "08770d47-ce96-480f-9703-9836e1a7ffb5",
   "metadata": {
    "ExecuteTime": {
     "end_time": "2024-07-15T14:54:08.205866Z",
     "start_time": "2024-07-15T14:53:02.532448Z"
    }
   },
   "source": [
    "%%time\n",
    "\n",
    "merger = MOMMerger(state=\"value\", merger=\"equal\", dtype=np.dtype('u1'))\n",
    "\n",
    "with Writer('parquet', col_name='value', col_type=pa.uint8()) as writer:\n",
    "    for tiles in tqdm(gen_mom_from_fn(\n",
    "            get_value,\n",
    "            max_norder=max_norder,\n",
    "            split_norder=split_norder,\n",
    "            merger=merger,\n",
    "            n_threads=12,\n",
    "    )):\n",
    "        writer.write(*tiles)"
   ],
   "outputs": [
    {
     "name": "stderr",
     "output_type": "stream",
     "text": [
      "1923it [01:05, 29.29it/s] "
     ]
    },
    {
     "name": "stdout",
     "output_type": "stream",
     "text": [
      "CPU times: user 10min 8s, sys: 6.94 s, total: 10min 15s\n",
      "Wall time: 1min 5s\n"
     ]
    },
    {
     "name": "stderr",
     "output_type": "stream",
     "text": [
      "\n"
     ]
    }
   ],
   "execution_count": 8
  }
 ],
 "metadata": {
  "kernelspec": {
   "display_name": "Python 3 (ipykernel)",
   "language": "python",
   "name": "python3"
  },
  "language_info": {
   "codemirror_mode": {
    "name": "ipython",
    "version": 3
   },
   "file_extension": ".py",
   "mimetype": "text/x-python",
   "name": "python",
   "nbconvert_exporter": "python",
   "pygments_lexer": "ipython3",
   "version": "3.11.9"
  }
 },
 "nbformat": 4,
 "nbformat_minor": 5
}
