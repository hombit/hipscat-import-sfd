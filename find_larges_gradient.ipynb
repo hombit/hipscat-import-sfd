{
 "cells": [
  {
   "cell_type": "code",
   "execution_count": 5,
   "id": "initial_id",
   "metadata": {
    "collapsed": true,
    "ExecuteTime": {
     "end_time": "2023-11-18T13:09:30.688894Z",
     "start_time": "2023-11-18T13:09:30.681636Z"
    }
   },
   "outputs": [],
   "source": [
    "from pathlib import Path\n",
    "\n",
    "import numpy as np\n",
    "\n",
    "from utils import get_data_coords_ids"
   ]
  },
  {
   "cell_type": "code",
   "execution_count": 6,
   "outputs": [],
   "source": [
    "gradients = []\n",
    "\n",
    "for hemisphere in [\"n\", \"s\"]:\n",
    "    b_sign = 1 if hemisphere == \"n\" else -1\n",
    "    \n",
    "    data, coord, pixel_grid = get_data_coords_ids(Path(\n",
    "        f'./data/input/SFD_dust_4096_{hemisphere}gp.fits.gz'\n",
    "    ))\n",
    "    for (sl1, sl2) in [\n",
    "        [np.s_[:-1, :-1], np.s_[1:, 1:]],\n",
    "        [np.s_[:-1, 1:], np.s_[1:, :-1]],\n",
    "    ]:\n",
    "        maximum = np.where(data[sl1] > data[sl2], data[sl1], data[sl2])\n",
    "        maximum = np.where(maximum > 0, maximum, 1)\n",
    "        diff = np.abs(data[sl1] - data[sl2]) / maximum\n",
    "        distance = coord[sl1].separation(coord[sl2])\n",
    "        gradient = diff / distance.arcsec\n",
    "        \n",
    "        mask = b_sign * coord.b[sl1] > 0\n",
    "        gradients.append(gradient[mask])\n",
    "\n",
    "gradients = np.concatenate(gradients)"
   ],
   "metadata": {
    "collapsed": false,
    "ExecuteTime": {
     "end_time": "2023-11-18T13:09:38.982390Z",
     "start_time": "2023-11-18T13:09:30.701289Z"
    }
   },
   "id": "ba0de4243c9622d0"
  },
  {
   "cell_type": "code",
   "execution_count": 7,
   "outputs": [
    {
     "name": "stdout",
     "output_type": "stream",
     "text": [
      "resolution: 33.611 arcsec\n",
      "norder: 13\n"
     ]
    }
   ],
   "source": [
    "resolution = 0.16 / np.max(gradients)\n",
    "norder_float = np.log2(np.sqrt(np.pi) / np.deg2rad(resolution / 3600)) - 1\n",
    "norder = int(np.ceil(norder_float))\n",
    "print(f'resolution: {resolution:.3f} arcsec')\n",
    "print(f'norder: {norder}')"
   ],
   "metadata": {
    "collapsed": false,
    "ExecuteTime": {
     "end_time": "2023-11-18T13:09:39.002058Z",
     "start_time": "2023-11-18T13:09:38.982643Z"
    }
   },
   "id": "df7cb72eabcc4058"
  },
  {
   "cell_type": "code",
   "execution_count": 8,
   "outputs": [
    {
     "data": {
      "text/plain": "Text(0, 0.5, 'N')"
     },
     "execution_count": 8,
     "metadata": {},
     "output_type": "execute_result"
    },
    {
     "data": {
      "text/plain": "<Figure size 640x480 with 1 Axes>",
      "image/png": "[encoded data removed]"
     },
     "metadata": {},
     "output_type": "display_data"
    }
   ],
   "source": [
    "import matplotlib.pyplot as plt\n",
    "\n",
    "plt.hist(gradients, bins=100, log=True)\n",
    "plt.xlabel('Diagonal gradient, fraction/arcsec')\n",
    "plt.ylabel('N')"
   ],
   "metadata": {
    "collapsed": false,
    "ExecuteTime": {
     "end_time": "2023-11-18T13:09:39.518397Z",
     "start_time": "2023-11-18T13:09:39.004856Z"
    }
   },
   "id": "a63152de563c30d3"
  },
  {
   "cell_type": "code",
   "execution_count": 8,
   "outputs": [],
   "source": [],
   "metadata": {
    "collapsed": false,
    "ExecuteTime": {
     "end_time": "2023-11-18T13:09:39.518505Z",
     "start_time": "2023-11-18T13:09:39.516854Z"
    }
   },
   "id": "1b4fbd116d7611fc"
  }
 ],
 "metadata": {
  "kernelspec": {
   "display_name": "Python 3",
   "language": "python",
   "name": "python3"
  },
  "language_info": {
   "codemirror_mode": {
    "name": "ipython",
    "version": 2
   },
   "file_extension": ".py",
   "mimetype": "text/x-python",
   "name": "python",
   "nbconvert_exporter": "python",
   "pygments_lexer": "ipython2",
   "version": "2.7.6"
  }
 },
 "nbformat": 4,
 "nbformat_minor": 5
}
