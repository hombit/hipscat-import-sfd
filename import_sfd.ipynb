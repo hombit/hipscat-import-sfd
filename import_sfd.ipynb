{
 "cells": [
  {
   "cell_type": "code",
   "execution_count": 9,
   "outputs": [],
   "source": [
    "from pathlib import Path\n",
    "from typing import Literal\n",
    "\n",
    "import numpy as np\n",
    "import pandas as pd\n",
    "from astropy.io import fits\n",
    "from astropy.wcs import WCS\n",
    "\n",
    "import hipscat_import.pipeline as runner\n",
    "from hipscat_import.catalog.arguments import ImportArguments"
   ],
   "metadata": {
    "collapsed": false,
    "ExecuteTime": {
     "end_time": "2023-10-04T18:58:53.887475Z",
     "start_time": "2023-10-04T18:58:53.886037Z"
    }
   },
   "id": "709f877d96c4b58a"
  },
  {
   "cell_type": "code",
   "execution_count": 10,
   "outputs": [],
   "source": [
    "DATA_DIR = Path('./data')\n",
    "INPUT_DIR = DATA_DIR / 'input'\n",
    "PARQUET_DIR = DATA_DIR / 'tmp-parquet'\n",
    "OUTPUT_DIR = DATA_DIR / 'output'"
   ],
   "metadata": {
    "collapsed": false,
    "ExecuteTime": {
     "end_time": "2023-10-04T18:58:53.891361Z",
     "start_time": "2023-10-04T18:58:53.888221Z"
    }
   },
   "id": "ead50ecaad687113"
  },
  {
   "cell_type": "markdown",
   "source": [
    "# Transform FITS files to parquet"
   ],
   "metadata": {
    "collapsed": false
   },
   "id": "8769fa4ae006b28b"
  },
  {
   "cell_type": "code",
   "execution_count": 11,
   "outputs": [
    {
     "name": "stdout",
     "output_type": "stream",
     "text": [
      "CPU times: user 5.89 s, sys: 1.07 s, total: 6.96 s\n",
      "Wall time: 6.85 s\n"
     ]
    }
   ],
   "source": [
    "%%time\n",
    "\n",
    "def produce_ids(x: np.ndarray[int], y: np.ndarray[int]) -> np.ndarray:\n",
    "    # Max number of digits in y:\n",
    "    d = int(np.log10(y.max())) + 1\n",
    "    return x * 10**d + y\n",
    "\n",
    "def get_hemisphere(hemisphere: Literal[\"n\", \"s\"]) -> pd.DataFrame:\n",
    "    filename = INPUT_DIR / f\"SFD_dust_4096_{hemisphere}gp.fits.gz\"\n",
    "    b_sign = 1 if hemisphere == \"n\" else -1\n",
    "    \n",
    "    with fits.open(filename, memmap=False) as hdul:\n",
    "        hdu, = hdul\n",
    "        wcs = WCS(hdu.header)\n",
    "        data = hdu.data\n",
    "        \n",
    "        # Produce pixel coordinates\n",
    "        pixel_grid = np.meshgrid(\n",
    "            np.arange(data.shape[0]),\n",
    "            np.arange(data.shape[1]),\n",
    "        )\n",
    "        coord = wcs.pixel_to_world(*pixel_grid)\n",
    "        # And pixel IDs\n",
    "        ids = produce_ids(*pixel_grid)\n",
    "        \n",
    "        # Filter out pixels belong to the other hemisphere\n",
    "        mask = b_sign * coord.b > 0\n",
    "        data, coord, ids = data[mask], coord[mask], ids[mask]\n",
    "        \n",
    "    # Convert to equatorial coordinates\n",
    "    eq = coord.transform_to(\"icrs\")\n",
    "    # Swap bytes to get the correct endianness\n",
    "    data = data.newbyteorder().byteswap(inplace=True)\n",
    "    \n",
    "    df = pd.DataFrame(dict(\n",
    "        id=ids.ravel(),\n",
    "        ra_deg=eq.ra.deg.ravel(),\n",
    "        dec_deg=eq.dec.deg.ravel(),\n",
    "        ebv=data.ravel(),\n",
    "    ))\n",
    "    return df\n",
    "\n",
    "\n",
    "PARQUET_DIR.mkdir(exist_ok=True, parents=True)\n",
    "for hemisphere in [\"n\", \"s\"]:\n",
    "    df = get_hemisphere(hemisphere)\n",
    "    df.to_parquet(PARQUET_DIR / f\"sfd-{hemisphere}.parquet\")"
   ],
   "metadata": {
    "collapsed": false,
    "ExecuteTime": {
     "end_time": "2023-10-04T18:59:00.747694Z",
     "start_time": "2023-10-04T18:58:53.891810Z"
    }
   },
   "id": "b937ffa362d97879"
  },
  {
   "cell_type": "markdown",
   "source": [
    "# Import parquet "
   ],
   "metadata": {
    "collapsed": false
   },
   "id": "85437350f1b4bec4"
  },
  {
   "cell_type": "code",
   "execution_count": 12,
   "outputs": [
    {
     "name": "stderr",
     "output_type": "stream",
     "text": [
      "Planning  : 100%|██████████| 4/4 [00:00<00:00, 5616.74it/s]\n",
      "Mapping   : 100%|██████████| 2/2 [00:01<00:00,  1.04it/s]\n",
      "Binning   : 100%|██████████| 2/2 [01:20<00:00, 40.23s/it]\n",
      "Splitting : 100%|██████████| 2/2 [00:31<00:00, 15.66s/it]\n",
      "Reducing  : 100%|██████████| 3072/3072 [00:38<00:00, 79.09it/s] \n",
      "Finishing : 100%|██████████| 6/6 [00:00<00:00,  6.89it/s]\n"
     ]
    },
    {
     "name": "stdout",
     "output_type": "stream",
     "text": [
      "CPU times: user 1min 3s, sys: 2.43 s, total: 1min 6s\n",
      "Wall time: 2min 36s\n"
     ]
    }
   ],
   "source": [
    "%%time\n",
    "\n",
    "OUTPUT_DIR.mkdir(exist_ok=True, parents=True)\n",
    "\n",
    "args = ImportArguments(\n",
    "    id_column=\"id\",\n",
    "    ra_column=\"ra_deg\",\n",
    "    dec_column=\"dec_deg\",\n",
    "    input_path=PARQUET_DIR,\n",
    "    input_format=\"parquet\",\n",
    "    output_catalog_name=\"sfd\",\n",
    "    output_path=OUTPUT_DIR,\n",
    "    pixel_threshold=10_000,\n",
    "    overwrite=True,\n",
    ")\n",
    "runner.pipeline(args)"
   ],
   "metadata": {
    "collapsed": false,
    "ExecuteTime": {
     "end_time": "2023-10-04T19:01:37.204514Z",
     "start_time": "2023-10-04T18:59:00.745268Z"
    }
   },
   "id": "initial_id"
  }
 ],
 "metadata": {
  "kernelspec": {
   "display_name": "Python 3",
   "language": "python",
   "name": "python3"
  },
  "language_info": {
   "codemirror_mode": {
    "name": "ipython",
    "version": 2
   },
   "file_extension": ".py",
   "mimetype": "text/x-python",
   "name": "python",
   "nbconvert_exporter": "python",
   "pygments_lexer": "ipython2",
   "version": "2.7.6"
  }
 },
 "nbformat": 4,
 "nbformat_minor": 5
}
