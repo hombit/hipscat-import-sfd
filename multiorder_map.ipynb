{
 "cells": [
  {
   "cell_type": "code",
   "execution_count": 1,
   "id": "initial_id",
   "metadata": {
    "collapsed": true,
    "ExecuteTime": {
     "end_time": "2023-11-18T02:58:47.186065Z",
     "start_time": "2023-11-18T02:58:46.692875Z"
    }
   },
   "outputs": [],
   "source": [
    "import healpy\n",
    "import numpy as np\n",
    "from astropy.coordinates import SkyCoord\n",
    "from dustmaps.sfd import SFDQuery\n",
    "\n",
    "from multiorder import AbstractMultiorderMapBuilder\n",
    "from min_max_mean_state import MinMaxMeanState, MinMaxMeanStateMerger\n",
    "from paths import *"
   ]
  },
  {
   "cell_type": "code",
   "execution_count": 2,
   "outputs": [],
   "source": [
    "class StateMerger(MinMaxMeanStateMerger):\n",
    "    def __init__(self, threshold: float = 0.16):\n",
    "        self.threshold = threshold\n",
    "    \n",
    "    def validate_state(self, state: MinMaxMeanState) -> bool:\n",
    "        norm = max(map(abs, [state.min, state.max]))\n",
    "        if norm == 0.0:\n",
    "            return True\n",
    "        return (state.max - state.min) / norm <= self.threshold\n",
    "    \n",
    "\n",
    "def ebv(norder: int):\n",
    "    n_size = healpy.order2nside(norder)\n",
    "    n_pix = healpy.order2npix(norder)\n",
    "    \n",
    "    indexes = np.arange(n_pix)\n",
    "    ra, dec = healpy.pix2ang(n_size, indexes, nest=True, lonlat=True)\n",
    "    coord = SkyCoord(ra=ra, dec=dec, unit='deg')\n",
    "    \n",
    "    sfd_query = SFDQuery(INPUT_DIR)\n",
    "    return sfd_query(coord)\n",
    "    \n",
    "\n",
    "class Builder(StateMerger, AbstractMultiorderMapBuilder):\n",
    "    def __init__(self, max_norder, threshold):\n",
    "        AbstractMultiorderMapBuilder.__init__(self, max_norder)\n",
    "        StateMerger.__init__(self, threshold)\n",
    "        \n",
    "        self.ebv = ebv(max_norder)\n",
    "        \n",
    "    def calculate_state(self, index_max_norder: int) -> MinMaxMeanState:\n",
    "        value = self.ebv[index_max_norder].item()\n",
    "        return MinMaxMeanState(min=value, max=value, mean=value)"
   ],
   "metadata": {
    "collapsed": false,
    "ExecuteTime": {
     "end_time": "2023-11-18T02:58:47.189963Z",
     "start_time": "2023-11-18T02:58:47.185999Z"
    }
   },
   "id": "b387a5b5864e026a"
  },
  {
   "cell_type": "code",
   "execution_count": 8,
   "outputs": [
    {
     "name": "stdout",
     "output_type": "stream",
     "text": [
      "CPU times: user 16 s, sys: 617 ms, total: 16.6 s\n",
      "Wall time: 16.8 s\n"
     ]
    }
   ],
   "source": [
    "%%time\n",
    "\n",
    "tiles = Builder(max_norder=10, threshold=0.16).build()"
   ],
   "metadata": {
    "collapsed": false,
    "ExecuteTime": {
     "end_time": "2023-11-18T02:59:16.180441Z",
     "start_time": "2023-11-18T02:58:59.348209Z"
    }
   },
   "id": "fdfe42795822e24c"
  },
  {
   "cell_type": "code",
   "execution_count": 9,
   "outputs": [
    {
     "data": {
      "text/plain": "([6385,\n  6707,\n  10931,\n  12612,\n  12623,\n  12626,\n  12634,\n  12653,\n  12752,\n  12753,\n  12758,\n  12761,\n  13151,\n  13482,\n  13832,\n  13834,\n  13856,\n  13857,\n  13858,\n  13859,\n  13864,\n  13993,\n  16394,\n  16416,\n  16419,\n  16912,\n  16924,\n  16946,\n  16953,\n  16956,\n  16957,\n  17000,\n  17002,\n  17003,\n  17006,\n  17041,\n  17043,\n  17044,\n  17076,\n  17077,\n  17079,\n  17087,\n  17091,\n  17098,\n  17099,\n  17102,\n  17106,\n  17110,\n  17120,\n  17121,\n  17122,\n  17130,\n  17144,\n  17147,\n  17534,\n  18501,\n  18502,\n  18512,\n  18513,\n  18514,\n  18521,\n  18523,\n  18526,\n  18546,\n  18552,\n  18640,\n  18654,\n  18677,\n  18874,\n  19359,\n  19432,\n  19434,\n  19437,\n  19438,\n  19439,\n  24062,\n  24666,\n  25959,\n  25972,\n  26506,\n  26669,\n  26757,\n  26772,\n  26831,\n  26842,\n  26855,\n  27053,\n  27058,\n  27070,\n  27415,\n  28305,\n  28308,\n  28310,\n  28359,\n  28381,\n  28383,\n  28401,\n  28554,\n  28557,\n  28558,\n  28559,\n  28570,\n  28580,\n  28582,\n  28640,\n  28647,\n  28649,\n  28650,\n  28651,\n  31362,\n  32910,\n  36572,\n  37184,\n  38630,\n  38643,\n  38648,\n  38650,\n  38651,\n  38653,\n  38654,\n  38655,\n  38769,\n  38825,\n  38827,\n  38830,\n  38831,\n  40061,\n  40196,\n  40209,\n  40217,\n  40220,\n  40221,\n  40245,\n  40250,\n  40264,\n  40269,\n  40282,\n  40283,\n  40295,\n  40312,\n  40513,\n  40547,\n  43855,\n  43939,\n  43943,\n  43963,\n  43985,\n  44463,\n  44570,\n  44586,\n  44591,\n  44606,\n  44612,\n  44751,\n  44762,\n  44782,\n  44803,\n  44831,\n  44838,\n  44844,\n  44845,\n  44899,\n  44955,\n  45652,\n  48736],\n [MinMaxMeanState(min=0.05177663266658783, max=0.0607573464512825, mean=0.056148310395656154),\n  MinMaxMeanState(min=0.12461171299219131, max=0.14629952609539032, mean=0.1348464828042779),\n  MinMaxMeanState(min=0.012097768485546112, max=0.013912045396864414, mean=0.012830099298298592),\n  MinMaxMeanState(min=0.0516369566321373, max=0.058419108390808105, mean=0.054294549219775945),\n  MinMaxMeanState(min=0.05153197795152664, max=0.059262894093990326, mean=0.05467390739067923),\n  MinMaxMeanState(min=0.041417405009269714, max=0.045604925602674484, mean=0.04329030560620595),\n  MinMaxMeanState(min=0.05138751491904259, max=0.05924638733267784, mean=0.05465082239243202),\n  MinMaxMeanState(min=0.09056804329156876, max=0.10630524903535843, mean=0.09566601231927052),\n  MinMaxMeanState(min=0.07165160030126572, max=0.08438720554113388, mean=0.07823598087998107),\n  MinMaxMeanState(min=0.07088541984558105, max=0.08082271367311478, mean=0.0746474148472771),\n  MinMaxMeanState(min=0.0662028044462204, max=0.07337494194507599, mean=0.06952560387435369),\n  MinMaxMeanState(min=0.05655217170715332, max=0.06670096516609192, mean=0.06110714717942756),\n  MinMaxMeanState(min=0.1414196491241455, max=0.16166852414608002, mean=0.15027220925549045),\n  MinMaxMeanState(min=0.10272815078496933, max=0.12172095477581024, mean=0.11186333233490586),\n  MinMaxMeanState(min=0.14676034450531006, max=0.17198850214481354, mean=0.15844662336166948),\n  MinMaxMeanState(min=0.14454807341098785, max=0.16986152529716492, mean=0.15052682196255773),\n  MinMaxMeanState(min=0.1617748886346817, max=0.1798575520515442, mean=0.1735310068470426),\n  MinMaxMeanState(min=0.17253299057483673, max=0.19687989354133606, mean=0.1892819232889451),\n  MinMaxMeanState(min=0.17245502769947052, max=0.19333773851394653, mean=0.18255839456105605),\n  MinMaxMeanState(min=0.18307700753211975, max=0.20247481763362885, mean=0.19115848984802142),\n  MinMaxMeanState(min=0.17610520124435425, max=0.20164315402507782, mean=0.18631461123004556),\n  MinMaxMeanState(min=1.1236071586608887, max=1.31002676486969, mean=1.2108430438674986),\n  MinMaxMeanState(min=0.011444694362580776, max=0.013089651241898537, mean=0.012218777876114473),\n  MinMaxMeanState(min=0.011973134241998196, max=0.014157026074826717, mean=0.013184557887143455),\n  MinMaxMeanState(min=0.012038862332701683, max=0.01412667240947485, mean=0.013085708687867736),\n  MinMaxMeanState(min=0.018004847690463066, max=0.021365070715546608, mean=0.019877131038811058),\n  MinMaxMeanState(min=0.024346260353922844, max=0.02866552211344242, mean=0.026298413307813462),\n  MinMaxMeanState(min=0.023142630234360695, max=0.026733413338661194, mean=0.024204014320275746),\n  MinMaxMeanState(min=0.025533150881528854, max=0.028833257034420967, mean=0.027198499112273566),\n  MinMaxMeanState(min=0.025798292830586433, max=0.029887424781918526, mean=0.02794849361089291),\n  MinMaxMeanState(min=0.026046985760331154, max=0.030689096078276634, mean=0.028276576253119856),\n  MinMaxMeanState(min=0.02767457254230976, max=0.03159760683774948, mean=0.02990256260818569),\n  MinMaxMeanState(min=0.02886740118265152, max=0.03414473682641983, mean=0.030866290981066413),\n  MinMaxMeanState(min=0.028796635568141937, max=0.03393840417265892, mean=0.030435832304647192),\n  MinMaxMeanState(min=0.027979189530014992, max=0.033206015825271606, mean=0.030889174246112816),\n  MinMaxMeanState(min=0.03043658472597599, max=0.03378679230809212, mean=0.03183761464606505),\n  MinMaxMeanState(min=0.029408538714051247, max=0.034476667642593384, mean=0.0312526049601729),\n  MinMaxMeanState(min=0.028862718492746353, max=0.032420579344034195, mean=0.03113950987608405),\n  MinMaxMeanState(min=0.032143041491508484, max=0.03811225667595863, mean=0.03567269090854097),\n  MinMaxMeanState(min=0.034800935536623, max=0.03909054026007652, mean=0.03683702427952085),\n  MinMaxMeanState(min=0.03118119016289711, max=0.036024708300828934, mean=0.033915875930688344),\n  MinMaxMeanState(min=0.03518736734986305, max=0.04133345186710358, mean=0.038952452785451896),\n  MinMaxMeanState(min=0.03131652995944023, max=0.03726481273770332, mean=0.03394516778644174),\n  MinMaxMeanState(min=0.029878918081521988, max=0.03530106693506241, mean=0.03239776251575677),\n  MinMaxMeanState(min=0.03283362835645676, max=0.036845121532678604, mean=0.035208933462854475),\n  MinMaxMeanState(min=0.03187452629208565, max=0.03699793666601181, mean=0.03414818974852096),\n  MinMaxMeanState(min=0.026794059202075005, max=0.03134463354945183, mean=0.02869855610333616),\n  MinMaxMeanState(min=0.02797071635723114, max=0.032697293907403946, mean=0.030329819303005934),\n  MinMaxMeanState(min=0.034154314547777176, max=0.03884065896272659, mean=0.03649474692065269),\n  MinMaxMeanState(min=0.03124052658677101, max=0.036506522446870804, mean=0.034892626470536925),\n  MinMaxMeanState(min=0.031262125819921494, max=0.03662541136145592, mean=0.03402846738754306),\n  MinMaxMeanState(min=0.0385504812002182, max=0.04488610848784447, mean=0.041743077177670784),\n  MinMaxMeanState(min=0.030534664168953896, max=0.03532527759671211, mean=0.03292065957793966),\n  MinMaxMeanState(min=0.0313212089240551, max=0.03709406033158302, mean=0.03431803485727869),\n  MinMaxMeanState(min=0.025222178548574448, max=0.029848113656044006, mean=0.027247631223872304),\n  MinMaxMeanState(min=0.037934236228466034, max=0.044917553663253784, mean=0.04199247893120628),\n  MinMaxMeanState(min=0.03600231185555458, max=0.04102304205298424, mean=0.038503392424900085),\n  MinMaxMeanState(min=0.03615694120526314, max=0.042920444160699844, mean=0.0401589914545184),\n  MinMaxMeanState(min=0.03212704136967659, max=0.038184817880392075, mean=0.03477403207216412),\n  MinMaxMeanState(min=0.037617966532707214, max=0.04401121661067009, mean=0.04171625632443465),\n  MinMaxMeanState(min=0.03678268566727638, max=0.04360947385430336, mean=0.03967018282855861),\n  MinMaxMeanState(min=0.03422985225915909, max=0.04042687639594078, mean=0.036833615085924976),\n  MinMaxMeanState(min=0.037016890943050385, max=0.04316357150673866, mean=0.040139941454981454),\n  MinMaxMeanState(min=0.03562004864215851, max=0.042236048728227615, mean=0.03895485914836172),\n  MinMaxMeanState(min=0.03747290000319481, max=0.04369426146149635, mean=0.0408610972808674),\n  MinMaxMeanState(min=0.0338878259062767, max=0.04032488167285919, mean=0.03645731227879878),\n  MinMaxMeanState(min=0.04327366128563881, max=0.04989316314458847, mean=0.04715865716570988),\n  MinMaxMeanState(min=0.04869375005364418, max=0.054107666015625, mean=0.05146842989779543),\n  MinMaxMeanState(min=0.0807517021894455, max=0.09082240611314774, mean=0.08643996994942427),\n  MinMaxMeanState(min=0.06544701009988785, max=0.07752984762191772, mean=0.06886735116131604),\n  MinMaxMeanState(min=0.058872487396001816, max=0.06960175186395645, mean=0.06300926726544276),\n  MinMaxMeanState(min=0.05877336859703064, max=0.06541790813207626, mean=0.06157359995995648),\n  MinMaxMeanState(min=0.04647088050842285, max=0.05454851686954498, mean=0.0501954634237336),\n  MinMaxMeanState(min=0.0517331026494503, max=0.060356255620718, mean=0.05391681085166056),\n  MinMaxMeanState(min=0.04610287770628929, max=0.054040659219026566, mean=0.04994944285135716),\n  MinMaxMeanState(min=0.1079622209072113, max=0.1268182098865509, mean=0.11686317683779635),\n  MinMaxMeanState(min=0.06762340664863586, max=0.07961427420377731, mean=0.07224506765487604),\n  MinMaxMeanState(min=0.03465667739510536, max=0.04017312824726105, mean=0.03696685272734612),\n  MinMaxMeanState(min=0.03546861186623573, max=0.04205295443534851, mean=0.03884414953063242),\n  MinMaxMeanState(min=0.028728406876325607, max=0.03407372534275055, mean=0.031719244478153996),\n  MinMaxMeanState(min=0.08191576600074768, max=0.09724953770637512, mean=0.09037078733672388),\n  MinMaxMeanState(min=0.0669463649392128, max=0.0765814408659935, mean=0.07138386729639024),\n  MinMaxMeanState(min=0.04471369460225105, max=0.05257293954491615, mean=0.04967685656447429),\n  MinMaxMeanState(min=0.03638393431901932, max=0.04108176380395889, mean=0.03881681321945507),\n  MinMaxMeanState(min=0.03654113784432411, max=0.040999699383974075, mean=0.03857944029732607),\n  MinMaxMeanState(min=0.0422326885163784, max=0.05003286153078079, mean=0.047173534010653384),\n  MinMaxMeanState(min=0.04257771745324135, max=0.050371237099170685, mean=0.04602409013023134),\n  MinMaxMeanState(min=0.04492628946900368, max=0.05094902962446213, mean=0.04794323402165901),\n  MinMaxMeanState(min=0.04022630676627159, max=0.04649614170193672, mean=0.04329351209162269),\n  MinMaxMeanState(min=0.023888563737273216, max=0.02791711688041687, mean=0.02513963395904284),\n  MinMaxMeanState(min=0.02126915380358696, max=0.02493174374103546, mean=0.022306999897409696),\n  MinMaxMeanState(min=0.021627426147460938, max=0.02484045922756195, mean=0.023113236617064103),\n  MinMaxMeanState(min=0.022698327898979187, max=0.02594214677810669, mean=0.02418051369022578),\n  MinMaxMeanState(min=0.01614469662308693, max=0.01896570809185505, mean=0.017551120166899636),\n  MinMaxMeanState(min=0.01860189437866211, max=0.022014396265149117, mean=0.020585236976330634),\n  MinMaxMeanState(min=0.016927629709243774, max=0.019337428733706474, mean=0.01835111489344854),\n  MinMaxMeanState(min=0.01606905274093151, max=0.018908308818936348, mean=0.017221861708094366),\n  MinMaxMeanState(min=0.017572840675711632, max=0.019792728126049042, mean=0.01838229659188073),\n  MinMaxMeanState(min=0.021281452849507332, max=0.024226883426308632, mean=0.022444478221586905),\n  MinMaxMeanState(min=0.02089916355907917, max=0.024253254756331444, mean=0.023065208370098844),\n  MinMaxMeanState(min=0.02193322964012623, max=0.02398747391998768, mean=0.02283580715447897),\n  MinMaxMeanState(min=0.019760560244321823, max=0.023188015446066856, mean=0.021580318141786847),\n  MinMaxMeanState(min=0.02093474753201008, max=0.02447107993066311, mean=0.022314784269838128),\n  MinMaxMeanState(min=0.020758621394634247, max=0.024384913966059685, mean=0.02234750392381102),\n  MinMaxMeanState(min=0.017712995409965515, max=0.020886870101094246, mean=0.01893417948303977),\n  MinMaxMeanState(min=0.020768243819475174, max=0.022478437051177025, mean=0.0215585767509765),\n  MinMaxMeanState(min=0.017072726041078568, max=0.020120764151215553, mean=0.018779035061015747),\n  MinMaxMeanState(min=0.01751638762652874, max=0.02037683129310608, mean=0.018537497468059883),\n  MinMaxMeanState(min=0.01751895062625408, max=0.019596733152866364, mean=0.018553772795712575),\n  MinMaxMeanState(min=0.1109960749745369, max=0.13173148036003113, mean=0.12072802952025086),\n  MinMaxMeanState(min=0.05896255001425743, max=0.06961429119110107, mean=0.06364503674558364),\n  MinMaxMeanState(min=0.01798718050122261, max=0.021177738904953003, mean=0.01959092290053377),\n  MinMaxMeanState(min=0.30176547169685364, max=0.3423726260662079, mean=0.32090122858062387),\n  MinMaxMeanState(min=0.14435017108917236, max=0.170395165681839, mean=0.15814325818791986),\n  MinMaxMeanState(min=0.12652529776096344, max=0.1493736356496811, mean=0.1391493917326443),\n  MinMaxMeanState(min=0.1245434582233429, max=0.13444241881370544, mean=0.12977514913654886),\n  MinMaxMeanState(min=0.11138315498828888, max=0.1292920857667923, mean=0.12191076227463782),\n  MinMaxMeanState(min=0.109786756336689, max=0.12914907932281494, mean=0.12056691569159739),\n  MinMaxMeanState(min=0.095634326338768, max=0.1119857057929039, mean=0.10206842207117006),\n  MinMaxMeanState(min=0.10097251087427139, max=0.11445872485637665, mean=0.10602997362730093),\n  MinMaxMeanState(min=0.1059703603386879, max=0.12056875228881836, mean=0.11470356892095879),\n  MinMaxMeanState(min=0.04943758621811867, max=0.05784909427165985, mean=0.05353314908279572),\n  MinMaxMeanState(min=0.0823112279176712, max=0.09328944981098175, mean=0.0882655700261239),\n  MinMaxMeanState(min=0.08053669333457947, max=0.09097619354724884, mean=0.08440218109171838),\n  MinMaxMeanState(min=0.08243715018033981, max=0.09526281803846359, mean=0.08681079937377945),\n  MinMaxMeanState(min=0.0817047581076622, max=0.09379291534423828, mean=0.08984091228921898),\n  MinMaxMeanState(min=0.10761848092079163, max=0.12784607708454132, mean=0.11328503501135856),\n  MinMaxMeanState(min=0.07906534522771835, max=0.09127054363489151, mean=0.0840092409926001),\n  MinMaxMeanState(min=0.06333454698324203, max=0.07335920631885529, mean=0.06873063134844415),\n  MinMaxMeanState(min=0.05393946170806885, max=0.06418588012456894, mean=0.058860883335000835),\n  MinMaxMeanState(min=0.051488764584064484, max=0.05937431752681732, mean=0.05558204454428051),\n  MinMaxMeanState(min=0.05226081982254982, max=0.06066453084349632, mean=0.05762767474516295),\n  MinMaxMeanState(min=0.04218615964055061, max=0.049040164798498154, mean=0.04490471465396695),\n  MinMaxMeanState(min=0.05309855937957764, max=0.06298629939556122, mean=0.0578159641881939),\n  MinMaxMeanState(min=0.052592892199754715, max=0.06078565865755081, mean=0.0558952096325811),\n  MinMaxMeanState(min=0.052240606397390366, max=0.06053442507982254, mean=0.05634897237177938),\n  MinMaxMeanState(min=0.057872045785188675, max=0.06585364043712616, mean=0.061182813937193714),\n  MinMaxMeanState(min=0.055168624967336655, max=0.06124577671289444, mean=0.05876613614964299),\n  MinMaxMeanState(min=0.038982175290584564, max=0.04305191710591316, mean=0.04101097119564656),\n  MinMaxMeanState(min=0.03470402956008911, max=0.03959256038069725, mean=0.03658738321973942),\n  MinMaxMeanState(min=0.09070562571287155, max=0.10668183118104935, mean=0.09745750043657608),\n  MinMaxMeanState(min=0.0917702466249466, max=0.10921469330787659, mean=0.10098094420391135),\n  MinMaxMeanState(min=0.05213313177227974, max=0.06197481229901314, mean=0.057097781012998894),\n  MinMaxMeanState(min=0.07920541614294052, max=0.09325489401817322, mean=0.08535520304576494),\n  MinMaxMeanState(min=0.07930208742618561, max=0.09225177019834518, mean=0.0852230861200951),\n  MinMaxMeanState(min=0.07242696732282639, max=0.08599793910980225, mean=0.0791475119185634),\n  MinMaxMeanState(min=0.0591457262635231, max=0.07002997398376465, mean=0.0648987959139049),\n  MinMaxMeanState(min=0.08411101251840591, max=0.09972596913576126, mean=0.09068933231174015),\n  MinMaxMeanState(min=0.07961704581975937, max=0.09306845813989639, mean=0.08674111249274574),\n  MinMaxMeanState(min=0.06776316463947296, max=0.08031017333269119, mean=0.07411124143982306),\n  MinMaxMeanState(min=0.06826998293399811, max=0.08117096871137619, mean=0.07503261961392127),\n  MinMaxMeanState(min=0.0754423663020134, max=0.08870912343263626, mean=0.08241939346771687),\n  MinMaxMeanState(min=0.08955580741167068, max=0.10335942357778549, mean=0.09537841429118998),\n  MinMaxMeanState(min=0.06973996013402939, max=0.08095269650220871, mean=0.07423095259582624),\n  MinMaxMeanState(min=0.07081376761198044, max=0.08254775404930115, mean=0.07615751161938533),\n  MinMaxMeanState(min=0.07914811372756958, max=0.09351612627506256, mean=0.08642327747656964),\n  MinMaxMeanState(min=0.09438871592283249, max=0.11229885369539261, mean=0.10589688632171601),\n  MinMaxMeanState(min=0.09378084540367126, max=0.10893049091100693, mean=0.1011509265517816),\n  MinMaxMeanState(min=0.0769549310207367, max=0.08878457546234131, mean=0.08255768031813204),\n  MinMaxMeanState(min=0.07638721913099289, max=0.08976579457521439, mean=0.0818275913479738),\n  MinMaxMeanState(min=0.07035817205905914, max=0.08100727945566177, mean=0.0747815222130157),\n  MinMaxMeanState(min=0.10287413001060486, max=0.11682688444852829, mean=0.10824690401204862),\n  MinMaxMeanState(min=0.07764443010091782, max=0.09012652188539505, mean=0.08423029858386144),\n  MinMaxMeanState(min=0.04412032291293144, max=0.05187143385410309, mean=0.047993885513278656),\n  MinMaxMeanState(min=0.05404683202505112, max=0.06374624371528625, mean=0.058671123973908834)])"
     },
     "execution_count": 9,
     "metadata": {},
     "output_type": "execute_result"
    }
   ],
   "source": [
    "tiles[6].indexes, tiles[6].values"
   ],
   "metadata": {
    "collapsed": false,
    "ExecuteTime": {
     "end_time": "2023-11-18T02:59:16.184425Z",
     "start_time": "2023-11-18T02:59:16.180614Z"
    }
   },
   "id": "6ecbc6386ad46790"
  },
  {
   "cell_type": "markdown",
   "source": [],
   "metadata": {
    "collapsed": false
   },
   "id": "69018a0ef010d79f"
  },
  {
   "cell_type": "code",
   "execution_count": 10,
   "outputs": [],
   "source": [
    "from mom_builder import mom_from_array"
   ],
   "metadata": {
    "collapsed": false,
    "ExecuteTime": {
     "end_time": "2023-11-18T02:59:20.803868Z",
     "start_time": "2023-11-18T02:59:20.798291Z"
    }
   },
   "id": "99f7736e0f97198a"
  },
  {
   "cell_type": "code",
   "execution_count": 11,
   "outputs": [
    {
     "name": "stdout",
     "output_type": "stream",
     "text": [
      "CPU times: user 32 ms, sys: 45.7 ms, total: 77.7 ms\n",
      "Wall time: 265 ms\n"
     ]
    }
   ],
   "source": [
    "%%time\n",
    "\n",
    "norder = 6\n",
    "mom = mom_from_array(ebv(norder).astype(np.float64), norder, 0.16)"
   ],
   "metadata": {
    "collapsed": false,
    "ExecuteTime": {
     "end_time": "2023-11-18T02:59:21.472043Z",
     "start_time": "2023-11-18T02:59:21.204246Z"
    }
   },
   "id": "7805ebb023f18c1c"
  },
  {
   "cell_type": "code",
   "execution_count": 7,
   "outputs": [
    {
     "data": {
      "text/plain": "[(array([], dtype=uint64), array([], dtype=float64)),\n (array([], dtype=uint64), array([], dtype=float64)),\n (array([], dtype=uint64), array([], dtype=float64)),\n (array([], dtype=uint64), array([], dtype=float64)),\n (array([], dtype=uint64), array([], dtype=float64)),\n (array([   43,    69,    70, ..., 12262, 12274, 12282], dtype=uint64),\n  array([0.09498527, 0.3297796 , 0.37662794, ..., 0.05478248, 0.05867209,\n         0.05462224])),\n (array([    0,     1,     2, ..., 49149, 49150, 49151], dtype=uint64),\n  array([0.09396797, 0.09965985, 0.08228148, ..., 0.08659782, 0.09656756,\n         0.07763848]))]"
     },
     "execution_count": 7,
     "metadata": {},
     "output_type": "execute_result"
    }
   ],
   "source": [
    "mom"
   ],
   "metadata": {
    "collapsed": false,
    "ExecuteTime": {
     "end_time": "2023-11-18T02:58:48.731721Z",
     "start_time": "2023-11-18T02:58:48.730109Z"
    }
   },
   "id": "3ed9012efcd87e9f"
  },
  {
   "cell_type": "code",
   "execution_count": 7,
   "outputs": [],
   "source": [],
   "metadata": {
    "collapsed": false,
    "ExecuteTime": {
     "end_time": "2023-11-18T02:58:48.733944Z",
     "start_time": "2023-11-18T02:58:48.731529Z"
    }
   },
   "id": "77f9c0d325e34c35"
  }
 ],
 "metadata": {
  "kernelspec": {
   "display_name": "Python 3",
   "language": "python",
   "name": "python3"
  },
  "language_info": {
   "codemirror_mode": {
    "name": "ipython",
    "version": 2
   },
   "file_extension": ".py",
   "mimetype": "text/x-python",
   "name": "python",
   "nbconvert_exporter": "python",
   "pygments_lexer": "ipython2",
   "version": "2.7.6"
  }
 },
 "nbformat": 4,
 "nbformat_minor": 5
}
