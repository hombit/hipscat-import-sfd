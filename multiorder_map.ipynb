{
 "cells": [
  {
   "cell_type": "code",
   "execution_count": 1,
   "id": "initial_id",
   "metadata": {
    "collapsed": true,
    "ExecuteTime": {
     "end_time": "2023-11-15T21:12:32.585240Z",
     "start_time": "2023-11-15T21:12:32.099876Z"
    }
   },
   "outputs": [],
   "source": [
    "import healpy\n",
    "import numpy as np\n",
    "from astropy.coordinates import SkyCoord\n",
    "from dustmaps.sfd import SFDQuery\n",
    "\n",
    "from multiorder import AbstractMultiorderMapBuilder\n",
    "from min_max_mean_state import MinMaxMeanState, MinMaxMeanStateMerger\n",
    "from paths import *"
   ]
  },
  {
   "cell_type": "code",
   "execution_count": 8,
   "outputs": [],
   "source": [
    "class StateMerger(MinMaxMeanStateMerger):\n",
    "    def __init__(self, threshold: float = 0.16):\n",
    "        self.threshold = threshold\n",
    "    \n",
    "    def validate_state(self, state: MinMaxMeanState) -> bool:\n",
    "        norm = max(map(abs, [state.min, state.max]))\n",
    "        if norm == 0.0:\n",
    "            return True\n",
    "        return (state.max - state.min) / norm <= self.threshold\n",
    "    \n",
    "\n",
    "def ebv(norder: int):\n",
    "    n_size = healpy.order2nside(norder)\n",
    "    n_pix = healpy.order2npix(norder)\n",
    "    \n",
    "    indexes = np.arange(n_pix)\n",
    "    ra, dec = healpy.pix2ang(n_size, indexes, nest=True, lonlat=True)\n",
    "    coord = SkyCoord(ra=ra, dec=dec, unit='deg')\n",
    "    \n",
    "    sfd_query = SFDQuery(INPUT_DIR)\n",
    "    return sfd_query(coord)\n",
    "    \n",
    "\n",
    "class Builder(StateMerger, AbstractMultiorderMapBuilder):\n",
    "    def __init__(self, max_norder, threshold):\n",
    "        AbstractMultiorderMapBuilder.__init__(self, max_norder)\n",
    "        StateMerger.__init__(self, threshold)\n",
    "        \n",
    "        self.ebv = ebv(max_norder)\n",
    "        \n",
    "    def calculate_state(self, index_max_norder: int) -> MinMaxMeanState:\n",
    "        value = self.ebv[index_max_norder].item()\n",
    "        return MinMaxMeanState(min=value, max=value, mean=value)"
   ],
   "metadata": {
    "collapsed": false,
    "ExecuteTime": {
     "end_time": "2023-11-15T21:13:02.728799Z",
     "start_time": "2023-11-15T21:13:02.724270Z"
    }
   },
   "id": "b387a5b5864e026a"
  },
  {
   "cell_type": "code",
   "execution_count": 9,
   "outputs": [
    {
     "name": "stdout",
     "output_type": "stream",
     "text": [
      "CPU times: user 23.2 ms, sys: 18.6 ms, total: 41.8 ms\n",
      "Wall time: 51.5 ms\n"
     ]
    }
   ],
   "source": [
    "%%time\n",
    "\n",
    "tiles = Builder(max_norder=3, threshold=0.9).build()"
   ],
   "metadata": {
    "collapsed": false,
    "ExecuteTime": {
     "end_time": "2023-11-15T21:13:03.054227Z",
     "start_time": "2023-11-15T21:13:02.990201Z"
    }
   },
   "id": "fdfe42795822e24c"
  },
  {
   "cell_type": "code",
   "execution_count": 20,
   "outputs": [
    {
     "name": "stdout",
     "output_type": "stream",
     "text": [
      "CPU times: user 1min 7s, sys: 2.6 s, total: 1min 10s\n",
      "Wall time: 1min 11s\n"
     ]
    }
   ],
   "source": [
    "%%time\n",
    "\n",
    "tiles = Builder(max_norder=11, threshold=0.016).build()"
   ],
   "metadata": {
    "collapsed": false,
    "ExecuteTime": {
     "end_time": "2023-11-15T21:17:01.774110Z",
     "start_time": "2023-11-15T21:15:50.339070Z"
    }
   },
   "id": "a26d0df15e2781c4"
  },
  {
   "cell_type": "code",
   "execution_count": null,
   "outputs": [],
   "source": [],
   "metadata": {
    "collapsed": false
   },
   "id": "6ecbc6386ad46790"
  },
  {
   "cell_type": "markdown",
   "source": [],
   "metadata": {
    "collapsed": false
   },
   "id": "69018a0ef010d79f"
  },
  {
   "cell_type": "code",
   "execution_count": null,
   "outputs": [],
   "source": [],
   "metadata": {
    "collapsed": false
   },
   "id": "99f7736e0f97198a"
  }
 ],
 "metadata": {
  "kernelspec": {
   "display_name": "Python 3",
   "language": "python",
   "name": "python3"
  },
  "language_info": {
   "codemirror_mode": {
    "name": "ipython",
    "version": 2
   },
   "file_extension": ".py",
   "mimetype": "text/x-python",
   "name": "python",
   "nbconvert_exporter": "python",
   "pygments_lexer": "ipython2",
   "version": "2.7.6"
  }
 },
 "nbformat": 4,
 "nbformat_minor": 5
}
