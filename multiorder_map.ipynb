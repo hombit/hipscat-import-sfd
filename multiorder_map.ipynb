{
 "cells": [
  {
   "cell_type": "code",
   "execution_count": 1,
   "outputs": [],
   "source": [
    "import os; os.environ['RUST_BACKTRACE'] = '1'"
   ],
   "metadata": {
    "collapsed": false,
    "ExecuteTime": {
     "end_time": "2023-11-21T14:20:06.975883Z",
     "start_time": "2023-11-21T14:20:06.967307Z"
    }
   },
   "id": "9c8da9f488f9c9a3"
  },
  {
   "cell_type": "code",
   "execution_count": 2,
   "outputs": [],
   "source": [
    "import healpy\n",
    "import numpy as np\n",
    "from astropy.coordinates import SkyCoord\n",
    "from dustmaps.sfd import SFDQuery\n",
    "from joblib import Parallel, delayed\n",
    "\n",
    "from mom_builder import mom_from_array, mom_from_batch_it\n",
    "from multiorder import AbstractMultiorderMapBuilder\n",
    "from min_max_mean_state import MinMaxMeanState, MinMaxMeanStateMerger\n",
    "from paths import *"
   ],
   "metadata": {
    "collapsed": false,
    "ExecuteTime": {
     "end_time": "2023-11-21T14:20:07.933321Z",
     "start_time": "2023-11-21T14:20:06.971764Z"
    }
   },
   "id": "initial_id"
  },
  {
   "cell_type": "code",
   "execution_count": 3,
   "outputs": [],
   "source": [
    "class StateMerger(MinMaxMeanStateMerger):\n",
    "    def __init__(self, threshold: float = 0.16):\n",
    "        self.threshold = threshold\n",
    "    \n",
    "    def validate_state(self, state: MinMaxMeanState) -> bool:\n",
    "        norm = max(map(abs, [state.min, state.max]))\n",
    "        if norm == 0.0:\n",
    "            return True\n",
    "        return (state.max - state.min) / norm <= self.threshold\n",
    "    \n",
    "sfd_query = SFDQuery(INPUT_DIR)\n",
    "\n",
    "def ebv(norder: int, index_range=None):\n",
    "    n_size = healpy.order2nside(norder)\n",
    "    n_pix = healpy.order2npix(norder)\n",
    "    \n",
    "    if index_range is None:\n",
    "        index_range = (0, n_pix)\n",
    "    if index_range[1] > n_pix:\n",
    "        index_range = (index_range[0], n_pix)\n",
    "    \n",
    "    indexes = np.arange(*index_range)\n",
    "    \n",
    "    ra, dec = healpy.pix2ang(n_size, indexes, nest=True, lonlat=True)\n",
    "    coord = SkyCoord(ra=ra, dec=dec, unit='deg')\n",
    "    \n",
    "    return sfd_query(coord)\n",
    "\n",
    "\n",
    "def ebv_f64(norder: int, index_range=None):\n",
    "    return ebv(norder, index_range).astype(np.float64)\n",
    "    \n",
    "\n",
    "class Builder(StateMerger, AbstractMultiorderMapBuilder):\n",
    "    def __init__(self, max_norder, threshold, ebv_vals):\n",
    "        AbstractMultiorderMapBuilder.__init__(self, max_norder)\n",
    "        StateMerger.__init__(self, threshold)\n",
    "        \n",
    "        self.ebv = ebv_vals\n",
    "        \n",
    "    def calculate_state(self, index_max_norder: int) -> MinMaxMeanState:\n",
    "        value = self.ebv[index_max_norder].item()\n",
    "        return MinMaxMeanState(min=value, max=value, mean=value)"
   ],
   "metadata": {
    "collapsed": false,
    "ExecuteTime": {
     "end_time": "2023-11-21T14:20:07.947936Z",
     "start_time": "2023-11-21T14:20:07.935758Z"
    }
   },
   "id": "b387a5b5864e026a"
  },
  {
   "cell_type": "code",
   "execution_count": 4,
   "outputs": [
    {
     "name": "stdout",
     "output_type": "stream",
     "text": [
      "CPU times: user 618 ms, sys: 184 ms, total: 802 ms\n",
      "Wall time: 1.01 s\n",
      "CPU times: user 3.74 s, sys: 36 ms, total: 3.77 s\n",
      "Wall time: 3.8 s\n",
      "CPU times: user 38.7 ms, sys: 9.77 ms, total: 48.5 ms\n",
      "Wall time: 50.1 ms\n"
     ]
    }
   ],
   "source": [
    "max_norder = 9\n",
    "\n",
    "%time ebv_vals = ebv(max_norder)\n",
    "\n",
    "%time tiles = Builder(max_norder=max_norder, threshold=0.16, ebv_vals=ebv_vals).build()\n",
    "\n",
    "%time mom = mom_from_array(ebv_vals.astype(np.float64), max_norder, 0.16)"
   ],
   "metadata": {
    "collapsed": false,
    "ExecuteTime": {
     "end_time": "2023-11-21T14:20:12.883018Z",
     "start_time": "2023-11-21T14:20:08.024075Z"
    }
   },
   "id": "fdfe42795822e24c"
  },
  {
   "cell_type": "code",
   "execution_count": 14,
   "outputs": [
    {
     "data": {
      "text/plain": "(318, 318)"
     },
     "execution_count": 14,
     "metadata": {},
     "output_type": "execute_result"
    }
   ],
   "source": [
    "len(tiles[6].indexes), len(mom[6][0])"
   ],
   "metadata": {
    "collapsed": false,
    "ExecuteTime": {
     "end_time": "2023-11-21T14:23:26.816109Z",
     "start_time": "2023-11-21T14:23:26.814624Z"
    }
   },
   "id": "bebcd957db7a6a51"
  },
  {
   "cell_type": "code",
   "execution_count": 5,
   "outputs": [
    {
     "name": "stdout",
     "output_type": "stream",
     "text": [
      "CPU times: user 29min 25s, sys: 2min 13s, total: 31min 39s\n",
      "Wall time: 7min 23s\n"
     ]
    }
   ],
   "source": [
    "%%time\n",
    "\n",
    "max_norder = 14\n",
    "thereshold = 0.16 / 2\n",
    "batch_size = 1 << 20\n",
    "\n",
    "batches = range(0, healpy.order2npix(max_norder) + batch_size, batch_size)\n",
    "\n",
    "it = Parallel(n_jobs=-1, return_as=\"generator\", backend=\"threading\")(\n",
    "    delayed(ebv_f64)(max_norder, rng)\n",
    "    for rng in zip(batches, batches[1:])\n",
    ")\n",
    "\n",
    "mom = mom_from_batch_it(it, max_norder, thereshold)"
   ],
   "metadata": {
    "collapsed": false,
    "ExecuteTime": {
     "end_time": "2023-11-18T13:38:31.306939Z",
     "start_time": "2023-11-18T13:31:08.088580Z"
    }
   },
   "id": "ade3acebc6c81a22"
  },
  {
   "cell_type": "code",
   "execution_count": 6,
   "outputs": [
    {
     "name": "stdout",
     "output_type": "stream",
     "text": [
      "Number of tiles: 25_869_093 / 3_221_225_472 (0.80%)\n"
     ]
    }
   ],
   "source": [
    "ntiles = sum(len(indexes) for indexes, values in mom)\n",
    "max_ntiles = healpy.order2npix(max_norder)\n",
    "print(f\"Number of tiles: {ntiles:_d} / {max_ntiles:_d} ({ntiles / max_ntiles:.2%})\")"
   ],
   "metadata": {
    "collapsed": false,
    "ExecuteTime": {
     "end_time": "2023-11-18T13:38:31.323782Z",
     "start_time": "2023-11-18T13:38:31.245028Z"
    }
   },
   "id": "fd239bb8683df17d"
  },
  {
   "cell_type": "code",
   "execution_count": 6,
   "outputs": [],
   "source": [],
   "metadata": {
    "collapsed": false,
    "ExecuteTime": {
     "end_time": "2023-11-18T13:38:31.323866Z",
     "start_time": "2023-11-18T13:38:31.265044Z"
    }
   },
   "id": "9a9ecc9a180190a6"
  }
 ],
 "metadata": {
  "kernelspec": {
   "display_name": "Python 3",
   "language": "python",
   "name": "python3"
  },
  "language_info": {
   "codemirror_mode": {
    "name": "ipython",
    "version": 2
   },
   "file_extension": ".py",
   "mimetype": "text/x-python",
   "name": "python",
   "nbconvert_exporter": "python",
   "pygments_lexer": "ipython2",
   "version": "2.7.6"
  }
 },
 "nbformat": 4,
 "nbformat_minor": 5
}
