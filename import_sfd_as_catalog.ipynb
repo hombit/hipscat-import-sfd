{
 "cells": [
  {
   "cell_type": "code",
   "execution_count": 1,
   "outputs": [],
   "source": [
    "import hipscat_import.pipeline as runner\n",
    "from hipscat.pixel_math.hipscat_id import HIPSCAT_ID_COLUMN\n",
    "from hipscat_import.catalog.arguments import ImportArguments\n",
    "\n",
    "from paths import *"
   ],
   "metadata": {
    "collapsed": false,
    "ExecuteTime": {
     "end_time": "2023-11-03T14:58:18.337518Z",
     "start_time": "2023-11-03T14:58:17.278480Z"
    }
   },
   "id": "709f877d96c4b58a"
  },
  {
   "cell_type": "markdown",
   "source": [
    "### Importing"
   ],
   "metadata": {
    "collapsed": false
   },
   "id": "3719a2ab5d2cdbcf"
  },
  {
   "cell_type": "code",
   "execution_count": 2,
   "outputs": [
    {
     "name": "stderr",
     "output_type": "stream",
     "text": [
      "Planning  : 100%|██████████| 5/5 [00:00<00:00, 881.05it/s]\n",
      "Mapping   : 100%|██████████| 3072/3072 [00:13<00:00, 224.42it/s]\n",
      "Binning   : 100%|██████████| 2/2 [00:00<00:00,  2.65it/s]\n",
      "Splitting : 100%|██████████| 3072/3072 [05:13<00:00,  9.81it/s]\n",
      "Reducing  : 100%|██████████| 3072/3072 [00:56<00:00, 54.12it/s]\n",
      "Finishing : 100%|██████████| 6/6 [00:01<00:00,  5.01it/s]\n"
     ]
    },
    {
     "name": "stdout",
     "output_type": "stream",
     "text": [
      "CPU times: user 51.7 s, sys: 13.7 s, total: 1min 5s\n",
      "Wall time: 6min 29s\n"
     ]
    }
   ],
   "source": [
    "%%time\n",
    "\n",
    "OUTPUT_DIR.mkdir(exist_ok=True, parents=True)\n",
    "\n",
    "args = ImportArguments(\n",
    "    input_path=str(PARQUET_DIR),\n",
    "    input_format=\"parquet\",\n",
    "    use_hipscat_index=True,\n",
    "    add_hipscat_index=False,\n",
    "    id_column=HIPSCAT_ID_COLUMN,\n",
    "    output_catalog_name=\"sfd\",\n",
    "    output_path=OUTPUT_DIR,\n",
    "    pixel_threshold=1 << 20,\n",
    "    highest_healpix_order=5,\n",
    "    dask_n_workers=12,\n",
    "    progress_bar=True,\n",
    "    overwrite=True,\n",
    "    resume=False,\n",
    ")\n",
    "runner.pipeline(args)"
   ],
   "metadata": {
    "collapsed": false,
    "ExecuteTime": {
     "end_time": "2023-11-03T15:04:48.907160Z",
     "start_time": "2023-11-03T14:58:19.062527Z"
    }
   },
   "id": "initial_id"
  },
  {
   "cell_type": "markdown",
   "source": [
    "### Validating"
   ],
   "metadata": {
    "collapsed": false
   },
   "id": "8b51d6383be9d9c7"
  },
  {
   "cell_type": "code",
   "execution_count": 20,
   "outputs": [
    {
     "data": {
      "text/plain": "                     pixel_Norder  pixel_Npix       ebv  Norder  Dir  Npix\n_hipscat_index                                                            \n1499698675914375168            14   349175808  0.021667       4    0   333\n1499698680209342464            14   349175809  0.021686       4    0   333\n1499698684504309760            14   349175810  0.021684       4    0   333\n1499698688799277056            14   349175811  0.021698       4    0   333\n1499698693094244352            14   349175812  0.021702       4    0   333\n...                           ...         ...       ...     ...  ...   ...\n1504202254066909184            14   350224379  0.016422       4    0   333\n1504202258361876480            14   350224380  0.016418       4    0   333\n1504202262656843776            14   350224381  0.016389       4    0   333\n1504202266951811072            14   350224382  0.016388       4    0   333\n1504202271246778368            14   350224383  0.016357       4    0   333\n\n[1048576 rows x 6 columns]",
      "text/html": "<div>\n<style scoped>\n    .dataframe tbody tr th:only-of-type {\n        vertical-align: middle;\n    }\n\n    .dataframe tbody tr th {\n        vertical-align: top;\n    }\n\n    .dataframe thead th {\n        text-align: right;\n    }\n</style>\n<table border=\"1\" class=\"dataframe\">\n  <thead>\n    <tr style=\"text-align: right;\">\n      <th></th>\n      <th>pixel_Norder</th>\n      <th>pixel_Npix</th>\n      <th>ebv</th>\n      <th>Norder</th>\n      <th>Dir</th>\n      <th>Npix</th>\n    </tr>\n    <tr>\n      <th>_hipscat_index</th>\n      <th></th>\n      <th></th>\n      <th></th>\n      <th></th>\n      <th></th>\n      <th></th>\n    </tr>\n  </thead>\n  <tbody>\n    <tr>\n      <th>1499698675914375168</th>\n      <td>14</td>\n      <td>349175808</td>\n      <td>0.021667</td>\n      <td>4</td>\n      <td>0</td>\n      <td>333</td>\n    </tr>\n    <tr>\n      <th>1499698680209342464</th>\n      <td>14</td>\n      <td>349175809</td>\n      <td>0.021686</td>\n      <td>4</td>\n      <td>0</td>\n      <td>333</td>\n    </tr>\n    <tr>\n      <th>1499698684504309760</th>\n      <td>14</td>\n      <td>349175810</td>\n      <td>0.021684</td>\n      <td>4</td>\n      <td>0</td>\n      <td>333</td>\n    </tr>\n    <tr>\n      <th>1499698688799277056</th>\n      <td>14</td>\n      <td>349175811</td>\n      <td>0.021698</td>\n      <td>4</td>\n      <td>0</td>\n      <td>333</td>\n    </tr>\n    <tr>\n      <th>1499698693094244352</th>\n      <td>14</td>\n      <td>349175812</td>\n      <td>0.021702</td>\n      <td>4</td>\n      <td>0</td>\n      <td>333</td>\n    </tr>\n    <tr>\n      <th>...</th>\n      <td>...</td>\n      <td>...</td>\n      <td>...</td>\n      <td>...</td>\n      <td>...</td>\n      <td>...</td>\n    </tr>\n    <tr>\n      <th>1504202254066909184</th>\n      <td>14</td>\n      <td>350224379</td>\n      <td>0.016422</td>\n      <td>4</td>\n      <td>0</td>\n      <td>333</td>\n    </tr>\n    <tr>\n      <th>1504202258361876480</th>\n      <td>14</td>\n      <td>350224380</td>\n      <td>0.016418</td>\n      <td>4</td>\n      <td>0</td>\n      <td>333</td>\n    </tr>\n    <tr>\n      <th>1504202262656843776</th>\n      <td>14</td>\n      <td>350224381</td>\n      <td>0.016389</td>\n      <td>4</td>\n      <td>0</td>\n      <td>333</td>\n    </tr>\n    <tr>\n      <th>1504202266951811072</th>\n      <td>14</td>\n      <td>350224382</td>\n      <td>0.016388</td>\n      <td>4</td>\n      <td>0</td>\n      <td>333</td>\n    </tr>\n    <tr>\n      <th>1504202271246778368</th>\n      <td>14</td>\n      <td>350224383</td>\n      <td>0.016357</td>\n      <td>4</td>\n      <td>0</td>\n      <td>333</td>\n    </tr>\n  </tbody>\n</table>\n<p>1048576 rows × 6 columns</p>\n</div>"
     },
     "metadata": {},
     "output_type": "display_data"
    }
   ],
   "source": [
    "import numpy as np\n",
    "import pandas as pd\n",
    "from hipscat.pixel_math.hipscat_id import hipscat_id_to_healpix\n",
    "\n",
    "df = pd.read_parquet('data/output/sfd/Norder=4/Dir=0/Npix=333.parquet')\n",
    "df.set_index(HIPSCAT_ID_COLUMN, inplace=True)\n",
    "display(df)\n",
    "\n",
    "offsets = np.diff(df.index.values)\n",
    "np.testing.assert_array_equal(\n",
    "    hipscat_id_to_healpix(df.index, target_order=df['pixel_Norder']),\n",
    "    df['pixel_Npix'],\n",
    ")"
   ],
   "metadata": {
    "collapsed": false,
    "ExecuteTime": {
     "end_time": "2023-11-03T15:18:19.367856Z",
     "start_time": "2023-11-03T15:18:19.329618Z"
    }
   },
   "id": "6ffa878004073a49"
  }
 ],
 "metadata": {
  "kernelspec": {
   "display_name": "Python 3",
   "language": "python",
   "name": "python3"
  },
  "language_info": {
   "codemirror_mode": {
    "name": "ipython",
    "version": 2
   },
   "file_extension": ".py",
   "mimetype": "text/x-python",
   "name": "python",
   "nbconvert_exporter": "python",
   "pygments_lexer": "ipython2",
   "version": "2.7.6"
  }
 },
 "nbformat": 4,
 "nbformat_minor": 5
}
