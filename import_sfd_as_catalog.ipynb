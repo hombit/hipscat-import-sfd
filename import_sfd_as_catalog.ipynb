{
 "cells": [
  {
   "cell_type": "code",
   "execution_count": 1,
   "outputs": [],
   "source": [
    "import hipscat_import.pipeline as runner\n",
    "from hipscat.pixel_math.hipscat_id import HIPSCAT_ID_COLUMN\n",
    "from hipscat_import.catalog.arguments import ImportArguments\n",
    "\n",
    "from paths import *"
   ],
   "metadata": {
    "collapsed": false,
    "ExecuteTime": {
     "end_time": "2023-11-28T16:55:53.306294Z",
     "start_time": "2023-11-28T16:55:52.272840Z"
    }
   },
   "id": "709f877d96c4b58a"
  },
  {
   "cell_type": "markdown",
   "source": [
    "### Importing"
   ],
   "metadata": {
    "collapsed": false
   },
   "id": "3719a2ab5d2cdbcf"
  },
  {
   "cell_type": "code",
   "execution_count": 6,
   "outputs": [
    {
     "name": "stderr",
     "output_type": "stream",
     "text": [
      "Planning  : 100%|██████████| 5/5 [00:00<00:00, 2900.22it/s]\n",
      "Mapping   : 100%|██████████| 10/10 [00:34<00:00,  3.45s/it]\n",
      "Binning   : 100%|██████████| 2/2 [00:00<00:00,  6.85it/s]\n",
      "Splitting : 100%|██████████| 10/10 [11:25<00:00, 68.56s/it] \n",
      "Reducing  : 100%|██████████| 4035/4035 [00:47<00:00, 85.47it/s] \n",
      "Finishing : 100%|██████████| 6/6 [00:01<00:00,  4.35it/s]\n"
     ]
    },
    {
     "name": "stdout",
     "output_type": "stream",
     "text": [
      "CPU times: user 27.6 s, sys: 7.3 s, total: 34.9 s\n",
      "Wall time: 12min 51s\n"
     ]
    }
   ],
   "source": [
    "%%time\n",
    "\n",
    "OUTPUT_DIR.mkdir(exist_ok=True, parents=True)\n",
    "\n",
    "args = ImportArguments(\n",
    "    input_path=str(PARQUET_DIR),\n",
    "    input_format=\"parquet\",\n",
    "    use_hipscat_index=True,\n",
    "    add_hipscat_index=False,\n",
    "    output_artifact_name=\"sfd\",\n",
    "    output_path=OUTPUT_DIR,\n",
    "    pixel_threshold=1 << 20,\n",
    "    highest_healpix_order=6,\n",
    "    dask_n_workers=12,\n",
    "    progress_bar=True,\n",
    "    overwrite=True,\n",
    "    # resume=False,\n",
    "    resume=True,\n",
    ")\n",
    "runner.pipeline(args)"
   ],
   "metadata": {
    "collapsed": false,
    "ExecuteTime": {
     "end_time": "2023-11-28T17:12:35.060502Z",
     "start_time": "2023-11-28T16:59:43.075118Z"
    }
   },
   "id": "initial_id"
  },
  {
   "cell_type": "markdown",
   "source": [
    "### Validation"
   ],
   "metadata": {
    "collapsed": false
   },
   "id": "8b51d6383be9d9c7"
  },
  {
   "cell_type": "code",
   "execution_count": 7,
   "outputs": [
    {
     "data": {
      "text/plain": "                     pixel_Norder  pixel_Npix       ebv  Norder  Dir  Npix\n_hipscat_index                                                            \n1500065912798052352            10     1364302  0.017332       4    0   333\n1502170378053615616            10     1366216  0.020487       4    0   333\n1503008205913980928            10     1366978  0.019062       4    0   333\n1499699225670189056            11     5455874  0.021926       4    0   333\n1499699500548096000            11     5455875  0.021974       4    0   333\n...                           ...         ...       ...     ...  ...   ...\n1502084222888706048            16  5595699783  0.020891       4    0   333\n1502084223157141504            16  5595699784  0.021084       4    0   333\n1502084223425576960            16  5595699785  0.021001       4    0   333\n1502084223694012416            16  5595699786  0.021026       4    0   333\n1502084223962447872            16  5595699787  0.020943       4    0   333\n\n[648334 rows x 6 columns]",
      "text/html": "<div>\n<style scoped>\n    .dataframe tbody tr th:only-of-type {\n        vertical-align: middle;\n    }\n\n    .dataframe tbody tr th {\n        vertical-align: top;\n    }\n\n    .dataframe thead th {\n        text-align: right;\n    }\n</style>\n<table border=\"1\" class=\"dataframe\">\n  <thead>\n    <tr style=\"text-align: right;\">\n      <th></th>\n      <th>pixel_Norder</th>\n      <th>pixel_Npix</th>\n      <th>ebv</th>\n      <th>Norder</th>\n      <th>Dir</th>\n      <th>Npix</th>\n    </tr>\n    <tr>\n      <th>_hipscat_index</th>\n      <th></th>\n      <th></th>\n      <th></th>\n      <th></th>\n      <th></th>\n      <th></th>\n    </tr>\n  </thead>\n  <tbody>\n    <tr>\n      <th>1500065912798052352</th>\n      <td>10</td>\n      <td>1364302</td>\n      <td>0.017332</td>\n      <td>4</td>\n      <td>0</td>\n      <td>333</td>\n    </tr>\n    <tr>\n      <th>1502170378053615616</th>\n      <td>10</td>\n      <td>1366216</td>\n      <td>0.020487</td>\n      <td>4</td>\n      <td>0</td>\n      <td>333</td>\n    </tr>\n    <tr>\n      <th>1503008205913980928</th>\n      <td>10</td>\n      <td>1366978</td>\n      <td>0.019062</td>\n      <td>4</td>\n      <td>0</td>\n      <td>333</td>\n    </tr>\n    <tr>\n      <th>1499699225670189056</th>\n      <td>11</td>\n      <td>5455874</td>\n      <td>0.021926</td>\n      <td>4</td>\n      <td>0</td>\n      <td>333</td>\n    </tr>\n    <tr>\n      <th>1499699500548096000</th>\n      <td>11</td>\n      <td>5455875</td>\n      <td>0.021974</td>\n      <td>4</td>\n      <td>0</td>\n      <td>333</td>\n    </tr>\n    <tr>\n      <th>...</th>\n      <td>...</td>\n      <td>...</td>\n      <td>...</td>\n      <td>...</td>\n      <td>...</td>\n      <td>...</td>\n    </tr>\n    <tr>\n      <th>1502084222888706048</th>\n      <td>16</td>\n      <td>5595699783</td>\n      <td>0.020891</td>\n      <td>4</td>\n      <td>0</td>\n      <td>333</td>\n    </tr>\n    <tr>\n      <th>1502084223157141504</th>\n      <td>16</td>\n      <td>5595699784</td>\n      <td>0.021084</td>\n      <td>4</td>\n      <td>0</td>\n      <td>333</td>\n    </tr>\n    <tr>\n      <th>1502084223425576960</th>\n      <td>16</td>\n      <td>5595699785</td>\n      <td>0.021001</td>\n      <td>4</td>\n      <td>0</td>\n      <td>333</td>\n    </tr>\n    <tr>\n      <th>1502084223694012416</th>\n      <td>16</td>\n      <td>5595699786</td>\n      <td>0.021026</td>\n      <td>4</td>\n      <td>0</td>\n      <td>333</td>\n    </tr>\n    <tr>\n      <th>1502084223962447872</th>\n      <td>16</td>\n      <td>5595699787</td>\n      <td>0.020943</td>\n      <td>4</td>\n      <td>0</td>\n      <td>333</td>\n    </tr>\n  </tbody>\n</table>\n<p>648334 rows × 6 columns</p>\n</div>"
     },
     "metadata": {},
     "output_type": "display_data"
    }
   ],
   "source": [
    "import numpy as np\n",
    "import pandas as pd\n",
    "from hipscat.pixel_math.hipscat_id import hipscat_id_to_healpix\n",
    "\n",
    "df = pd.read_parquet('data/output/sfd/Norder=4/Dir=0/Npix=333.parquet')\n",
    "df.set_index(HIPSCAT_ID_COLUMN, inplace=True)\n",
    "display(df)\n",
    "\n",
    "offsets = np.diff(df.index.values)\n",
    "np.testing.assert_array_equal(\n",
    "    hipscat_id_to_healpix(df.index, target_order=df['pixel_Norder']),\n",
    "    df['pixel_Npix'],\n",
    ")"
   ],
   "metadata": {
    "collapsed": false,
    "ExecuteTime": {
     "end_time": "2023-11-28T17:53:58.884467Z",
     "start_time": "2023-11-28T17:53:58.845685Z"
    }
   },
   "id": "6ffa878004073a49"
  },
  {
   "cell_type": "code",
   "execution_count": null,
   "outputs": [],
   "source": [],
   "metadata": {
    "collapsed": false
   },
   "id": "623559b13f1a8336"
  }
 ],
 "metadata": {
  "kernelspec": {
   "display_name": "Python 3",
   "language": "python",
   "name": "python3"
  },
  "language_info": {
   "codemirror_mode": {
    "name": "ipython",
    "version": 2
   },
   "file_extension": ".py",
   "mimetype": "text/x-python",
   "name": "python",
   "nbconvert_exporter": "python",
   "pygments_lexer": "ipython2",
   "version": "2.7.6"
  }
 },
 "nbformat": 4,
 "nbformat_minor": 5
}
