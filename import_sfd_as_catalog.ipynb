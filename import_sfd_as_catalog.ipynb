{
 "cells": [
  {
   "cell_type": "code",
   "execution_count": 1,
   "outputs": [],
   "source": [
    "import hipscat_import.pipeline as runner\n",
    "from hipscat.pixel_math.hipscat_id import HIPSCAT_ID_COLUMN\n",
    "from hipscat_import.catalog.arguments import ImportArguments\n",
    "\n",
    "from paths import *"
   ],
   "metadata": {
    "collapsed": false,
    "ExecuteTime": {
     "end_time": "2023-12-01T19:20:45.316843Z",
     "start_time": "2023-12-01T19:20:43.876489Z"
    }
   },
   "id": "709f877d96c4b58a"
  },
  {
   "cell_type": "code",
   "execution_count": 2,
   "outputs": [],
   "source": [
    "output_artifact_name = \"sfd_multiorder_map\""
   ],
   "metadata": {
    "collapsed": false,
    "ExecuteTime": {
     "end_time": "2023-12-01T19:20:45.321261Z",
     "start_time": "2023-12-01T19:20:45.317400Z"
    }
   },
   "id": "3453a8dde0296de7"
  },
  {
   "cell_type": "markdown",
   "source": [
    "### Importing"
   ],
   "metadata": {
    "collapsed": false
   },
   "id": "3719a2ab5d2cdbcf"
  },
  {
   "cell_type": "code",
   "execution_count": 3,
   "outputs": [
    {
     "name": "stderr",
     "output_type": "stream",
     "text": [
      "Planning  : 100%|██████████| 5/5 [00:00<00:00, 1981.81it/s]\n",
      "Mapping   : 100%|██████████| 10/10 [00:36<00:00,  3.68s/it]\n",
      "Binning   : 100%|██████████| 2/2 [00:00<00:00, 10.62it/s]\n",
      "Splitting : 100%|██████████| 10/10 [11:49<00:00, 70.93s/it] \n",
      "Reducing  : 100%|██████████| 4035/4035 [01:15<00:00, 53.42it/s]\n",
      "Finishing : 100%|██████████| 6/6 [00:01<00:00,  3.18it/s]\n"
     ]
    },
    {
     "name": "stdout",
     "output_type": "stream",
     "text": [
      "CPU times: user 38 s, sys: 17.3 s, total: 55.3 s\n",
      "Wall time: 13min 47s\n"
     ]
    }
   ],
   "source": [
    "%%time\n",
    "\n",
    "OUTPUT_DIR.mkdir(exist_ok=True, parents=True)\n",
    "\n",
    "args = ImportArguments(\n",
    "    input_path=str(PARQUET_DIR),\n",
    "    input_format=\"parquet\",\n",
    "    use_hipscat_index=True,\n",
    "    add_hipscat_index=False,\n",
    "    output_artifact_name=output_artifact_name,\n",
    "    sort_columns=HIPSCAT_ID_COLUMN,\n",
    "    output_path=OUTPUT_DIR,\n",
    "    pixel_threshold=1 << 20,\n",
    "    highest_healpix_order=6,\n",
    "    dask_n_workers=12,\n",
    "    progress_bar=True,\n",
    "    overwrite=True,\n",
    "    resume=False,\n",
    ")\n",
    "runner.pipeline(args)"
   ],
   "metadata": {
    "collapsed": false,
    "ExecuteTime": {
     "end_time": "2023-12-01T19:34:33.249629Z",
     "start_time": "2023-12-01T19:20:45.320403Z"
    }
   },
   "id": "initial_id"
  },
  {
   "cell_type": "markdown",
   "source": [
    "### Validation"
   ],
   "metadata": {
    "collapsed": false
   },
   "id": "8b51d6383be9d9c7"
  },
  {
   "cell_type": "code",
   "execution_count": 4,
   "outputs": [
    {
     "data": {
      "text/plain": "                     pixel_Norder  pixel_Npix       ebv  Norder  Dir  Npix\n_hipscat_index                                                            \n1499698675914375168            12    21823488  0.021717       4    0   333\n1499698744633851904            12    21823489  0.021764       4    0   333\n1499698813353328640            12    21823490  0.021797       4    0   333\n1499698882072805376            12    21823491  0.021838       4    0   333\n1499698950792282112            12    21823492  0.021766       4    0   333\n...                           ...         ...       ...     ...  ...   ...\n1504202202527301632            14   350224367  0.016499       4    0   333\n1504202206822268928            13    87556092  0.016498       4    0   333\n1504202224002138112            13    87556093  0.016441       4    0   333\n1504202241182007296            13    87556094  0.016454       4    0   333\n1504202258361876480            13    87556095  0.016388       4    0   333\n\n[648334 rows x 6 columns]",
      "text/html": "<div>\n<style scoped>\n    .dataframe tbody tr th:only-of-type {\n        vertical-align: middle;\n    }\n\n    .dataframe tbody tr th {\n        vertical-align: top;\n    }\n\n    .dataframe thead th {\n        text-align: right;\n    }\n</style>\n<table border=\"1\" class=\"dataframe\">\n  <thead>\n    <tr style=\"text-align: right;\">\n      <th></th>\n      <th>pixel_Norder</th>\n      <th>pixel_Npix</th>\n      <th>ebv</th>\n      <th>Norder</th>\n      <th>Dir</th>\n      <th>Npix</th>\n    </tr>\n    <tr>\n      <th>_hipscat_index</th>\n      <th></th>\n      <th></th>\n      <th></th>\n      <th></th>\n      <th></th>\n      <th></th>\n    </tr>\n  </thead>\n  <tbody>\n    <tr>\n      <th>1499698675914375168</th>\n      <td>12</td>\n      <td>21823488</td>\n      <td>0.021717</td>\n      <td>4</td>\n      <td>0</td>\n      <td>333</td>\n    </tr>\n    <tr>\n      <th>1499698744633851904</th>\n      <td>12</td>\n      <td>21823489</td>\n      <td>0.021764</td>\n      <td>4</td>\n      <td>0</td>\n      <td>333</td>\n    </tr>\n    <tr>\n      <th>1499698813353328640</th>\n      <td>12</td>\n      <td>21823490</td>\n      <td>0.021797</td>\n      <td>4</td>\n      <td>0</td>\n      <td>333</td>\n    </tr>\n    <tr>\n      <th>1499698882072805376</th>\n      <td>12</td>\n      <td>21823491</td>\n      <td>0.021838</td>\n      <td>4</td>\n      <td>0</td>\n      <td>333</td>\n    </tr>\n    <tr>\n      <th>1499698950792282112</th>\n      <td>12</td>\n      <td>21823492</td>\n      <td>0.021766</td>\n      <td>4</td>\n      <td>0</td>\n      <td>333</td>\n    </tr>\n    <tr>\n      <th>...</th>\n      <td>...</td>\n      <td>...</td>\n      <td>...</td>\n      <td>...</td>\n      <td>...</td>\n      <td>...</td>\n    </tr>\n    <tr>\n      <th>1504202202527301632</th>\n      <td>14</td>\n      <td>350224367</td>\n      <td>0.016499</td>\n      <td>4</td>\n      <td>0</td>\n      <td>333</td>\n    </tr>\n    <tr>\n      <th>1504202206822268928</th>\n      <td>13</td>\n      <td>87556092</td>\n      <td>0.016498</td>\n      <td>4</td>\n      <td>0</td>\n      <td>333</td>\n    </tr>\n    <tr>\n      <th>1504202224002138112</th>\n      <td>13</td>\n      <td>87556093</td>\n      <td>0.016441</td>\n      <td>4</td>\n      <td>0</td>\n      <td>333</td>\n    </tr>\n    <tr>\n      <th>1504202241182007296</th>\n      <td>13</td>\n      <td>87556094</td>\n      <td>0.016454</td>\n      <td>4</td>\n      <td>0</td>\n      <td>333</td>\n    </tr>\n    <tr>\n      <th>1504202258361876480</th>\n      <td>13</td>\n      <td>87556095</td>\n      <td>0.016388</td>\n      <td>4</td>\n      <td>0</td>\n      <td>333</td>\n    </tr>\n  </tbody>\n</table>\n<p>648334 rows × 6 columns</p>\n</div>"
     },
     "metadata": {},
     "output_type": "display_data"
    }
   ],
   "source": [
    "import numpy as np\n",
    "import pandas as pd\n",
    "from hipscat.pixel_math.hipscat_id import hipscat_id_to_healpix\n",
    "\n",
    "df = pd.read_parquet('data/output/sfd_multiorder_map/Norder=4/Dir=0/Npix=333.parquet')\n",
    "df.set_index(HIPSCAT_ID_COLUMN, inplace=True)\n",
    "display(df)\n",
    "\n",
    "offsets = np.diff(df.index.values)\n",
    "np.testing.assert_array_equal(\n",
    "    hipscat_id_to_healpix(df.index, target_order=df['pixel_Norder']),\n",
    "    df['pixel_Npix'],\n",
    ")"
   ],
   "metadata": {
    "collapsed": false,
    "ExecuteTime": {
     "end_time": "2023-12-01T19:34:33.296001Z",
     "start_time": "2023-12-01T19:34:33.247898Z"
    }
   },
   "id": "6ffa878004073a49"
  },
  {
   "cell_type": "code",
   "execution_count": 4,
   "outputs": [],
   "source": [],
   "metadata": {
    "collapsed": false,
    "ExecuteTime": {
     "end_time": "2023-12-01T19:34:33.299646Z",
     "start_time": "2023-12-01T19:34:33.296558Z"
    }
   },
   "id": "623559b13f1a8336"
  }
 ],
 "metadata": {
  "kernelspec": {
   "display_name": "Python 3",
   "language": "python",
   "name": "python3"
  },
  "language_info": {
   "codemirror_mode": {
    "name": "ipython",
    "version": 2
   },
   "file_extension": ".py",
   "mimetype": "text/x-python",
   "name": "python",
   "nbconvert_exporter": "python",
   "pygments_lexer": "ipython2",
   "version": "2.7.6"
  }
 },
 "nbformat": 4,
 "nbformat_minor": 5
}
