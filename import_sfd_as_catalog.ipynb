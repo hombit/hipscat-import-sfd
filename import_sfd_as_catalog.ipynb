{
 "cells": [
  {
   "cell_type": "code",
   "execution_count": 1,
   "outputs": [],
   "source": [
    "from pathlib import Path\n",
    "\n",
    "import hipscat_import.pipeline as runner\n",
    "from hipscat_import.catalog.arguments import ImportArguments\n",
    "\n",
    "from utils import get_hemisphere"
   ],
   "metadata": {
    "collapsed": false,
    "ExecuteTime": {
     "end_time": "2023-10-07T11:22:51.557204Z",
     "start_time": "2023-10-07T11:22:46.272026Z"
    }
   },
   "id": "709f877d96c4b58a"
  },
  {
   "cell_type": "code",
   "execution_count": 2,
   "outputs": [],
   "source": [
    "DATA_DIR = Path('./data')\n",
    "INPUT_DIR = DATA_DIR / 'input'\n",
    "PARQUET_DIR = DATA_DIR / 'tmp-parquet'\n",
    "OUTPUT_DIR = DATA_DIR / 'output'"
   ],
   "metadata": {
    "collapsed": false,
    "ExecuteTime": {
     "end_time": "2023-10-07T11:22:51.560073Z",
     "start_time": "2023-10-07T11:22:51.557418Z"
    }
   },
   "id": "ead50ecaad687113"
  },
  {
   "cell_type": "markdown",
   "source": [
    "# Transform FITS files to parquet"
   ],
   "metadata": {
    "collapsed": false
   },
   "id": "8769fa4ae006b28b"
  },
  {
   "cell_type": "code",
   "execution_count": 3,
   "outputs": [
    {
     "name": "stdout",
     "output_type": "stream",
     "text": [
      "CPU times: user 6.37 s, sys: 1.24 s, total: 7.61 s\n",
      "Wall time: 7.53 s\n"
     ]
    }
   ],
   "source": [
    "%%time\n",
    "\n",
    "PARQUET_DIR.mkdir(exist_ok=True, parents=True)\n",
    "for hemisphere in [\"n\", \"s\"]:\n",
    "    df = get_hemisphere(INPUT_DIR, hemisphere)\n",
    "    df.to_parquet(PARQUET_DIR / f\"sfd-{hemisphere}.parquet\")"
   ],
   "metadata": {
    "collapsed": false,
    "ExecuteTime": {
     "end_time": "2023-10-07T11:22:59.087601Z",
     "start_time": "2023-10-07T11:22:51.560297Z"
    }
   },
   "id": "b937ffa362d97879"
  },
  {
   "cell_type": "markdown",
   "source": [
    "# Import parquet "
   ],
   "metadata": {
    "collapsed": false
   },
   "id": "85437350f1b4bec4"
  },
  {
   "cell_type": "code",
   "execution_count": 4,
   "outputs": [
    {
     "name": "stderr",
     "output_type": "stream",
     "text": [
      "Planning : 100%|██████████| 5/5 [00:00<00:00, 3287.07it/s]\n",
      "mapping: 100%|██████████| 2/2 [00:01<00:00,  1.03it/s]\n",
      "Binning  : 100%|██████████| 2/2 [00:59<00:00, 29.76s/it]\n",
      "splitting: 100%|██████████| 2/2 [00:27<00:00, 13.98s/it]\n",
      "reducing: 100%|██████████| 3072/3072 [00:24<00:00, 125.62it/s]\n",
      "Finishing: 100%|██████████| 6/6 [00:00<00:00,  6.95it/s]\n"
     ]
    },
    {
     "name": "stdout",
     "output_type": "stream",
     "text": [
      "CPU times: user 1min 4s, sys: 2.36 s, total: 1min 6s\n",
      "Wall time: 1min 57s\n"
     ]
    }
   ],
   "source": [
    "%%time\n",
    "\n",
    "OUTPUT_DIR.mkdir(exist_ok=True, parents=True)\n",
    "\n",
    "args = ImportArguments(\n",
    "    id_column=\"id\",\n",
    "    ra_column=\"ra_deg\",\n",
    "    dec_column=\"dec_deg\",\n",
    "    input_path=PARQUET_DIR,\n",
    "    input_format=\"parquet\",\n",
    "    output_catalog_name=\"sfd\",\n",
    "    output_path=OUTPUT_DIR,\n",
    "    pixel_threshold=10_000,\n",
    "    overwrite=True,\n",
    ")\n",
    "runner.pipeline(args)"
   ],
   "metadata": {
    "collapsed": false,
    "ExecuteTime": {
     "end_time": "2023-10-07T11:25:02.428385Z",
     "start_time": "2023-10-07T11:23:04.709248Z"
    }
   },
   "id": "initial_id"
  },
  {
   "cell_type": "code",
   "execution_count": null,
   "outputs": [],
   "source": [],
   "metadata": {
    "collapsed": false
   },
   "id": "aeffef14fc6a32a"
  }
 ],
 "metadata": {
  "kernelspec": {
   "display_name": "Python 3",
   "language": "python",
   "name": "python3"
  },
  "language_info": {
   "codemirror_mode": {
    "name": "ipython",
    "version": 2
   },
   "file_extension": ".py",
   "mimetype": "text/x-python",
   "name": "python",
   "nbconvert_exporter": "python",
   "pygments_lexer": "ipython2",
   "version": "2.7.6"
  }
 },
 "nbformat": 4,
 "nbformat_minor": 5
}
