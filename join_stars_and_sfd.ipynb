{
 "cells": [
  {
   "cell_type": "markdown",
   "source": [
    "# Join SFD map with a point source catalog\n",
    "\n",
    "We need LSDB for that"
   ],
   "metadata": {
    "collapsed": false
   },
   "id": "3f0a1031da6ceaf3"
  },
  {
   "cell_type": "code",
   "execution_count": 1,
   "outputs": [],
   "source": [
    "from pathlib import Path\n",
    "\n",
    "import lsdb\n",
    "import numpy as np\n",
    "import pandas as pd\n",
    "from hipscat.pixel_math.hipscat_id import HIPSCAT_ID_COLUMN, hipscat_id_to_healpix\n",
    "from lsdb.core.crossmatch.abstract_crossmatch_algorithm import AbstractCrossmatchAlgorithm\n",
    "\n",
    "from paths import *"
   ],
   "metadata": {
    "collapsed": false,
    "ExecuteTime": {
     "start_time": "2023-11-14T21:13:07.721Z"
    }
   },
   "id": "initial_id"
  },
  {
   "cell_type": "markdown",
   "source": [
    "### Load data lazily\n",
    "\n",
    "Hardcoded path to the test catalog from LSDB - sorry for that!"
   ],
   "metadata": {
    "collapsed": false
   },
   "id": "ecf405b4b956ede9"
  },
  {
   "cell_type": "code",
   "execution_count": 2,
   "outputs": [],
   "source": [
    "STARS_PATH = Path('/Users/hombit/projects/lincc-frameworks/lsdb/tests/data/small_sky_order1')\n",
    "SFD_PATH = OUTPUT_DIR / 'sfd'"
   ],
   "metadata": {
    "collapsed": false,
    "ExecuteTime": {
     "end_time": "2023-11-14T21:13:08.689267Z",
     "start_time": "2023-11-14T21:13:08.685961Z"
    }
   },
   "id": "372a234f50ca540e"
  },
  {
   "cell_type": "code",
   "execution_count": 3,
   "outputs": [
    {
     "data": {
      "text/plain": "Dask DataFrame Structure:\n                  id       ra      dec ra_error dec_error Norder    Dir   Npix\nnpartitions=4                                                                 \n               int64  float64  float64    int64     int64  int32  int32  int32\n                 ...      ...      ...      ...       ...    ...    ...    ...\n                 ...      ...      ...      ...       ...    ...    ...    ...\n                 ...      ...      ...      ...       ...    ...    ...    ...\n                 ...      ...      ...      ...       ...    ...    ...    ...\nDask Name: read_parquet_file_to_pandas, 1 graph layer",
      "text/html": "<div><strong>Dask DataFrame Structure:</strong></div>\n<div>\n<style scoped>\n    .dataframe tbody tr th:only-of-type {\n        vertical-align: middle;\n    }\n\n    .dataframe tbody tr th {\n        vertical-align: top;\n    }\n\n    .dataframe thead th {\n        text-align: right;\n    }\n</style>\n<table border=\"1\" class=\"dataframe\">\n  <thead>\n    <tr style=\"text-align: right;\">\n      <th></th>\n      <th>id</th>\n      <th>ra</th>\n      <th>dec</th>\n      <th>ra_error</th>\n      <th>dec_error</th>\n      <th>Norder</th>\n      <th>Dir</th>\n      <th>Npix</th>\n    </tr>\n    <tr>\n      <th>npartitions=4</th>\n      <th></th>\n      <th></th>\n      <th></th>\n      <th></th>\n      <th></th>\n      <th></th>\n      <th></th>\n      <th></th>\n    </tr>\n  </thead>\n  <tbody>\n    <tr>\n      <th></th>\n      <td>int64</td>\n      <td>float64</td>\n      <td>float64</td>\n      <td>int64</td>\n      <td>int64</td>\n      <td>int32</td>\n      <td>int32</td>\n      <td>int32</td>\n    </tr>\n    <tr>\n      <th></th>\n      <td>...</td>\n      <td>...</td>\n      <td>...</td>\n      <td>...</td>\n      <td>...</td>\n      <td>...</td>\n      <td>...</td>\n      <td>...</td>\n    </tr>\n    <tr>\n      <th></th>\n      <td>...</td>\n      <td>...</td>\n      <td>...</td>\n      <td>...</td>\n      <td>...</td>\n      <td>...</td>\n      <td>...</td>\n      <td>...</td>\n    </tr>\n    <tr>\n      <th></th>\n      <td>...</td>\n      <td>...</td>\n      <td>...</td>\n      <td>...</td>\n      <td>...</td>\n      <td>...</td>\n      <td>...</td>\n      <td>...</td>\n    </tr>\n    <tr>\n      <th></th>\n      <td>...</td>\n      <td>...</td>\n      <td>...</td>\n      <td>...</td>\n      <td>...</td>\n      <td>...</td>\n      <td>...</td>\n      <td>...</td>\n    </tr>\n  </tbody>\n</table>\n</div>\n<div>Dask Name: read_parquet_file_to_pandas, 1 graph layer</div>"
     },
     "execution_count": 3,
     "metadata": {},
     "output_type": "execute_result"
    }
   ],
   "source": [
    "stars = lsdb.read_hipscat(STARS_PATH)\n",
    "stars"
   ],
   "metadata": {
    "collapsed": false,
    "ExecuteTime": {
     "end_time": "2023-11-14T21:13:08.701101Z",
     "start_time": "2023-11-14T21:13:08.688145Z"
    }
   },
   "id": "8d2878e0b43c1e1a"
  },
  {
   "cell_type": "code",
   "execution_count": 4,
   "outputs": [
    {
     "data": {
      "text/plain": "Dask DataFrame Structure:\n                 _hipscat_index pixel_Norder pixel_Npix      ebv Norder    Dir   Npix\nnpartitions=3072                                                                     \n                         uint64        uint8     uint32  float32  int32  int32  int32\n                            ...          ...        ...      ...    ...    ...    ...\n...                         ...          ...        ...      ...    ...    ...    ...\n                            ...          ...        ...      ...    ...    ...    ...\n                            ...          ...        ...      ...    ...    ...    ...\nDask Name: read_parquet_file_to_pandas, 1 graph layer",
      "text/html": "<div><strong>Dask DataFrame Structure:</strong></div>\n<div>\n<style scoped>\n    .dataframe tbody tr th:only-of-type {\n        vertical-align: middle;\n    }\n\n    .dataframe tbody tr th {\n        vertical-align: top;\n    }\n\n    .dataframe thead th {\n        text-align: right;\n    }\n</style>\n<table border=\"1\" class=\"dataframe\">\n  <thead>\n    <tr style=\"text-align: right;\">\n      <th></th>\n      <th>_hipscat_index</th>\n      <th>pixel_Norder</th>\n      <th>pixel_Npix</th>\n      <th>ebv</th>\n      <th>Norder</th>\n      <th>Dir</th>\n      <th>Npix</th>\n    </tr>\n    <tr>\n      <th>npartitions=3072</th>\n      <th></th>\n      <th></th>\n      <th></th>\n      <th></th>\n      <th></th>\n      <th></th>\n      <th></th>\n    </tr>\n  </thead>\n  <tbody>\n    <tr>\n      <th></th>\n      <td>uint64</td>\n      <td>uint8</td>\n      <td>uint32</td>\n      <td>float32</td>\n      <td>int32</td>\n      <td>int32</td>\n      <td>int32</td>\n    </tr>\n    <tr>\n      <th></th>\n      <td>...</td>\n      <td>...</td>\n      <td>...</td>\n      <td>...</td>\n      <td>...</td>\n      <td>...</td>\n      <td>...</td>\n    </tr>\n    <tr>\n      <th>...</th>\n      <td>...</td>\n      <td>...</td>\n      <td>...</td>\n      <td>...</td>\n      <td>...</td>\n      <td>...</td>\n      <td>...</td>\n    </tr>\n    <tr>\n      <th></th>\n      <td>...</td>\n      <td>...</td>\n      <td>...</td>\n      <td>...</td>\n      <td>...</td>\n      <td>...</td>\n      <td>...</td>\n    </tr>\n    <tr>\n      <th></th>\n      <td>...</td>\n      <td>...</td>\n      <td>...</td>\n      <td>...</td>\n      <td>...</td>\n      <td>...</td>\n      <td>...</td>\n    </tr>\n  </tbody>\n</table>\n</div>\n<div>Dask Name: read_parquet_file_to_pandas, 1 graph layer</div>"
     },
     "execution_count": 4,
     "metadata": {},
     "output_type": "execute_result"
    }
   ],
   "source": [
    "sfd = lsdb.read_hipscat(SFD_PATH)\n",
    "sfd"
   ],
   "metadata": {
    "collapsed": false,
    "ExecuteTime": {
     "end_time": "2023-11-14T21:13:08.801112Z",
     "start_time": "2023-11-14T21:13:08.699438Z"
    }
   },
   "id": "5fbca23182d9786a"
  },
  {
   "cell_type": "markdown",
   "source": [
    "### We are using LSDB's cross-matching interface for joining"
   ],
   "metadata": {
    "collapsed": false
   },
   "id": "e38ab798f16ebbe1"
  },
  {
   "cell_type": "code",
   "execution_count": 5,
   "outputs": [],
   "source": [
    "class JoinWithContinuousMap(AbstractCrossmatchAlgorithm):\n",
    "    DISTANCE_COLUMN_NAME = '_DIST'\n",
    "    \n",
    "    def crossmatch(self) -> pd.DataFrame:\n",
    "        # Initial implementation, to be re-written with linear search\n",
    "        idx = np.searchsorted(self.right[HIPSCAT_ID_COLUMN], self.left.index) - 1\n",
    "        \n",
    "        # np.searchsorted output must be between 0 and N,\n",
    "        # so we are checking -1 case only\n",
    "        assert np.all(idx >= 0)\n",
    "        \n",
    "        self._rename_columns_with_suffix(self.left, self.suffixes[0])\n",
    "        self._rename_columns_with_suffix(self.right, self.suffixes[1])\n",
    "        \n",
    "        left_join_part = self.left.reset_index()\n",
    "        right_join_part = self.right.iloc[idx].reset_index(drop=True)\n",
    "        \n",
    "        out = pd.concat(\n",
    "            [\n",
    "                left_join_part,\n",
    "                right_join_part,\n",
    "            ],\n",
    "            axis=1,\n",
    "        )\n",
    "        out[self.DISTANCE_COLUMN_NAME] = 0.0\n",
    "        out.set_index(HIPSCAT_ID_COLUMN, inplace=True)\n",
    "        \n",
    "        return out"
   ],
   "metadata": {
    "collapsed": false,
    "ExecuteTime": {
     "end_time": "2023-11-14T21:13:08.801266Z",
     "start_time": "2023-11-14T21:13:08.795291Z"
    }
   },
   "id": "bbcfc4851c1ebc0c"
  },
  {
   "cell_type": "code",
   "execution_count": 6,
   "outputs": [
    {
     "data": {
      "text/plain": "                      id_small_sky_order1  ra_small_sky_order1  \\\n_hipscat_index                                                   \n12749688880727326720                  707                308.5   \n12751184493818150912                  792                320.5   \n12753202806647685120                  723                315.5   \n12753202806647685121                  811                315.5   \n12770681119980912640                  826                335.5   \n...                                   ...                  ...   \n13591216801265483776                  791                312.5   \n13596001812279721984                  824                305.5   \n13598131468743213056                  702                310.5   \n13601023174257934336                  767                314.5   \n13696722494273093632                  743                307.5   \n\n                      dec_small_sky_order1  ra_error_small_sky_order1  \\\n_hipscat_index                                                          \n12749688880727326720                 -69.5                          0   \n12751184493818150912                 -69.5                          0   \n12753202806647685120                 -68.5                          0   \n12753202806647685121                 -68.5                          0   \n12770681119980912640                 -69.5                          0   \n...                                    ...                        ...   \n13591216801265483776                 -28.5                          0   \n13596001812279721984                 -28.5                          0   \n13598131468743213056                 -27.5                          0   \n13601023174257934336                 -29.5                          0   \n13696722494273093632                 -25.5                          0   \n\n                      dec_error_small_sky_order1  Norder_small_sky_order1  \\\n_hipscat_index                                                              \n12749688880727326720                           0                        1   \n12751184493818150912                           0                        1   \n12753202806647685120                           0                        1   \n12753202806647685121                           0                        1   \n12770681119980912640                           0                        1   \n...                                          ...                      ...   \n13591216801265483776                           0                        1   \n13596001812279721984                           0                        1   \n13598131468743213056                           0                        1   \n13601023174257934336                           0                        1   \n13696722494273093632                           0                        1   \n\n                      Dir_small_sky_order1  Npix_small_sky_order1  \\\n_hipscat_index                                                      \n12749688880727326720                     0                     44   \n12751184493818150912                     0                     44   \n12753202806647685120                     0                     44   \n12753202806647685121                     0                     44   \n12770681119980912640                     0                     44   \n...                                    ...                    ...   \n13591216801265483776                     0                     47   \n13596001812279721984                     0                     47   \n13598131468743213056                     0                     47   \n13601023174257934336                     0                     47   \n13696722494273093632                     0                     47   \n\n                        _hipscat_index_sfd  pixel_Norder_sfd  pixel_Npix_sfd  \\\n_hipscat_index                                                                 \n12749688880727326720  12749688878638563328                14      2968518268   \n12751184493818150912  12751184493625212928                14      2968866493   \n12753202806647685120  12753202806131785728                14      2969336418   \n12753202806647685121  12753202806131785728                14      2969336418   \n12770681119980912640  12770681119708282880                14      2973405905   \n...                                    ...               ...             ...   \n13591216801265483776  13591216797494804480                14      3164451755   \n13596001812279721984  13596001811969343488                14      3165565853   \n13598131468743213056  13598131467208097792                14      3166061702   \n13601023174257934336  13601023174199214080                14      3166734980   \n13696722494273093632  13696722493027385344                14      3189016714   \n\n                       ebv_sfd  Norder_sfd  Dir_sfd  Npix_sfd  _DIST  \n_hipscat_index                                                        \n12749688880727326720  0.052311           4        0      2830    0.0  \n12751184493818150912  0.036569           4        0      2831    0.0  \n12753202806647685120  0.043449           4        0      2831    0.0  \n12753202806647685121  0.043449           4        0      2831    0.0  \n12770681119980912640  0.026551           4        0      2835    0.0  \n...                        ...         ...      ...       ...    ...  \n13591216801265483776  0.085061           4        0      3017    0.0  \n13596001812279721984  0.060051           4        0      3018    0.0  \n13598131468743213056  0.071358           4        0      3019    0.0  \n13601023174257934336  0.083808           4        0      3020    0.0  \n13696722494273093632  0.051251           4        0      3041    0.0  \n\n[131 rows x 16 columns]",
      "text/html": "<div>\n<style scoped>\n    .dataframe tbody tr th:only-of-type {\n        vertical-align: middle;\n    }\n\n    .dataframe tbody tr th {\n        vertical-align: top;\n    }\n\n    .dataframe thead th {\n        text-align: right;\n    }\n</style>\n<table border=\"1\" class=\"dataframe\">\n  <thead>\n    <tr style=\"text-align: right;\">\n      <th></th>\n      <th>id_small_sky_order1</th>\n      <th>ra_small_sky_order1</th>\n      <th>dec_small_sky_order1</th>\n      <th>ra_error_small_sky_order1</th>\n      <th>dec_error_small_sky_order1</th>\n      <th>Norder_small_sky_order1</th>\n      <th>Dir_small_sky_order1</th>\n      <th>Npix_small_sky_order1</th>\n      <th>_hipscat_index_sfd</th>\n      <th>pixel_Norder_sfd</th>\n      <th>pixel_Npix_sfd</th>\n      <th>ebv_sfd</th>\n      <th>Norder_sfd</th>\n      <th>Dir_sfd</th>\n      <th>Npix_sfd</th>\n      <th>_DIST</th>\n    </tr>\n    <tr>\n      <th>_hipscat_index</th>\n      <th></th>\n      <th></th>\n      <th></th>\n      <th></th>\n      <th></th>\n      <th></th>\n      <th></th>\n      <th></th>\n      <th></th>\n      <th></th>\n      <th></th>\n      <th></th>\n      <th></th>\n      <th></th>\n      <th></th>\n      <th></th>\n    </tr>\n  </thead>\n  <tbody>\n    <tr>\n      <th>12749688880727326720</th>\n      <td>707</td>\n      <td>308.5</td>\n      <td>-69.5</td>\n      <td>0</td>\n      <td>0</td>\n      <td>1</td>\n      <td>0</td>\n      <td>44</td>\n      <td>12749688878638563328</td>\n      <td>14</td>\n      <td>2968518268</td>\n      <td>0.052311</td>\n      <td>4</td>\n      <td>0</td>\n      <td>2830</td>\n      <td>0.0</td>\n    </tr>\n    <tr>\n      <th>12751184493818150912</th>\n      <td>792</td>\n      <td>320.5</td>\n      <td>-69.5</td>\n      <td>0</td>\n      <td>0</td>\n      <td>1</td>\n      <td>0</td>\n      <td>44</td>\n      <td>12751184493625212928</td>\n      <td>14</td>\n      <td>2968866493</td>\n      <td>0.036569</td>\n      <td>4</td>\n      <td>0</td>\n      <td>2831</td>\n      <td>0.0</td>\n    </tr>\n    <tr>\n      <th>12753202806647685120</th>\n      <td>723</td>\n      <td>315.5</td>\n      <td>-68.5</td>\n      <td>0</td>\n      <td>0</td>\n      <td>1</td>\n      <td>0</td>\n      <td>44</td>\n      <td>12753202806131785728</td>\n      <td>14</td>\n      <td>2969336418</td>\n      <td>0.043449</td>\n      <td>4</td>\n      <td>0</td>\n      <td>2831</td>\n      <td>0.0</td>\n    </tr>\n    <tr>\n      <th>12753202806647685121</th>\n      <td>811</td>\n      <td>315.5</td>\n      <td>-68.5</td>\n      <td>0</td>\n      <td>0</td>\n      <td>1</td>\n      <td>0</td>\n      <td>44</td>\n      <td>12753202806131785728</td>\n      <td>14</td>\n      <td>2969336418</td>\n      <td>0.043449</td>\n      <td>4</td>\n      <td>0</td>\n      <td>2831</td>\n      <td>0.0</td>\n    </tr>\n    <tr>\n      <th>12770681119980912640</th>\n      <td>826</td>\n      <td>335.5</td>\n      <td>-69.5</td>\n      <td>0</td>\n      <td>0</td>\n      <td>1</td>\n      <td>0</td>\n      <td>44</td>\n      <td>12770681119708282880</td>\n      <td>14</td>\n      <td>2973405905</td>\n      <td>0.026551</td>\n      <td>4</td>\n      <td>0</td>\n      <td>2835</td>\n      <td>0.0</td>\n    </tr>\n    <tr>\n      <th>...</th>\n      <td>...</td>\n      <td>...</td>\n      <td>...</td>\n      <td>...</td>\n      <td>...</td>\n      <td>...</td>\n      <td>...</td>\n      <td>...</td>\n      <td>...</td>\n      <td>...</td>\n      <td>...</td>\n      <td>...</td>\n      <td>...</td>\n      <td>...</td>\n      <td>...</td>\n      <td>...</td>\n    </tr>\n    <tr>\n      <th>13591216801265483776</th>\n      <td>791</td>\n      <td>312.5</td>\n      <td>-28.5</td>\n      <td>0</td>\n      <td>0</td>\n      <td>1</td>\n      <td>0</td>\n      <td>47</td>\n      <td>13591216797494804480</td>\n      <td>14</td>\n      <td>3164451755</td>\n      <td>0.085061</td>\n      <td>4</td>\n      <td>0</td>\n      <td>3017</td>\n      <td>0.0</td>\n    </tr>\n    <tr>\n      <th>13596001812279721984</th>\n      <td>824</td>\n      <td>305.5</td>\n      <td>-28.5</td>\n      <td>0</td>\n      <td>0</td>\n      <td>1</td>\n      <td>0</td>\n      <td>47</td>\n      <td>13596001811969343488</td>\n      <td>14</td>\n      <td>3165565853</td>\n      <td>0.060051</td>\n      <td>4</td>\n      <td>0</td>\n      <td>3018</td>\n      <td>0.0</td>\n    </tr>\n    <tr>\n      <th>13598131468743213056</th>\n      <td>702</td>\n      <td>310.5</td>\n      <td>-27.5</td>\n      <td>0</td>\n      <td>0</td>\n      <td>1</td>\n      <td>0</td>\n      <td>47</td>\n      <td>13598131467208097792</td>\n      <td>14</td>\n      <td>3166061702</td>\n      <td>0.071358</td>\n      <td>4</td>\n      <td>0</td>\n      <td>3019</td>\n      <td>0.0</td>\n    </tr>\n    <tr>\n      <th>13601023174257934336</th>\n      <td>767</td>\n      <td>314.5</td>\n      <td>-29.5</td>\n      <td>0</td>\n      <td>0</td>\n      <td>1</td>\n      <td>0</td>\n      <td>47</td>\n      <td>13601023174199214080</td>\n      <td>14</td>\n      <td>3166734980</td>\n      <td>0.083808</td>\n      <td>4</td>\n      <td>0</td>\n      <td>3020</td>\n      <td>0.0</td>\n    </tr>\n    <tr>\n      <th>13696722494273093632</th>\n      <td>743</td>\n      <td>307.5</td>\n      <td>-25.5</td>\n      <td>0</td>\n      <td>0</td>\n      <td>1</td>\n      <td>0</td>\n      <td>47</td>\n      <td>13696722493027385344</td>\n      <td>14</td>\n      <td>3189016714</td>\n      <td>0.051251</td>\n      <td>4</td>\n      <td>0</td>\n      <td>3041</td>\n      <td>0.0</td>\n    </tr>\n  </tbody>\n</table>\n<p>131 rows × 16 columns</p>\n</div>"
     },
     "execution_count": 6,
     "metadata": {},
     "output_type": "execute_result"
    }
   ],
   "source": [
    "result = stars.crossmatch(sfd, algorithm=JoinWithContinuousMap).compute()\n",
    "result"
   ],
   "metadata": {
    "collapsed": false,
    "ExecuteTime": {
     "end_time": "2023-11-14T21:13:10.187717Z",
     "start_time": "2023-11-14T21:13:08.812147Z"
    }
   },
   "id": "cc8215a3d8a4422"
  },
  {
   "cell_type": "markdown",
   "source": [
    "### Validation\n",
    "\n",
    "First, we check that both hipscat indexes and SFD pixel index-order pair are all consistent "
   ],
   "metadata": {
    "collapsed": false
   },
   "id": "ddc0e0accdf0433e"
  },
  {
   "cell_type": "code",
   "execution_count": 7,
   "outputs": [],
   "source": [
    "np.testing.assert_array_equal(\n",
    "    hipscat_id_to_healpix(result['_hipscat_index_sfd'], result['pixel_Norder_sfd']),\n",
    "    result['pixel_Npix_sfd'],\n",
    ")\n",
    "np.testing.assert_array_equal(\n",
    "    hipscat_id_to_healpix(result.index, result['pixel_Norder_sfd']),\n",
    "    result['pixel_Npix_sfd'],\n",
    ")"
   ],
   "metadata": {
    "collapsed": false,
    "ExecuteTime": {
     "end_time": "2023-11-14T21:13:10.187881Z",
     "start_time": "2023-11-14T21:13:10.183329Z"
    }
   },
   "id": "5148e51dbe701336"
  },
  {
   "cell_type": "markdown",
   "source": [
    "Check that SFD map values are close enough to the ones from `dustmap` module.\n",
    "The difference must be well below 16%."
   ],
   "metadata": {
    "collapsed": false
   },
   "id": "234fa447104f552d"
  },
  {
   "cell_type": "code",
   "execution_count": 8,
   "outputs": [
    {
     "data": {
      "text/plain": "0.0072447546"
     },
     "execution_count": 8,
     "metadata": {},
     "output_type": "execute_result"
    }
   ],
   "source": [
    "# Validate\n",
    "from astropy.coordinates import SkyCoord\n",
    "from dustmaps.sfd import SFDQuery\n",
    "\n",
    "sfd_query = SFDQuery(INPUT_DIR)\n",
    "coord = SkyCoord(ra=result['ra_small_sky_order1'], dec=result['dec_small_sky_order1'], unit='deg')\n",
    "dustmaps_sfd_values = sfd_query(coord)\n",
    "\n",
    "diff = (\n",
    "    np.abs(result['ebv_sfd'] - dustmaps_sfd_values)\n",
    "    / np.where(result['ebv_sfd'] > dustmaps_sfd_values, result['ebv_sfd'], dustmaps_sfd_values)\n",
    ")\n",
    "np.max(diff)"
   ],
   "metadata": {
    "collapsed": false,
    "ExecuteTime": {
     "end_time": "2023-11-14T21:13:10.265442Z",
     "start_time": "2023-11-14T21:13:10.185663Z"
    }
   },
   "id": "861a6295bfe4d454"
  }
 ],
 "metadata": {
  "kernelspec": {
   "display_name": "Python 3",
   "language": "python",
   "name": "python3"
  },
  "language_info": {
   "codemirror_mode": {
    "name": "ipython",
    "version": 2
   },
   "file_extension": ".py",
   "mimetype": "text/x-python",
   "name": "python",
   "nbconvert_exporter": "python",
   "pygments_lexer": "ipython2",
   "version": "2.7.6"
  }
 },
 "nbformat": 4,
 "nbformat_minor": 5
}
