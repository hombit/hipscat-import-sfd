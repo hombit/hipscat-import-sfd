{
 "cells": [
  {
   "cell_type": "markdown",
   "source": [
    "# Join SFD map with a point source catalog\n",
    "\n",
    "We need LSDB for that"
   ],
   "metadata": {
    "collapsed": false
   },
   "id": "3f0a1031da6ceaf3"
  },
  {
   "cell_type": "code",
   "execution_count": 1,
   "outputs": [],
   "source": [
    "from pathlib import Path\n",
    "\n",
    "import lsdb\n",
    "import numpy as np\n",
    "import pandas as pd\n",
    "from hipscat.pixel_math.hipscat_id import HIPSCAT_ID_COLUMN, hipscat_id_to_healpix\n",
    "from lsdb.core.crossmatch.abstract_crossmatch_algorithm import AbstractCrossmatchAlgorithm\n",
    "\n",
    "from paths import *"
   ],
   "metadata": {
    "collapsed": false,
    "ExecuteTime": {
     "end_time": "2023-12-01T19:35:10.848429Z",
     "start_time": "2023-12-01T19:35:09.694425Z"
    }
   },
   "id": "initial_id"
  },
  {
   "cell_type": "markdown",
   "source": [
    "### Load data lazily\n",
    "\n",
    "Hardcoded path to the test catalog from LSDB - sorry for that!"
   ],
   "metadata": {
    "collapsed": false
   },
   "id": "ecf405b4b956ede9"
  },
  {
   "cell_type": "code",
   "execution_count": 2,
   "outputs": [],
   "source": [
    "STARS_PATH = Path('/Users/hombit/projects/lincc-frameworks/lsdb/tests/data/small_sky_order1')\n",
    "SFD_NAME = 'sfd_multiorder_map'\n",
    "SFD_PATH = OUTPUT_DIR / 'sfd_multiorder_map'"
   ],
   "metadata": {
    "collapsed": false,
    "ExecuteTime": {
     "end_time": "2023-12-01T19:35:10.854338Z",
     "start_time": "2023-12-01T19:35:10.849426Z"
    }
   },
   "id": "372a234f50ca540e"
  },
  {
   "cell_type": "code",
   "execution_count": 3,
   "outputs": [
    {
     "data": {
      "text/plain": "Dask DataFrame Structure:\n                  id       ra      dec ra_error dec_error Norder    Dir   Npix\nnpartitions=4                                                                 \n               int64  float64  float64    int64     int64  int32  int32  int32\n                 ...      ...      ...      ...       ...    ...    ...    ...\n                 ...      ...      ...      ...       ...    ...    ...    ...\n                 ...      ...      ...      ...       ...    ...    ...    ...\n                 ...      ...      ...      ...       ...    ...    ...    ...\nDask Name: read_parquet_file_to_pandas, 1 graph layer",
      "text/html": "<div><strong>Dask DataFrame Structure:</strong></div>\n<div>\n<style scoped>\n    .dataframe tbody tr th:only-of-type {\n        vertical-align: middle;\n    }\n\n    .dataframe tbody tr th {\n        vertical-align: top;\n    }\n\n    .dataframe thead th {\n        text-align: right;\n    }\n</style>\n<table border=\"1\" class=\"dataframe\">\n  <thead>\n    <tr style=\"text-align: right;\">\n      <th></th>\n      <th>id</th>\n      <th>ra</th>\n      <th>dec</th>\n      <th>ra_error</th>\n      <th>dec_error</th>\n      <th>Norder</th>\n      <th>Dir</th>\n      <th>Npix</th>\n    </tr>\n    <tr>\n      <th>npartitions=4</th>\n      <th></th>\n      <th></th>\n      <th></th>\n      <th></th>\n      <th></th>\n      <th></th>\n      <th></th>\n      <th></th>\n    </tr>\n  </thead>\n  <tbody>\n    <tr>\n      <th></th>\n      <td>int64</td>\n      <td>float64</td>\n      <td>float64</td>\n      <td>int64</td>\n      <td>int64</td>\n      <td>int32</td>\n      <td>int32</td>\n      <td>int32</td>\n    </tr>\n    <tr>\n      <th></th>\n      <td>...</td>\n      <td>...</td>\n      <td>...</td>\n      <td>...</td>\n      <td>...</td>\n      <td>...</td>\n      <td>...</td>\n      <td>...</td>\n    </tr>\n    <tr>\n      <th></th>\n      <td>...</td>\n      <td>...</td>\n      <td>...</td>\n      <td>...</td>\n      <td>...</td>\n      <td>...</td>\n      <td>...</td>\n      <td>...</td>\n    </tr>\n    <tr>\n      <th></th>\n      <td>...</td>\n      <td>...</td>\n      <td>...</td>\n      <td>...</td>\n      <td>...</td>\n      <td>...</td>\n      <td>...</td>\n      <td>...</td>\n    </tr>\n    <tr>\n      <th></th>\n      <td>...</td>\n      <td>...</td>\n      <td>...</td>\n      <td>...</td>\n      <td>...</td>\n      <td>...</td>\n      <td>...</td>\n      <td>...</td>\n    </tr>\n  </tbody>\n</table>\n</div>\n<div>Dask Name: read_parquet_file_to_pandas, 1 graph layer</div>"
     },
     "execution_count": 3,
     "metadata": {},
     "output_type": "execute_result"
    }
   ],
   "source": [
    "stars = lsdb.read_hipscat(STARS_PATH)\n",
    "stars"
   ],
   "metadata": {
    "collapsed": false,
    "ExecuteTime": {
     "end_time": "2023-12-01T19:35:12.236013Z",
     "start_time": "2023-12-01T19:35:12.212060Z"
    }
   },
   "id": "8d2878e0b43c1e1a"
  },
  {
   "cell_type": "code",
   "execution_count": 4,
   "outputs": [
    {
     "data": {
      "text/plain": "Dask DataFrame Structure:\n                 _hipscat_index pixel_Norder pixel_Npix      ebv Norder     Dir    Npix\nnpartitions=4035                                                                       \n                         uint64        uint8     uint64  float32  uint8  uint64  uint64\n                            ...          ...        ...      ...    ...     ...     ...\n...                         ...          ...        ...      ...    ...     ...     ...\n                            ...          ...        ...      ...    ...     ...     ...\n                            ...          ...        ...      ...    ...     ...     ...\nDask Name: read_parquet_file_to_pandas, 1 graph layer",
      "text/html": "<div><strong>Dask DataFrame Structure:</strong></div>\n<div>\n<style scoped>\n    .dataframe tbody tr th:only-of-type {\n        vertical-align: middle;\n    }\n\n    .dataframe tbody tr th {\n        vertical-align: top;\n    }\n\n    .dataframe thead th {\n        text-align: right;\n    }\n</style>\n<table border=\"1\" class=\"dataframe\">\n  <thead>\n    <tr style=\"text-align: right;\">\n      <th></th>\n      <th>_hipscat_index</th>\n      <th>pixel_Norder</th>\n      <th>pixel_Npix</th>\n      <th>ebv</th>\n      <th>Norder</th>\n      <th>Dir</th>\n      <th>Npix</th>\n    </tr>\n    <tr>\n      <th>npartitions=4035</th>\n      <th></th>\n      <th></th>\n      <th></th>\n      <th></th>\n      <th></th>\n      <th></th>\n      <th></th>\n    </tr>\n  </thead>\n  <tbody>\n    <tr>\n      <th></th>\n      <td>uint64</td>\n      <td>uint8</td>\n      <td>uint64</td>\n      <td>float32</td>\n      <td>uint8</td>\n      <td>uint64</td>\n      <td>uint64</td>\n    </tr>\n    <tr>\n      <th></th>\n      <td>...</td>\n      <td>...</td>\n      <td>...</td>\n      <td>...</td>\n      <td>...</td>\n      <td>...</td>\n      <td>...</td>\n    </tr>\n    <tr>\n      <th>...</th>\n      <td>...</td>\n      <td>...</td>\n      <td>...</td>\n      <td>...</td>\n      <td>...</td>\n      <td>...</td>\n      <td>...</td>\n    </tr>\n    <tr>\n      <th></th>\n      <td>...</td>\n      <td>...</td>\n      <td>...</td>\n      <td>...</td>\n      <td>...</td>\n      <td>...</td>\n      <td>...</td>\n    </tr>\n    <tr>\n      <th></th>\n      <td>...</td>\n      <td>...</td>\n      <td>...</td>\n      <td>...</td>\n      <td>...</td>\n      <td>...</td>\n      <td>...</td>\n    </tr>\n  </tbody>\n</table>\n</div>\n<div>Dask Name: read_parquet_file_to_pandas, 1 graph layer</div>"
     },
     "execution_count": 4,
     "metadata": {},
     "output_type": "execute_result"
    }
   ],
   "source": [
    "sfd = lsdb.read_hipscat(SFD_PATH)\n",
    "sfd"
   ],
   "metadata": {
    "collapsed": false,
    "ExecuteTime": {
     "end_time": "2023-12-01T19:35:14.034150Z",
     "start_time": "2023-12-01T19:35:13.038525Z"
    }
   },
   "id": "5fbca23182d9786a"
  },
  {
   "cell_type": "markdown",
   "source": [
    "### We are using LSDB's cross-matching interface for joining"
   ],
   "metadata": {
    "collapsed": false
   },
   "id": "e38ab798f16ebbe1"
  },
  {
   "cell_type": "code",
   "execution_count": 5,
   "outputs": [],
   "source": [
    "class JoinWithContinuousMap(AbstractCrossmatchAlgorithm):\n",
    "    DISTANCE_COLUMN_NAME = '_DIST'\n",
    "    \n",
    "    def crossmatch(self) -> pd.DataFrame:\n",
    "        # Check that both catalogs are sorted by HIPSCAT_ID_COLUMN\n",
    "        assert np.all(np.diff(self.left.index) > 0)\n",
    "        assert np.all(np.diff(self.right[HIPSCAT_ID_COLUMN]) > 0)\n",
    "        \n",
    "        # Initial implementation with the binary search, it is O(n_star * log(n_sfd))\n",
    "        # For large star catalogs it is better to use the linear search, which is O(n_star + n_sfd)\n",
    "        idx = np.searchsorted(self.right[HIPSCAT_ID_COLUMN], self.left.index) - 1\n",
    "        \n",
    "        # np.searchsorted output must be between 0 and N,\n",
    "        # so we are checking -1 case only\n",
    "        assert np.all(idx >= 0)\n",
    "        \n",
    "        self._rename_columns_with_suffix(self.left, self.suffixes[0])\n",
    "        self._rename_columns_with_suffix(self.right, self.suffixes[1])\n",
    "        \n",
    "        left_join_part = self.left.reset_index()\n",
    "        right_join_part = self.right.iloc[idx].reset_index(drop=True)\n",
    "        \n",
    "        out = pd.concat(\n",
    "            [\n",
    "                left_join_part,\n",
    "                right_join_part,\n",
    "            ],\n",
    "            axis=1,\n",
    "        )\n",
    "        out[self.DISTANCE_COLUMN_NAME] = 0.0\n",
    "        out.set_index(HIPSCAT_ID_COLUMN, inplace=True)\n",
    "        \n",
    "        return out"
   ],
   "metadata": {
    "collapsed": false,
    "ExecuteTime": {
     "end_time": "2023-12-01T19:35:14.625499Z",
     "start_time": "2023-12-01T19:35:14.619368Z"
    }
   },
   "id": "bbcfc4851c1ebc0c"
  },
  {
   "cell_type": "code",
   "execution_count": 6,
   "outputs": [
    {
     "data": {
      "text/plain": "                      id_small_sky_order1  ra_small_sky_order1  \\\n_hipscat_index                                                   \n12749688880727326720                  707                308.5   \n12751184493818150912                  792                320.5   \n12753202806647685120                  723                315.5   \n12753202806647685121                  811                315.5   \n12770681119980912640                  826                335.5   \n...                                   ...                  ...   \n13591216801265483776                  791                312.5   \n13596001812279721984                  824                305.5   \n13598131468743213056                  702                310.5   \n13601023174257934336                  767                314.5   \n13696722494273093632                  743                307.5   \n\n                      dec_small_sky_order1  ra_error_small_sky_order1  \\\n_hipscat_index                                                          \n12749688880727326720                 -69.5                          0   \n12751184493818150912                 -69.5                          0   \n12753202806647685120                 -68.5                          0   \n12753202806647685121                 -68.5                          0   \n12770681119980912640                 -69.5                          0   \n...                                    ...                        ...   \n13591216801265483776                 -28.5                          0   \n13596001812279721984                 -28.5                          0   \n13598131468743213056                 -27.5                          0   \n13601023174257934336                 -29.5                          0   \n13696722494273093632                 -25.5                          0   \n\n                      dec_error_small_sky_order1  Norder_small_sky_order1  \\\n_hipscat_index                                                              \n12749688880727326720                           0                        1   \n12751184493818150912                           0                        1   \n12753202806647685120                           0                        1   \n12753202806647685121                           0                        1   \n12770681119980912640                           0                        1   \n...                                          ...                      ...   \n13591216801265483776                           0                        1   \n13596001812279721984                           0                        1   \n13598131468743213056                           0                        1   \n13601023174257934336                           0                        1   \n13696722494273093632                           0                        1   \n\n                      Dir_small_sky_order1  Npix_small_sky_order1  \\\n_hipscat_index                                                      \n12749688880727326720                     0                     44   \n12751184493818150912                     0                     44   \n12753202806647685120                     0                     44   \n12753202806647685121                     0                     44   \n12770681119980912640                     0                     44   \n...                                    ...                    ...   \n13591216801265483776                     0                     47   \n13596001812279721984                     0                     47   \n13598131468743213056                     0                     47   \n13601023174257934336                     0                     47   \n13696722494273093632                     0                     47   \n\n                      _hipscat_index_sfd_multiorder_map  \\\n_hipscat_index                                            \n12749688880727326720               12749688827098955776   \n12751184493818150912               12751184489330245632   \n12753202806647685120               12753202797541851136   \n12753202806647685121               12753202797541851136   \n12770681119980912640               12770681119708282880   \n...                                                 ...   \n13591216801265483776               13591216784609902592   \n13596001812279721984               13596001811969343488   \n13598131468743213056               13598131467208097792   \n13601023174257934336               13601023157019344896   \n13696722494273093632               13696722484437450752   \n\n                      pixel_Norder_sfd_multiorder_map  \\\n_hipscat_index                                          \n12749688880727326720                               12   \n12751184493818150912                               13   \n12753202806647685120                               13   \n12753202806647685121                               13   \n12770681119980912640                               14   \n...                                               ...   \n13591216801265483776                               13   \n13596001812279721984                               14   \n13598131468743213056                               14   \n13601023174257934336                               12   \n13696722494273093632                               13   \n\n                      pixel_Npix_sfd_multiorder_map  ebv_sfd_multiorder_map  \\\n_hipscat_index                                                                \n12749688880727326720                      185532391                0.052364   \n12751184493818150912                      742216623                0.036652   \n12753202806647685120                      742334104                0.043459   \n12753202806647685121                      742334104                0.043459   \n12770681119980912640                     2973405905                0.026550   \n...                                             ...                     ...   \n13591216801265483776                      791112938                0.085012   \n13596001812279721984                     3165565853                0.060051   \n13598131468743213056                     3166061702                0.071358   \n13601023174257934336                      197920936                0.083611   \n13696722494273093632                      797254178                0.051149   \n\n                      Norder_sfd_multiorder_map  Dir_sfd_multiorder_map  \\\n_hipscat_index                                                            \n12749688880727326720                          4                       0   \n12751184493818150912                          4                       0   \n12753202806647685120                          4                       0   \n12753202806647685121                          4                       0   \n12770681119980912640                          4                       0   \n...                                         ...                     ...   \n13591216801265483776                          4                       0   \n13596001812279721984                          4                       0   \n13598131468743213056                          4                       0   \n13601023174257934336                          4                       0   \n13696722494273093632                          3                       0   \n\n                      Npix_sfd_multiorder_map  _DIST  \n_hipscat_index                                        \n12749688880727326720                     2830    0.0  \n12751184493818150912                     2831    0.0  \n12753202806647685120                     2831    0.0  \n12753202806647685121                     2831    0.0  \n12770681119980912640                     2835    0.0  \n...                                       ...    ...  \n13591216801265483776                     3017    0.0  \n13596001812279721984                     3018    0.0  \n13598131468743213056                     3019    0.0  \n13601023174257934336                     3020    0.0  \n13696722494273093632                      760    0.0  \n\n[131 rows x 16 columns]",
      "text/html": "<div>\n<style scoped>\n    .dataframe tbody tr th:only-of-type {\n        vertical-align: middle;\n    }\n\n    .dataframe tbody tr th {\n        vertical-align: top;\n    }\n\n    .dataframe thead th {\n        text-align: right;\n    }\n</style>\n<table border=\"1\" class=\"dataframe\">\n  <thead>\n    <tr style=\"text-align: right;\">\n      <th></th>\n      <th>id_small_sky_order1</th>\n      <th>ra_small_sky_order1</th>\n      <th>dec_small_sky_order1</th>\n      <th>ra_error_small_sky_order1</th>\n      <th>dec_error_small_sky_order1</th>\n      <th>Norder_small_sky_order1</th>\n      <th>Dir_small_sky_order1</th>\n      <th>Npix_small_sky_order1</th>\n      <th>_hipscat_index_sfd_multiorder_map</th>\n      <th>pixel_Norder_sfd_multiorder_map</th>\n      <th>pixel_Npix_sfd_multiorder_map</th>\n      <th>ebv_sfd_multiorder_map</th>\n      <th>Norder_sfd_multiorder_map</th>\n      <th>Dir_sfd_multiorder_map</th>\n      <th>Npix_sfd_multiorder_map</th>\n      <th>_DIST</th>\n    </tr>\n    <tr>\n      <th>_hipscat_index</th>\n      <th></th>\n      <th></th>\n      <th></th>\n      <th></th>\n      <th></th>\n      <th></th>\n      <th></th>\n      <th></th>\n      <th></th>\n      <th></th>\n      <th></th>\n      <th></th>\n      <th></th>\n      <th></th>\n      <th></th>\n      <th></th>\n    </tr>\n  </thead>\n  <tbody>\n    <tr>\n      <th>12749688880727326720</th>\n      <td>707</td>\n      <td>308.5</td>\n      <td>-69.5</td>\n      <td>0</td>\n      <td>0</td>\n      <td>1</td>\n      <td>0</td>\n      <td>44</td>\n      <td>12749688827098955776</td>\n      <td>12</td>\n      <td>185532391</td>\n      <td>0.052364</td>\n      <td>4</td>\n      <td>0</td>\n      <td>2830</td>\n      <td>0.0</td>\n    </tr>\n    <tr>\n      <th>12751184493818150912</th>\n      <td>792</td>\n      <td>320.5</td>\n      <td>-69.5</td>\n      <td>0</td>\n      <td>0</td>\n      <td>1</td>\n      <td>0</td>\n      <td>44</td>\n      <td>12751184489330245632</td>\n      <td>13</td>\n      <td>742216623</td>\n      <td>0.036652</td>\n      <td>4</td>\n      <td>0</td>\n      <td>2831</td>\n      <td>0.0</td>\n    </tr>\n    <tr>\n      <th>12753202806647685120</th>\n      <td>723</td>\n      <td>315.5</td>\n      <td>-68.5</td>\n      <td>0</td>\n      <td>0</td>\n      <td>1</td>\n      <td>0</td>\n      <td>44</td>\n      <td>12753202797541851136</td>\n      <td>13</td>\n      <td>742334104</td>\n      <td>0.043459</td>\n      <td>4</td>\n      <td>0</td>\n      <td>2831</td>\n      <td>0.0</td>\n    </tr>\n    <tr>\n      <th>12753202806647685121</th>\n      <td>811</td>\n      <td>315.5</td>\n      <td>-68.5</td>\n      <td>0</td>\n      <td>0</td>\n      <td>1</td>\n      <td>0</td>\n      <td>44</td>\n      <td>12753202797541851136</td>\n      <td>13</td>\n      <td>742334104</td>\n      <td>0.043459</td>\n      <td>4</td>\n      <td>0</td>\n      <td>2831</td>\n      <td>0.0</td>\n    </tr>\n    <tr>\n      <th>12770681119980912640</th>\n      <td>826</td>\n      <td>335.5</td>\n      <td>-69.5</td>\n      <td>0</td>\n      <td>0</td>\n      <td>1</td>\n      <td>0</td>\n      <td>44</td>\n      <td>12770681119708282880</td>\n      <td>14</td>\n      <td>2973405905</td>\n      <td>0.026550</td>\n      <td>4</td>\n      <td>0</td>\n      <td>2835</td>\n      <td>0.0</td>\n    </tr>\n    <tr>\n      <th>...</th>\n      <td>...</td>\n      <td>...</td>\n      <td>...</td>\n      <td>...</td>\n      <td>...</td>\n      <td>...</td>\n      <td>...</td>\n      <td>...</td>\n      <td>...</td>\n      <td>...</td>\n      <td>...</td>\n      <td>...</td>\n      <td>...</td>\n      <td>...</td>\n      <td>...</td>\n      <td>...</td>\n    </tr>\n    <tr>\n      <th>13591216801265483776</th>\n      <td>791</td>\n      <td>312.5</td>\n      <td>-28.5</td>\n      <td>0</td>\n      <td>0</td>\n      <td>1</td>\n      <td>0</td>\n      <td>47</td>\n      <td>13591216784609902592</td>\n      <td>13</td>\n      <td>791112938</td>\n      <td>0.085012</td>\n      <td>4</td>\n      <td>0</td>\n      <td>3017</td>\n      <td>0.0</td>\n    </tr>\n    <tr>\n      <th>13596001812279721984</th>\n      <td>824</td>\n      <td>305.5</td>\n      <td>-28.5</td>\n      <td>0</td>\n      <td>0</td>\n      <td>1</td>\n      <td>0</td>\n      <td>47</td>\n      <td>13596001811969343488</td>\n      <td>14</td>\n      <td>3165565853</td>\n      <td>0.060051</td>\n      <td>4</td>\n      <td>0</td>\n      <td>3018</td>\n      <td>0.0</td>\n    </tr>\n    <tr>\n      <th>13598131468743213056</th>\n      <td>702</td>\n      <td>310.5</td>\n      <td>-27.5</td>\n      <td>0</td>\n      <td>0</td>\n      <td>1</td>\n      <td>0</td>\n      <td>47</td>\n      <td>13598131467208097792</td>\n      <td>14</td>\n      <td>3166061702</td>\n      <td>0.071358</td>\n      <td>4</td>\n      <td>0</td>\n      <td>3019</td>\n      <td>0.0</td>\n    </tr>\n    <tr>\n      <th>13601023174257934336</th>\n      <td>767</td>\n      <td>314.5</td>\n      <td>-29.5</td>\n      <td>0</td>\n      <td>0</td>\n      <td>1</td>\n      <td>0</td>\n      <td>47</td>\n      <td>13601023157019344896</td>\n      <td>12</td>\n      <td>197920936</td>\n      <td>0.083611</td>\n      <td>4</td>\n      <td>0</td>\n      <td>3020</td>\n      <td>0.0</td>\n    </tr>\n    <tr>\n      <th>13696722494273093632</th>\n      <td>743</td>\n      <td>307.5</td>\n      <td>-25.5</td>\n      <td>0</td>\n      <td>0</td>\n      <td>1</td>\n      <td>0</td>\n      <td>47</td>\n      <td>13696722484437450752</td>\n      <td>13</td>\n      <td>797254178</td>\n      <td>0.051149</td>\n      <td>3</td>\n      <td>0</td>\n      <td>760</td>\n      <td>0.0</td>\n    </tr>\n  </tbody>\n</table>\n<p>131 rows × 16 columns</p>\n</div>"
     },
     "execution_count": 6,
     "metadata": {},
     "output_type": "execute_result"
    }
   ],
   "source": [
    "result = stars.crossmatch(sfd, algorithm=JoinWithContinuousMap).compute()\n",
    "result"
   ],
   "metadata": {
    "collapsed": false,
    "ExecuteTime": {
     "end_time": "2023-12-01T19:35:17.023221Z",
     "start_time": "2023-12-01T19:35:15.219221Z"
    }
   },
   "id": "cc8215a3d8a4422"
  },
  {
   "cell_type": "markdown",
   "source": [
    "### Validation\n",
    "\n",
    "First, we check that both hipscat indexes and SFD pixel index-order pair are all consistent "
   ],
   "metadata": {
    "collapsed": false
   },
   "id": "ddc0e0accdf0433e"
  },
  {
   "cell_type": "code",
   "execution_count": 7,
   "outputs": [],
   "source": [
    "np.testing.assert_array_equal(\n",
    "    hipscat_id_to_healpix(result[f'_hipscat_index_{SFD_NAME}'], result[f'pixel_Norder_{SFD_NAME}']),\n",
    "    result[f'pixel_Npix_{SFD_NAME}'],\n",
    ")\n",
    "np.testing.assert_array_equal(\n",
    "    hipscat_id_to_healpix(result.index, result[f'pixel_Norder_{SFD_NAME}']),\n",
    "    result[f'pixel_Npix_{SFD_NAME}'],\n",
    ")"
   ],
   "metadata": {
    "collapsed": false,
    "ExecuteTime": {
     "end_time": "2023-12-01T19:35:17.940187Z",
     "start_time": "2023-12-01T19:35:17.930010Z"
    }
   },
   "id": "5148e51dbe701336"
  },
  {
   "cell_type": "markdown",
   "source": [
    "Check that SFD map values are close enough to the ones from `dustmap` module.\n",
    "The difference must be below 16% for fixed order and 1% for multiorder."
   ],
   "metadata": {
    "collapsed": false
   },
   "id": "234fa447104f552d"
  },
  {
   "cell_type": "code",
   "execution_count": 11,
   "outputs": [
    {
     "data": {
      "text/plain": "                      id_small_sky_order1  ra_small_sky_order1  \\\n_hipscat_index                                                   \n12927513300782022656                  760                320.5   \n13187453677775880192                  732                337.5   \n13557123557418336256                  778                313.5   \n12924400840801779712                  758                325.5   \n13250788433850269696                  803                336.5   \n13158407025211736064                  724                323.5   \n13601023174257934336                  767                314.5   \n13488986123334057984                  752                291.5   \n13425161974698737664                  783                286.5   \n13025270726448381952                  731                343.5   \n\n                      dec_small_sky_order1  ra_error_small_sky_order1  \\\n_hipscat_index                                                          \n12927513300782022656                 -53.5                          0   \n13187453677775880192                 -39.5                          0   \n13557123557418336256                 -36.5                          0   \n12924400840801779712                 -53.5                          0   \n13250788433850269696                 -25.5                          0   \n13158407025211736064                 -41.5                          0   \n13601023174257934336                 -29.5                          0   \n13488986123334057984                 -34.5                          0   \n13425161974698737664                 -42.5                          0   \n13025270726448381952                 -52.5                          0   \n\n                      dec_error_small_sky_order1  Norder_small_sky_order1  \\\n_hipscat_index                                                              \n12927513300782022656                           0                        1   \n13187453677775880192                           0                        1   \n13557123557418336256                           0                        1   \n12924400840801779712                           0                        1   \n13250788433850269696                           0                        1   \n13158407025211736064                           0                        1   \n13601023174257934336                           0                        1   \n13488986123334057984                           0                        1   \n13425161974698737664                           0                        1   \n13025270726448381952                           0                        1   \n\n                      Dir_small_sky_order1  Npix_small_sky_order1  \\\n_hipscat_index                                                      \n12927513300782022656                     0                     44   \n13187453677775880192                     0                     45   \n13557123557418336256                     0                     47   \n12924400840801779712                     0                     44   \n13250788433850269696                     0                     45   \n13158407025211736064                     0                     45   \n13601023174257934336                     0                     47   \n13488986123334057984                     0                     46   \n13425161974698737664                     0                     46   \n13025270726448381952                     0                     45   \n\n                      _hipscat_index_sfd_multiorder_map  \\\n_hipscat_index                                            \n12927513300782022656               12927513254976028672   \n13187453677775880192               13187453660801531904   \n13557123557418336256               13557123540372684800   \n12924400840801779712               12924400829615570944   \n13250788433850269696               13250788416779452416   \n13158407025211736064               13158407020316983296   \n13601023174257934336               13601023157019344896   \n13488986123334057984               13488985945805946880   \n13425161974698737664               13425161907153666048   \n13025270726448381952               13025270726427410432   \n\n                      pixel_Norder_sfd_multiorder_map  \\\n_hipscat_index                                          \n12927513300782022656                               12   \n13187453677775880192                               13   \n13557123557418336256                               13   \n12924400840801779712                               13   \n13250788433850269696                               13   \n13158407025211736064                               13   \n13601023174257934336                               12   \n13488986123334057984                               11   \n13425161974698737664                               12   \n13025270726448381952                               15   \n\n                      pixel_Npix_sfd_multiorder_map  ebv_sfd_multiorder_map  \\\n_hipscat_index                                                                \n12927513300782022656                      188120077                0.022748   \n13187453677775880192                      767610831                0.016534   \n13557123557418336256                      789128450                0.058645   \n12924400840801779712                      752299141                0.020073   \n13250788433850269696                      771297399                0.023856   \n13158407025211736064                      765920094                0.026594   \n13601023174257934336                      197920936                0.083611   \n13488986123334057984                       49072645                0.109579   \n13425161974698737664                      195361818                0.081658   \n13025270726448381952                    12130728668                0.011725   \n\n                      Norder_sfd_multiorder_map  Dir_sfd_multiorder_map  \\\n_hipscat_index                                                            \n12927513300782022656                          4                       0   \n13187453677775880192                          4                       0   \n13557123557418336256                          4                       0   \n12924400840801779712                          4                       0   \n13250788433850269696                          4                       0   \n13158407025211736064                          4                       0   \n13601023174257934336                          4                       0   \n13488986123334057984                          4                       0   \n13425161974698737664                          4                       0   \n13025270726448381952                          5                   10000   \n\n                      Npix_sfd_multiorder_map  _DIST      diff  ebv_dustmap  \n_hipscat_index                                                               \n12927513300782022656                     2870    0.0  0.004891     0.022860  \n13187453677775880192                     2928    0.0  0.004392     0.016461  \n13557123557418336256                     3010    0.0  0.003584     0.058856  \n12924400840801779712                     2869    0.0  0.003280     0.020007  \n13250788433850269696                     2942    0.0  0.003099     0.023930  \n13158407025211736064                     2921    0.0  0.003063     0.026513  \n13601023174257934336                     3020    0.0  0.003036     0.083866  \n13488986123334057984                     2995    0.0  0.003009     0.109250  \n13425161974698737664                     2980    0.0  0.003005     0.081412  \n13025270726448381952                    11568    0.0  0.002986     0.011760  ",
      "text/html": "<div>\n<style scoped>\n    .dataframe tbody tr th:only-of-type {\n        vertical-align: middle;\n    }\n\n    .dataframe tbody tr th {\n        vertical-align: top;\n    }\n\n    .dataframe thead th {\n        text-align: right;\n    }\n</style>\n<table border=\"1\" class=\"dataframe\">\n  <thead>\n    <tr style=\"text-align: right;\">\n      <th></th>\n      <th>id_small_sky_order1</th>\n      <th>ra_small_sky_order1</th>\n      <th>dec_small_sky_order1</th>\n      <th>ra_error_small_sky_order1</th>\n      <th>dec_error_small_sky_order1</th>\n      <th>Norder_small_sky_order1</th>\n      <th>Dir_small_sky_order1</th>\n      <th>Npix_small_sky_order1</th>\n      <th>_hipscat_index_sfd_multiorder_map</th>\n      <th>pixel_Norder_sfd_multiorder_map</th>\n      <th>pixel_Npix_sfd_multiorder_map</th>\n      <th>ebv_sfd_multiorder_map</th>\n      <th>Norder_sfd_multiorder_map</th>\n      <th>Dir_sfd_multiorder_map</th>\n      <th>Npix_sfd_multiorder_map</th>\n      <th>_DIST</th>\n      <th>diff</th>\n      <th>ebv_dustmap</th>\n    </tr>\n    <tr>\n      <th>_hipscat_index</th>\n      <th></th>\n      <th></th>\n      <th></th>\n      <th></th>\n      <th></th>\n      <th></th>\n      <th></th>\n      <th></th>\n      <th></th>\n      <th></th>\n      <th></th>\n      <th></th>\n      <th></th>\n      <th></th>\n      <th></th>\n      <th></th>\n      <th></th>\n      <th></th>\n    </tr>\n  </thead>\n  <tbody>\n    <tr>\n      <th>12927513300782022656</th>\n      <td>760</td>\n      <td>320.5</td>\n      <td>-53.5</td>\n      <td>0</td>\n      <td>0</td>\n      <td>1</td>\n      <td>0</td>\n      <td>44</td>\n      <td>12927513254976028672</td>\n      <td>12</td>\n      <td>188120077</td>\n      <td>0.022748</td>\n      <td>4</td>\n      <td>0</td>\n      <td>2870</td>\n      <td>0.0</td>\n      <td>0.004891</td>\n      <td>0.022860</td>\n    </tr>\n    <tr>\n      <th>13187453677775880192</th>\n      <td>732</td>\n      <td>337.5</td>\n      <td>-39.5</td>\n      <td>0</td>\n      <td>0</td>\n      <td>1</td>\n      <td>0</td>\n      <td>45</td>\n      <td>13187453660801531904</td>\n      <td>13</td>\n      <td>767610831</td>\n      <td>0.016534</td>\n      <td>4</td>\n      <td>0</td>\n      <td>2928</td>\n      <td>0.0</td>\n      <td>0.004392</td>\n      <td>0.016461</td>\n    </tr>\n    <tr>\n      <th>13557123557418336256</th>\n      <td>778</td>\n      <td>313.5</td>\n      <td>-36.5</td>\n      <td>0</td>\n      <td>0</td>\n      <td>1</td>\n      <td>0</td>\n      <td>47</td>\n      <td>13557123540372684800</td>\n      <td>13</td>\n      <td>789128450</td>\n      <td>0.058645</td>\n      <td>4</td>\n      <td>0</td>\n      <td>3010</td>\n      <td>0.0</td>\n      <td>0.003584</td>\n      <td>0.058856</td>\n    </tr>\n    <tr>\n      <th>12924400840801779712</th>\n      <td>758</td>\n      <td>325.5</td>\n      <td>-53.5</td>\n      <td>0</td>\n      <td>0</td>\n      <td>1</td>\n      <td>0</td>\n      <td>44</td>\n      <td>12924400829615570944</td>\n      <td>13</td>\n      <td>752299141</td>\n      <td>0.020073</td>\n      <td>4</td>\n      <td>0</td>\n      <td>2869</td>\n      <td>0.0</td>\n      <td>0.003280</td>\n      <td>0.020007</td>\n    </tr>\n    <tr>\n      <th>13250788433850269696</th>\n      <td>803</td>\n      <td>336.5</td>\n      <td>-25.5</td>\n      <td>0</td>\n      <td>0</td>\n      <td>1</td>\n      <td>0</td>\n      <td>45</td>\n      <td>13250788416779452416</td>\n      <td>13</td>\n      <td>771297399</td>\n      <td>0.023856</td>\n      <td>4</td>\n      <td>0</td>\n      <td>2942</td>\n      <td>0.0</td>\n      <td>0.003099</td>\n      <td>0.023930</td>\n    </tr>\n    <tr>\n      <th>13158407025211736064</th>\n      <td>724</td>\n      <td>323.5</td>\n      <td>-41.5</td>\n      <td>0</td>\n      <td>0</td>\n      <td>1</td>\n      <td>0</td>\n      <td>45</td>\n      <td>13158407020316983296</td>\n      <td>13</td>\n      <td>765920094</td>\n      <td>0.026594</td>\n      <td>4</td>\n      <td>0</td>\n      <td>2921</td>\n      <td>0.0</td>\n      <td>0.003063</td>\n      <td>0.026513</td>\n    </tr>\n    <tr>\n      <th>13601023174257934336</th>\n      <td>767</td>\n      <td>314.5</td>\n      <td>-29.5</td>\n      <td>0</td>\n      <td>0</td>\n      <td>1</td>\n      <td>0</td>\n      <td>47</td>\n      <td>13601023157019344896</td>\n      <td>12</td>\n      <td>197920936</td>\n      <td>0.083611</td>\n      <td>4</td>\n      <td>0</td>\n      <td>3020</td>\n      <td>0.0</td>\n      <td>0.003036</td>\n      <td>0.083866</td>\n    </tr>\n    <tr>\n      <th>13488986123334057984</th>\n      <td>752</td>\n      <td>291.5</td>\n      <td>-34.5</td>\n      <td>0</td>\n      <td>0</td>\n      <td>1</td>\n      <td>0</td>\n      <td>46</td>\n      <td>13488985945805946880</td>\n      <td>11</td>\n      <td>49072645</td>\n      <td>0.109579</td>\n      <td>4</td>\n      <td>0</td>\n      <td>2995</td>\n      <td>0.0</td>\n      <td>0.003009</td>\n      <td>0.109250</td>\n    </tr>\n    <tr>\n      <th>13425161974698737664</th>\n      <td>783</td>\n      <td>286.5</td>\n      <td>-42.5</td>\n      <td>0</td>\n      <td>0</td>\n      <td>1</td>\n      <td>0</td>\n      <td>46</td>\n      <td>13425161907153666048</td>\n      <td>12</td>\n      <td>195361818</td>\n      <td>0.081658</td>\n      <td>4</td>\n      <td>0</td>\n      <td>2980</td>\n      <td>0.0</td>\n      <td>0.003005</td>\n      <td>0.081412</td>\n    </tr>\n    <tr>\n      <th>13025270726448381952</th>\n      <td>731</td>\n      <td>343.5</td>\n      <td>-52.5</td>\n      <td>0</td>\n      <td>0</td>\n      <td>1</td>\n      <td>0</td>\n      <td>45</td>\n      <td>13025270726427410432</td>\n      <td>15</td>\n      <td>12130728668</td>\n      <td>0.011725</td>\n      <td>5</td>\n      <td>10000</td>\n      <td>11568</td>\n      <td>0.0</td>\n      <td>0.002986</td>\n      <td>0.011760</td>\n    </tr>\n  </tbody>\n</table>\n</div>"
     },
     "metadata": {},
     "output_type": "display_data"
    },
    {
     "data": {
      "text/plain": "0.0048911734"
     },
     "execution_count": 11,
     "metadata": {},
     "output_type": "execute_result"
    }
   ],
   "source": [
    "# Validate\n",
    "from astropy.coordinates import SkyCoord\n",
    "from dustmaps.sfd import SFDQuery\n",
    "\n",
    "sfd_query = SFDQuery(INPUT_DIR)\n",
    "coord = SkyCoord(ra=result['ra_small_sky_order1'], dec=result['dec_small_sky_order1'], unit='deg')\n",
    "dustmaps_sfd_values = sfd_query(coord)\n",
    "\n",
    "diff = (\n",
    "    np.abs(result[f'ebv_{SFD_NAME}'] - dustmaps_sfd_values)\n",
    "    / np.where(result[f'ebv_{SFD_NAME}'] > dustmaps_sfd_values, result[f'ebv_{SFD_NAME}'], dustmaps_sfd_values)\n",
    ")\n",
    "i = np.argsort(diff)[::-1]\n",
    "display(result.assign(diff=diff, ebv_dustmap=dustmaps_sfd_values).iloc[i[:10]])\n",
    "diff.max()"
   ],
   "metadata": {
    "collapsed": false,
    "ExecuteTime": {
     "end_time": "2023-12-01T19:35:54.850461Z",
     "start_time": "2023-12-01T19:35:54.809220Z"
    }
   },
   "id": "861a6295bfe4d454"
  },
  {
   "cell_type": "code",
   "execution_count": 13,
   "outputs": [
    {
     "data": {
      "text/plain": "(206158430208, 206158430208)"
     },
     "execution_count": 13,
     "metadata": {},
     "output_type": "execute_result"
    }
   ],
   "source": [
    "area17 = 4 ** (17 - sfd._ddf['pixel_Norder'].astype(np.uint64))\n",
    "area17.sum().compute(), 12 * 4 ** 17"
   ],
   "metadata": {
    "collapsed": false,
    "ExecuteTime": {
     "end_time": "2023-12-01T16:55:24.553784Z",
     "start_time": "2023-12-01T16:55:10.332158Z"
    }
   },
   "id": "c3a22c7a7a4502b2"
  },
  {
   "cell_type": "code",
   "execution_count": 14,
   "outputs": [
    {
     "name": "stdout",
     "output_type": "stream",
     "text": [
      "8 0\n",
      "9 0\n",
      "10 0\n",
      "11 0\n",
      "12 0\n",
      "13 0\n",
      "14 0\n",
      "15 0\n",
      "16 0\n",
      "17 0\n"
     ]
    }
   ],
   "source": [
    "import pyarrow.parquet as pq\n",
    "\n",
    "for norder in range(8, 18):\n",
    "    count = (sfd._ddf['pixel_Norder'] == norder).sum().compute()\n",
    "    count_real = pq.read_metadata(PARQUET_DIR / f'pixel_Norder={norder:02d}.parquet').num_rows\n",
    "    print(norder, count - count_real) "
   ],
   "metadata": {
    "collapsed": false,
    "ExecuteTime": {
     "end_time": "2023-12-01T16:57:12.891745Z",
     "start_time": "2023-12-01T16:55:24.594411Z"
    }
   },
   "id": "9ebaa48716c2c02a"
  },
  {
   "cell_type": "code",
   "execution_count": 12,
   "outputs": [
    {
     "data": {
      "text/plain": "0"
     },
     "metadata": {},
     "output_type": "display_data"
    },
    {
     "data": {
      "text/plain": "0"
     },
     "execution_count": 12,
     "metadata": {},
     "output_type": "execute_result"
    }
   ],
   "source": [
    "import dask.array as da\n",
    "\n",
    "index = sfd._ddf['_hipscat_index'].to_dask_array(lengths=True)\n",
    "display(da.sum(da.diff(index) <= 0).compute())\n",
    "index.argmin().compute()"
   ],
   "metadata": {
    "collapsed": false,
    "ExecuteTime": {
     "end_time": "2023-12-01T19:36:58.588490Z",
     "start_time": "2023-12-01T19:36:14.151868Z"
    }
   },
   "id": "a79e2a6ec6883896"
  },
  {
   "cell_type": "code",
   "execution_count": 16,
   "outputs": [
    {
     "data": {
      "text/plain": "0"
     },
     "execution_count": 16,
     "metadata": {},
     "output_type": "execute_result"
    }
   ],
   "source": [
    "from hipscat.pixel_math.hipscat_id import healpix_to_hipscat_id\n",
    "\n",
    "index = sfd._ddf['_hipscat_index'].to_dask_array(lengths=True)\n",
    "diff_index = da.diff(index)\n",
    "diff_index_from_norder = sfd._ddf['pixel_Norder'].to_dask_array(lengths=True).astype(np.uint64).map_blocks(lambda order: healpix_to_hipscat_id(order, 1))[:-1]\n",
    "\n",
    "da.sum((diff_index != diff_index_from_norder).astype(np.uint64)).compute()"
   ],
   "metadata": {
    "collapsed": false,
    "ExecuteTime": {
     "end_time": "2023-12-01T19:41:00.897996Z",
     "start_time": "2023-12-01T19:40:07.235242Z"
    }
   },
   "id": "c674787f1881191e"
  },
  {
   "cell_type": "code",
   "execution_count": null,
   "outputs": [],
   "source": [],
   "metadata": {
    "collapsed": false
   },
   "id": "c79fe2a2b9503878"
  }
 ],
 "metadata": {
  "kernelspec": {
   "display_name": "Python 3",
   "language": "python",
   "name": "python3"
  },
  "language_info": {
   "codemirror_mode": {
    "name": "ipython",
    "version": 2
   },
   "file_extension": ".py",
   "mimetype": "text/x-python",
   "name": "python",
   "nbconvert_exporter": "python",
   "pygments_lexer": "ipython2",
   "version": "2.7.6"
  }
 },
 "nbformat": 4,
 "nbformat_minor": 5
}
